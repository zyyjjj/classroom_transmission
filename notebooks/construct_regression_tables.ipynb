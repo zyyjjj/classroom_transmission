{
 "cells": [
  {
   "cell_type": "code",
   "execution_count": 1,
   "metadata": {},
   "outputs": [],
   "source": [
    "import pandas as pd\n",
    "import joblib\n",
    "from pathlib import Path\n",
    "import sys; sys.path.append(\"../\")\n",
    "from src.run_regression import export_cox_result\n",
    "from stargazer.stargazer import Stargazer, LineLocation\n",
    "\n",
    "# for stargazer compatibility\n",
    "from lifelines.fitters.cox_time_varying_fitter import CoxTimeVaryingFitter\n",
    "from stargazer.starlib import _extract_feature, _merge_dicts\n",
    "from stargazer.translators import register_class\n",
    "from stargazer.label import Label\n",
    "from math import sqrt\n"
   ]
  },
  {
   "cell_type": "code",
   "execution_count": 2,
   "metadata": {},
   "outputs": [],
   "source": [
    "# Create compatibility between Cox model and stargazer\n",
    "\n",
    "\n",
    "# For features that are simple attributes of \"model\", establish the\n",
    "# mapping with internal name:\n",
    "linearmodels_map_base = {\n",
    "    # \"p_values\": \"pvalues\",\n",
    "    \"cov_values\": \"params_\",\n",
    "    \"cov_std_err\": \"standard_errors_\",\n",
    "    # \"r2\": \"rsquared\",\n",
    "    # \"degree_freedom\": \"df_model\",\n",
    "    # \"degree_freedom_resid\": \"df_resid\",\n",
    "    # \"nobs\": \"_n_examples\",\n",
    "}\n",
    "\n",
    "# Mapping for linearmodels key parameters\n",
    "# between-, within- and overall-R² values extracted for potential future stats display in Stargazer\n",
    "# Note: We here use corr_... attributes for the R² as this matches the results obtained in Stata\n",
    "linear_model_map_panel = {\n",
    "    \"between_r2\": \"corr_squared_between\",\n",
    "    \"within_r2\": \"corr_squared_within\",\n",
    "    \"overall_r2\": \"corr_squared_overall\",\n",
    "}\n",
    "\n",
    "# IV specific statistics map\n",
    "linear_model_map_iv = dict()\n",
    "\n",
    "\n",
    "def extract_model_data(model):\n",
    "    data = {}\n",
    "    linearmodels_map = _merge_dicts(linearmodels_map_base, linear_model_map_panel)\n",
    "    data[\"ngroups\"] = f\"{model._n_unique:,.0f}\"\n",
    "    data['nobs'] = f\"{model._n_examples:,.0f}\"\n",
    "\n",
    "    for key, val in linearmodels_map.items():\n",
    "        data[key] = _extract_feature(model, val)\n",
    "\n",
    "    # Common two both FE & IV models\n",
    "    data[\"dependent_variable\"] = model.event_col\n",
    "    data[\"cov_names\"] = model.params_.index.values\n",
    "    data[\"conf_int_low_values\"] = model.confidence_intervals_['95% lower-bound']\n",
    "    data[\"conf_int_high_values\"] = model.confidence_intervals_['95% upper-bound']\n",
    "    # data[\"resid_std_err\"] = sqrt(model.model_ss / model.df_resid)\n",
    "    # data[\"f_statistic\"] = model.f_statistic.stat\n",
    "    data[\"p_values\"] = model.summary['p']\n",
    "    data[\"r2_adj\"] = None\n",
    "    data[\"pseudo_r2\"] = None\n",
    "    data['lr_ratio'] = model.log_likelihood_ratio_test()\n",
    "\n",
    "    return data\n",
    "\n",
    "\n",
    "classes = [\n",
    "    (CoxTimeVaryingFitter, extract_model_data),\n",
    "]\n",
    "\n",
    "for klass, translator in classes:\n",
    "    register_class(klass, translator)\n",
    "    \n",
    "Stargazer._auto_stats = [('n', 'nobs', 'Observations'),\n",
    "                   ('ngroups', 'ngroups', 'N. of groups')]\n",
    "    \n",
    "\n"
   ]
  },
  {
   "cell_type": "code",
   "execution_count": 3,
   "metadata": {},
   "outputs": [],
   "source": [
    "pickle_path = Path(\"data/pickles/\")"
   ]
  },
  {
   "cell_type": "code",
   "execution_count": 4,
   "metadata": {},
   "outputs": [],
   "source": [
    "fa_21 = joblib.load(pickle_path / 'cox_fa21.pkl')\n",
    "sp_22 = joblib.load(pickle_path / 'cox_sp22.pkl')\n",
    "pooled = joblib.load(pickle_path / 'cox_pooled.pkl')"
   ]
  },
  {
   "cell_type": "code",
   "execution_count": 5,
   "metadata": {},
   "outputs": [],
   "source": [
    "model_table = Stargazer([fa_21, sp_22, pooled])\n",
    "\n",
    "model_table.custom_columns(['Fall 2021', 'Spring 2022', 'Pooled'])\n",
    "model_table.show_model_numbers(False)\n",
    "model_table.rename_covariates({\n",
    "    'academic_career_GM' : 'GM',\n",
    "    'academic_career_GR' : 'GR',\n",
    "    'academic_career_LA' : 'LA',\n",
    "    'academic_career_UG_A' : 'UG-A',\n",
    "    'academic_career_UG_G' : 'UG-G',\n",
    "    'academic_career_VM' : 'VM',\n",
    "    'class_positivity' : 'Class Exposure',\n",
    "    'current_gender_M' : 'Sex (M)',\n",
    "})\n",
    "\n",
    "model_table.covariate_order(['class_positivity', 'current_gender_M', \n",
    "                             'academic_career_UG_G', 'academic_career_UG_A',\n",
    "                             'academic_career_GM', 'academic_career_GR',\n",
    "                             'academic_career_LA', 'academic_career_VM'])\n",
    "\n",
    "model_table.dep_var_name = None\n"
   ]
  },
  {
   "cell_type": "code",
   "execution_count": 17,
   "metadata": {},
   "outputs": [
    {
     "name": "stdout",
     "output_type": "stream",
     "text": [
      "\\begin{table}[!htbp] \\centering\n",
      "\\begin{tabular}{@{\\extracolsep{5pt}}lccc}\n",
      "\\\\[-1.8ex]\\hline\n",
      "\\hline \\\\[-1.8ex]\n",
      "\\\\[-1.8ex] & \\multicolumn{1}{c}{Fall 2021} & \\multicolumn{1}{c}{Spring 2022} & \\multicolumn{1}{c}{Pooled}  \\\\\n",
      "\\hline \\\\[-1.8ex]\n",
      " Class Exposure & 1.855$^{***}$ & 0.266$^{}$ & 1.660$^{***}$ \\\\\n",
      "& (0.199) & (0.894) & (0.193) \\\\\n",
      " Sex (M) & 0.063$^{}$ & -0.067$^{}$ & 0.038$^{}$ \\\\\n",
      "& (0.082) & (0.145) & (0.071) \\\\\n",
      " UG-G & 1.480$^{***}$ & 0.876$^{***}$ & 1.337$^{***}$ \\\\\n",
      "& (0.090) & (0.161) & (0.078) \\\\\n",
      " UG-A & 0.732$^{***}$ & -0.242$^{}$ & 0.545$^{***}$ \\\\\n",
      "& (0.161) & (0.420) & (0.149) \\\\\n",
      " GM & 0.158$^{}$ & 0.313$^{}$ & 0.202$^{}$ \\\\\n",
      "& (0.267) & (0.392) & (0.220) \\\\\n",
      " GR & -0.930$^{**}$ & -0.745$^{*}$ & -0.781$^{***}$ \\\\\n",
      "& (0.413) & (0.421) & (0.294) \\\\\n",
      " LA & 0.570$^{***}$ & 0.080$^{}$ & 0.413$^{**}$ \\\\\n",
      "& (0.203) & (0.367) & (0.178) \\\\\n",
      " VM & 0.250$^{}$ & -0.540$^{}$ & 0.061$^{}$ \\\\\n",
      "& (0.309) & (0.589) & (0.274) \\\\\n",
      "\\hline \\\\[-1.8ex]\n",
      " Observations & 1,771,641 & 163,161 & 1,934,802 \\\\\n",
      " N. of groups & 17,479 & 11,734 & 18,552 \\\\\n",
      "\\hline\n",
      "\\hline \\\\[-1.8ex]\n",
      "\\textit{Note:} & \\multicolumn{3}{r}{$^{*}$p$<$0.1; $^{**}$p$<$0.05; $^{***}$p$<$0.01} \\\\\n",
      "\\end{tabular}\n",
      "\\end{table}\n"
     ]
    }
   ],
   "source": [
    "print(model_table.render_latex())"
   ]
  }
 ],
 "metadata": {
  "kernelspec": {
   "display_name": "Python 3",
   "language": "python",
   "name": "python3"
  },
  "language_info": {
   "codemirror_mode": {
    "name": "ipython",
    "version": 3
   },
   "file_extension": ".py",
   "mimetype": "text/x-python",
   "name": "python",
   "nbconvert_exporter": "python",
   "pygments_lexer": "ipython3",
   "version": "3.11.9"
  }
 },
 "nbformat": 4,
 "nbformat_minor": 2
}
