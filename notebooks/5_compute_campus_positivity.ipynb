{
 "cells": [
  {
   "cell_type": "markdown",
   "metadata": {},
   "source": [
    "# Overview:\n",
    "\n",
    "The goal of this analysis is to examine whether there is evidence for classroom transmission. We run a logistic regression to predict infection status based on several features, including:\n",
    "* fraction of classes positive (to explain)\n",
    "* greek and athlete affiliations,\n",
    "* ..."
   ]
  },
  {
   "cell_type": "code",
   "execution_count": 2,
   "metadata": {},
   "outputs": [],
   "source": [
    "import numpy as np\n",
    "import matplotlib.pyplot as plt\n",
    "import math\n",
    "import datetime as dt\n",
    "import pandas as pd"
   ]
  },
  {
   "cell_type": "code",
   "execution_count": 3,
   "metadata": {},
   "outputs": [],
   "source": [
    "all_students_features = pd.read_csv('do_not_touch/all_students_features_trunc_corrected.csv')\n",
    "# we only use the \"positives_identified_on_this_day\" column in this df\n",
    "# class positivity isn't filled into this df yet, it exists separately; we will combine them later"
   ]
  },
  {
   "cell_type": "code",
   "execution_count": 4,
   "metadata": {},
   "outputs": [
    {
     "data": {
      "text/html": [
       "<div>\n",
       "<style scoped>\n",
       "    .dataframe tbody tr th:only-of-type {\n",
       "        vertical-align: middle;\n",
       "    }\n",
       "\n",
       "    .dataframe tbody tr th {\n",
       "        vertical-align: top;\n",
       "    }\n",
       "\n",
       "    .dataframe thead th {\n",
       "        text-align: right;\n",
       "    }\n",
       "</style>\n",
       "<table border=\"1\" class=\"dataframe\">\n",
       "  <thead>\n",
       "    <tr style=\"text-align: right;\">\n",
       "      <th></th>\n",
       "      <th>Unnamed: 0</th>\n",
       "      <th>employee_id_hash</th>\n",
       "      <th>is_greek</th>\n",
       "      <th>is_athlete</th>\n",
       "      <th>academic_career</th>\n",
       "      <th>academic_plan1</th>\n",
       "      <th>hd_notify_date</th>\n",
       "      <th>day_idx</th>\n",
       "      <th>positives_identified_on_this_day</th>\n",
       "      <th>infected_on_this_day</th>\n",
       "      <th>previous_infection</th>\n",
       "      <th>week_idx</th>\n",
       "      <th>biweek_idx</th>\n",
       "      <th>class_prevalence_on_this_day</th>\n",
       "    </tr>\n",
       "  </thead>\n",
       "  <tbody>\n",
       "    <tr>\n",
       "      <th>0</th>\n",
       "      <td>0</td>\n",
       "      <td>0x0001CEED0A3584312155FD3B695D2EB6</td>\n",
       "      <td>0</td>\n",
       "      <td>0</td>\n",
       "      <td>UG</td>\n",
       "      <td>ESAG-BS</td>\n",
       "      <td>NaN</td>\n",
       "      <td>2021-08-26</td>\n",
       "      <td>23</td>\n",
       "      <td>0</td>\n",
       "      <td>0</td>\n",
       "      <td>0</td>\n",
       "      <td>0</td>\n",
       "      <td>NaN</td>\n",
       "    </tr>\n",
       "    <tr>\n",
       "      <th>1</th>\n",
       "      <td>1</td>\n",
       "      <td>0x0001CEED0A3584312155FD3B695D2EB6</td>\n",
       "      <td>0</td>\n",
       "      <td>0</td>\n",
       "      <td>UG</td>\n",
       "      <td>ESAG-BS</td>\n",
       "      <td>NaN</td>\n",
       "      <td>2021-08-27</td>\n",
       "      <td>43</td>\n",
       "      <td>0</td>\n",
       "      <td>0</td>\n",
       "      <td>0</td>\n",
       "      <td>0</td>\n",
       "      <td>NaN</td>\n",
       "    </tr>\n",
       "    <tr>\n",
       "      <th>2</th>\n",
       "      <td>2</td>\n",
       "      <td>0x0001CEED0A3584312155FD3B695D2EB6</td>\n",
       "      <td>0</td>\n",
       "      <td>0</td>\n",
       "      <td>UG</td>\n",
       "      <td>ESAG-BS</td>\n",
       "      <td>NaN</td>\n",
       "      <td>2021-08-28</td>\n",
       "      <td>57</td>\n",
       "      <td>0</td>\n",
       "      <td>0</td>\n",
       "      <td>0</td>\n",
       "      <td>0</td>\n",
       "      <td>NaN</td>\n",
       "    </tr>\n",
       "    <tr>\n",
       "      <th>3</th>\n",
       "      <td>3</td>\n",
       "      <td>0x0001CEED0A3584312155FD3B695D2EB6</td>\n",
       "      <td>0</td>\n",
       "      <td>0</td>\n",
       "      <td>UG</td>\n",
       "      <td>ESAG-BS</td>\n",
       "      <td>NaN</td>\n",
       "      <td>2021-08-29</td>\n",
       "      <td>55</td>\n",
       "      <td>0</td>\n",
       "      <td>0</td>\n",
       "      <td>0</td>\n",
       "      <td>0</td>\n",
       "      <td>NaN</td>\n",
       "    </tr>\n",
       "    <tr>\n",
       "      <th>4</th>\n",
       "      <td>4</td>\n",
       "      <td>0x0001CEED0A3584312155FD3B695D2EB6</td>\n",
       "      <td>0</td>\n",
       "      <td>0</td>\n",
       "      <td>UG</td>\n",
       "      <td>ESAG-BS</td>\n",
       "      <td>NaN</td>\n",
       "      <td>2021-08-30</td>\n",
       "      <td>39</td>\n",
       "      <td>0</td>\n",
       "      <td>0</td>\n",
       "      <td>0</td>\n",
       "      <td>0</td>\n",
       "      <td>NaN</td>\n",
       "    </tr>\n",
       "  </tbody>\n",
       "</table>\n",
       "</div>"
      ],
      "text/plain": [
       "   Unnamed: 0                    employee_id_hash  is_greek  is_athlete  \\\n",
       "0           0  0x0001CEED0A3584312155FD3B695D2EB6         0           0   \n",
       "1           1  0x0001CEED0A3584312155FD3B695D2EB6         0           0   \n",
       "2           2  0x0001CEED0A3584312155FD3B695D2EB6         0           0   \n",
       "3           3  0x0001CEED0A3584312155FD3B695D2EB6         0           0   \n",
       "4           4  0x0001CEED0A3584312155FD3B695D2EB6         0           0   \n",
       "\n",
       "  academic_career academic_plan1 hd_notify_date     day_idx  \\\n",
       "0              UG        ESAG-BS            NaN  2021-08-26   \n",
       "1              UG        ESAG-BS            NaN  2021-08-27   \n",
       "2              UG        ESAG-BS            NaN  2021-08-28   \n",
       "3              UG        ESAG-BS            NaN  2021-08-29   \n",
       "4              UG        ESAG-BS            NaN  2021-08-30   \n",
       "\n",
       "   positives_identified_on_this_day  infected_on_this_day  previous_infection  \\\n",
       "0                                23                     0                   0   \n",
       "1                                43                     0                   0   \n",
       "2                                57                     0                   0   \n",
       "3                                55                     0                   0   \n",
       "4                                39                     0                   0   \n",
       "\n",
       "   week_idx  biweek_idx  class_prevalence_on_this_day  \n",
       "0         0           0                           NaN  \n",
       "1         0           0                           NaN  \n",
       "2         0           0                           NaN  \n",
       "3         0           0                           NaN  \n",
       "4         0           0                           NaN  "
      ]
     },
     "execution_count": 4,
     "metadata": {},
     "output_type": "execute_result"
    }
   ],
   "source": [
    "all_students_features.head()"
   ]
  },
  {
   "cell_type": "code",
   "execution_count": null,
   "metadata": {},
   "outputs": [],
   "source": [
    "# construct a list of \"true positives\" on each day\n",
    "# 1. get the time series for `positives_identified_on_this_day` for one person (since it's the same for all people)\n",
    "# 2. compute the running sum that accounts for underlying positives, i.e., positives identified on neighboring days"
   ]
  },
  {
   "cell_type": "code",
   "execution_count": 5,
   "metadata": {},
   "outputs": [],
   "source": [
    "emplid = '0x0001CEED0A3584312155FD3B695D2EB6'\n",
    "hd_positives_all = all_students_features.query('employee_id_hash == @emplid')[['day_idx','positives_identified_on_this_day']]"
   ]
  },
  {
   "cell_type": "code",
   "execution_count": 6,
   "metadata": {},
   "outputs": [
    {
     "data": {
      "text/html": [
       "<div>\n",
       "<style scoped>\n",
       "    .dataframe tbody tr th:only-of-type {\n",
       "        vertical-align: middle;\n",
       "    }\n",
       "\n",
       "    .dataframe tbody tr th {\n",
       "        vertical-align: top;\n",
       "    }\n",
       "\n",
       "    .dataframe thead th {\n",
       "        text-align: right;\n",
       "    }\n",
       "</style>\n",
       "<table border=\"1\" class=\"dataframe\">\n",
       "  <thead>\n",
       "    <tr style=\"text-align: right;\">\n",
       "      <th></th>\n",
       "      <th>day_idx</th>\n",
       "      <th>positives_identified_on_this_day</th>\n",
       "    </tr>\n",
       "  </thead>\n",
       "  <tbody>\n",
       "    <tr>\n",
       "      <th>0</th>\n",
       "      <td>2021-08-26</td>\n",
       "      <td>23</td>\n",
       "    </tr>\n",
       "    <tr>\n",
       "      <th>1</th>\n",
       "      <td>2021-08-27</td>\n",
       "      <td>43</td>\n",
       "    </tr>\n",
       "    <tr>\n",
       "      <th>2</th>\n",
       "      <td>2021-08-28</td>\n",
       "      <td>57</td>\n",
       "    </tr>\n",
       "    <tr>\n",
       "      <th>3</th>\n",
       "      <td>2021-08-29</td>\n",
       "      <td>55</td>\n",
       "    </tr>\n",
       "    <tr>\n",
       "      <th>4</th>\n",
       "      <td>2021-08-30</td>\n",
       "      <td>39</td>\n",
       "    </tr>\n",
       "    <tr>\n",
       "      <th>...</th>\n",
       "      <td>...</td>\n",
       "      <td>...</td>\n",
       "    </tr>\n",
       "    <tr>\n",
       "      <th>99</th>\n",
       "      <td>2021-12-03</td>\n",
       "      <td>14</td>\n",
       "    </tr>\n",
       "    <tr>\n",
       "      <th>100</th>\n",
       "      <td>2021-12-04</td>\n",
       "      <td>0</td>\n",
       "    </tr>\n",
       "    <tr>\n",
       "      <th>101</th>\n",
       "      <td>2021-12-05</td>\n",
       "      <td>7</td>\n",
       "    </tr>\n",
       "    <tr>\n",
       "      <th>102</th>\n",
       "      <td>2021-12-06</td>\n",
       "      <td>12</td>\n",
       "    </tr>\n",
       "    <tr>\n",
       "      <th>103</th>\n",
       "      <td>2021-12-07</td>\n",
       "      <td>20</td>\n",
       "    </tr>\n",
       "  </tbody>\n",
       "</table>\n",
       "<p>104 rows × 2 columns</p>\n",
       "</div>"
      ],
      "text/plain": [
       "        day_idx  positives_identified_on_this_day\n",
       "0    2021-08-26                                23\n",
       "1    2021-08-27                                43\n",
       "2    2021-08-28                                57\n",
       "3    2021-08-29                                55\n",
       "4    2021-08-30                                39\n",
       "..          ...                               ...\n",
       "99   2021-12-03                                14\n",
       "100  2021-12-04                                 0\n",
       "101  2021-12-05                                 7\n",
       "102  2021-12-06                                12\n",
       "103  2021-12-07                                20\n",
       "\n",
       "[104 rows x 2 columns]"
      ]
     },
     "execution_count": 6,
     "metadata": {},
     "output_type": "execute_result"
    }
   ],
   "source": [
    "hd_positives_all"
   ]
  },
  {
   "cell_type": "code",
   "execution_count": 7,
   "metadata": {},
   "outputs": [],
   "source": [
    "hd_positives_all['underlying_pos'] = ''\n",
    "hd_positives_all['underlying_pos_forward_backward'] = ''\n",
    "\n",
    "# TODO: later we want to do sensitivity analysis on this 7 number\n",
    "\n",
    "for t in range(104):\n",
    "    hd_positives_all.at[t,'underlying_pos']=sum(hd_positives_all['positives_identified_on_this_day'][t:min(104,t+7)])\n",
    "    hd_positives_all.at[t,'underlying_pos_forward_backward']=sum(hd_positives_all['positives_identified_on_this_day'][max(0,t-6):min(104,t+7)])"
   ]
  },
  {
   "cell_type": "code",
   "execution_count": 11,
   "metadata": {},
   "outputs": [
    {
     "data": {
      "text/html": [
       "<div>\n",
       "<style scoped>\n",
       "    .dataframe tbody tr th:only-of-type {\n",
       "        vertical-align: middle;\n",
       "    }\n",
       "\n",
       "    .dataframe tbody tr th {\n",
       "        vertical-align: top;\n",
       "    }\n",
       "\n",
       "    .dataframe thead th {\n",
       "        text-align: right;\n",
       "    }\n",
       "</style>\n",
       "<table border=\"1\" class=\"dataframe\">\n",
       "  <thead>\n",
       "    <tr style=\"text-align: right;\">\n",
       "      <th></th>\n",
       "      <th>day_idx</th>\n",
       "      <th>positives_identified_on_this_day</th>\n",
       "      <th>underlying_pos</th>\n",
       "      <th>underlying_pos_forward_backward</th>\n",
       "    </tr>\n",
       "  </thead>\n",
       "  <tbody>\n",
       "    <tr>\n",
       "      <th>0</th>\n",
       "      <td>2021-08-26</td>\n",
       "      <td>23</td>\n",
       "      <td>296</td>\n",
       "      <td>296</td>\n",
       "    </tr>\n",
       "    <tr>\n",
       "      <th>1</th>\n",
       "      <td>2021-08-27</td>\n",
       "      <td>43</td>\n",
       "      <td>315</td>\n",
       "      <td>338</td>\n",
       "    </tr>\n",
       "    <tr>\n",
       "      <th>2</th>\n",
       "      <td>2021-08-28</td>\n",
       "      <td>57</td>\n",
       "      <td>298</td>\n",
       "      <td>364</td>\n",
       "    </tr>\n",
       "    <tr>\n",
       "      <th>3</th>\n",
       "      <td>2021-08-29</td>\n",
       "      <td>55</td>\n",
       "      <td>270</td>\n",
       "      <td>393</td>\n",
       "    </tr>\n",
       "    <tr>\n",
       "      <th>4</th>\n",
       "      <td>2021-08-30</td>\n",
       "      <td>39</td>\n",
       "      <td>219</td>\n",
       "      <td>397</td>\n",
       "    </tr>\n",
       "  </tbody>\n",
       "</table>\n",
       "</div>"
      ],
      "text/plain": [
       "      day_idx  positives_identified_on_this_day underlying_pos  \\\n",
       "0  2021-08-26                                23            296   \n",
       "1  2021-08-27                                43            315   \n",
       "2  2021-08-28                                57            298   \n",
       "3  2021-08-29                                55            270   \n",
       "4  2021-08-30                                39            219   \n",
       "\n",
       "  underlying_pos_forward_backward  \n",
       "0                             296  \n",
       "1                             338  \n",
       "2                             364  \n",
       "3                             393  \n",
       "4                             397  "
      ]
     },
     "execution_count": 11,
     "metadata": {},
     "output_type": "execute_result"
    }
   ],
   "source": [
    "hd_positives_all.head()"
   ]
  },
  {
   "cell_type": "code",
   "execution_count": 8,
   "metadata": {},
   "outputs": [],
   "source": [
    "all_students_features['underlying_positives_on_this_day'] = ''\n",
    "all_students_features['underlying_positives_on_this_day_forward_backward'] = ''"
   ]
  },
  {
   "cell_type": "code",
   "execution_count": 14,
   "metadata": {},
   "outputs": [],
   "source": [
    "for idx, row in all_students_features.iterrows():\n",
    "    day_idx = row['day_idx']\n",
    "    if row['infected_on_this_day']:\n",
    "        all_students_features.at[idx, 'underlying_positives_on_this_day'] = \\\n",
    "            float(hd_positives_all[hd_positives_all['day_idx'] == day_idx]['underlying_pos'].item() - 1)\n",
    "        all_students_features.at[idx, 'underlying_positives_on_this_day_forward_backward'] = \\\n",
    "            float(hd_positives_all[hd_positives_all['day_idx'] == day_idx]['underlying_pos_forward_backward'].item() - 1)\n",
    "    else:\n",
    "        all_students_features.at[idx, 'underlying_positives_on_this_day'] = \\\n",
    "            float(hd_positives_all[hd_positives_all['day_idx'] == day_idx]['underlying_pos'].item())\n",
    "        all_students_features.at[idx, 'underlying_positives_on_this_day_forward_backward'] = \\\n",
    "            float(hd_positives_all[hd_positives_all['day_idx'] == day_idx]['underlying_pos_forward_backward'].item())\n"
   ]
  },
  {
   "cell_type": "code",
   "execution_count": 18,
   "metadata": {},
   "outputs": [
    {
     "data": {
      "text/html": [
       "<div>\n",
       "<style scoped>\n",
       "    .dataframe tbody tr th:only-of-type {\n",
       "        vertical-align: middle;\n",
       "    }\n",
       "\n",
       "    .dataframe tbody tr th {\n",
       "        vertical-align: top;\n",
       "    }\n",
       "\n",
       "    .dataframe thead th {\n",
       "        text-align: right;\n",
       "    }\n",
       "</style>\n",
       "<table border=\"1\" class=\"dataframe\">\n",
       "  <thead>\n",
       "    <tr style=\"text-align: right;\">\n",
       "      <th></th>\n",
       "      <th>underlying_positives_on_this_day</th>\n",
       "      <th>underlying_positives_on_this_day_forward_backward</th>\n",
       "    </tr>\n",
       "  </thead>\n",
       "  <tbody>\n",
       "    <tr>\n",
       "      <th>0</th>\n",
       "      <td>296</td>\n",
       "      <td>296</td>\n",
       "    </tr>\n",
       "    <tr>\n",
       "      <th>1</th>\n",
       "      <td>315</td>\n",
       "      <td>338</td>\n",
       "    </tr>\n",
       "    <tr>\n",
       "      <th>2</th>\n",
       "      <td>298</td>\n",
       "      <td>364</td>\n",
       "    </tr>\n",
       "    <tr>\n",
       "      <th>3</th>\n",
       "      <td>270</td>\n",
       "      <td>393</td>\n",
       "    </tr>\n",
       "    <tr>\n",
       "      <th>4</th>\n",
       "      <td>219</td>\n",
       "      <td>397</td>\n",
       "    </tr>\n",
       "  </tbody>\n",
       "</table>\n",
       "</div>"
      ],
      "text/plain": [
       "  underlying_positives_on_this_day  \\\n",
       "0                              296   \n",
       "1                              315   \n",
       "2                              298   \n",
       "3                              270   \n",
       "4                              219   \n",
       "\n",
       "  underlying_positives_on_this_day_forward_backward  \n",
       "0                                               296  \n",
       "1                                               338  \n",
       "2                                               364  \n",
       "3                                               393  \n",
       "4                                               397  "
      ]
     },
     "execution_count": 18,
     "metadata": {},
     "output_type": "execute_result"
    }
   ],
   "source": [
    "res = all_students_features[['underlying_positives_on_this_day', 'underlying_positives_on_this_day_forward_backward']]\n",
    "res.head()"
   ]
  },
  {
   "cell_type": "code",
   "execution_count": 21,
   "metadata": {},
   "outputs": [
    {
     "name": "stderr",
     "output_type": "stream",
     "text": [
      "C:\\Users\\yz685\\Anaconda3\\lib\\site-packages\\pandas\\core\\frame.py:4125: SettingWithCopyWarning: \n",
      "A value is trying to be set on a copy of a slice from a DataFrame\n",
      "\n",
      "See the caveats in the documentation: https://pandas.pydata.org/pandas-docs/stable/user_guide/indexing.html#returning-a-view-versus-a-copy\n",
      "  return super().rename(\n"
     ]
    }
   ],
   "source": [
    "res.rename(columns = {\n",
    "    \"underlying_positives_on_this_day\": \"campus_positivity_backward\",\n",
    "    \"underlying_positives_on_this_day_forward_backward\": \"campus_positivity_forward_backward\"\n",
    "}, inplace=True)"
   ]
  },
  {
   "cell_type": "code",
   "execution_count": 24,
   "metadata": {},
   "outputs": [],
   "source": [
    "res.to_csv('do_not_touch/campus_positivity.csv')"
   ]
  },
  {
   "cell_type": "code",
   "execution_count": 29,
   "metadata": {},
   "outputs": [
    {
     "data": {
      "image/png": "[encoded data removed]",
      "text/plain": [
       "<Figure size 432x288 with 1 Axes>"
      ]
     },
     "metadata": {
      "needs_background": "light"
     },
     "output_type": "display_data"
    }
   ],
   "source": [
    "import matplotlib.dates as dates\n",
    "\n",
    "idx = pd.date_range('2021-08-26', '2021-12-07')\n",
    "\n",
    "# plot backward campus positivity\n",
    "\n",
    "fig, ax = plt.subplots()\n",
    "ax.plot_date(idx.to_pydatetime(), hd_positives_all['underlying_pos'], '-')\n",
    "plt.gcf().autofmt_xdate()\n",
    "plt.title('# underlying positives on campus (Aug 26 - Dec 7, 2021)')\n",
    "\n",
    "plt.tight_layout()\n",
    "plt.show()"
   ]
  },
  {
   "cell_type": "code",
   "execution_count": 30,
   "metadata": {},
   "outputs": [
    {
     "data": {
      "image/png": "[encoded data removed]",
      "text/plain": [
       "<Figure size 432x288 with 1 Axes>"
      ]
     },
     "metadata": {
      "needs_background": "light"
     },
     "output_type": "display_data"
    }
   ],
   "source": [
    "# plot forward-backward campus positivity\n",
    "\n",
    "fig, ax = plt.subplots()\n",
    "ax.plot_date(idx.to_pydatetime(), hd_positives_all['underlying_pos_forward_backward'], '-')\n",
    "plt.gcf().autofmt_xdate()\n",
    "plt.title('# underlying positives on campus (Aug 26 - Dec 7, 2021)')\n",
    "\n",
    "plt.tight_layout()\n",
    "plt.show()"
   ]
  },
  {
   "cell_type": "code",
   "execution_count": 32,
   "metadata": {},
   "outputs": [
    {
     "data": {
      "text/plain": [
       "78.59615384615384"
      ]
     },
     "execution_count": 32,
     "metadata": {},
     "output_type": "execute_result"
    }
   ],
   "source": [
    "hd_positives_all['underlying_pos_forward_backward'].mean()"
   ]
  },
  {
   "cell_type": "code",
   "execution_count": 34,
   "metadata": {},
   "outputs": [
    {
     "data": {
      "text/plain": [
       "107.69054183445017"
      ]
     },
     "execution_count": 34,
     "metadata": {},
     "output_type": "execute_result"
    }
   ],
   "source": [
    "hd_positives_all['underlying_pos_forward_backward'].std()"
   ]
  },
  {
   "cell_type": "code",
   "execution_count": null,
   "metadata": {},
   "outputs": [],
   "source": []
  }
 ],
 "metadata": {
  "kernelspec": {
   "display_name": "bope_pca",
   "language": "python",
   "name": "python3"
  },
  "language_info": {
   "codemirror_mode": {
    "name": "ipython",
    "version": 3
   },
   "file_extension": ".py",
   "mimetype": "text/x-python",
   "name": "python",
   "nbconvert_exporter": "python",
   "pygments_lexer": "ipython3",
   "version": "3.9.15 (main, Nov 24 2022, 14:31:59) \n[GCC 11.2.0]"
  },
  "vscode": {
   "interpreter": {
    "hash": "f178f7686bb85c5c6e141a85fd4c17c3082d63b89f6cfaecdf98c22c0047a219"
   }
  }
 },
 "nbformat": 4,
 "nbformat_minor": 4
}
