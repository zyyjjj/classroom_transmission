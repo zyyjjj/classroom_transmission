{
 "cells": [
  {
   "cell_type": "code",
   "execution_count": 1,
   "metadata": {},
   "outputs": [],
   "source": [
    "import numpy as np\n",
    "import matplotlib.pyplot as plt\n",
    "import math\n",
    "import datetime as dt\n",
    "import pandas as pd\n",
    "import statsmodels.api as sm\n",
    "import statsmodels.formula.api as smf"
   ]
  },
  {
   "cell_type": "markdown",
   "metadata": {},
   "source": [
    "# Load data"
   ]
  },
  {
   "cell_type": "code",
   "execution_count": 2,
   "metadata": {},
   "outputs": [],
   "source": [
    "# get processed dataset\n",
    "all_students_features = pd.read_csv('all_students_features_0904.csv')"
   ]
  },
  {
   "cell_type": "code",
   "execution_count": 3,
   "metadata": {},
   "outputs": [
    {
     "name": "stdout",
     "output_type": "stream",
     "text": [
      "(2891563, 16)\n"
     ]
    },
    {
     "data": {
      "text/html": [
       "<div>\n",
       "<style scoped>\n",
       "    .dataframe tbody tr th:only-of-type {\n",
       "        vertical-align: middle;\n",
       "    }\n",
       "\n",
       "    .dataframe tbody tr th {\n",
       "        vertical-align: top;\n",
       "    }\n",
       "\n",
       "    .dataframe thead th {\n",
       "        text-align: right;\n",
       "    }\n",
       "</style>\n",
       "<table border=\"1\" class=\"dataframe\">\n",
       "  <thead>\n",
       "    <tr style=\"text-align: right;\">\n",
       "      <th></th>\n",
       "      <th>Unnamed: 0</th>\n",
       "      <th>employee_id_hash</th>\n",
       "      <th>is_greek</th>\n",
       "      <th>is_athlete</th>\n",
       "      <th>academic_career</th>\n",
       "      <th>academic_plan1</th>\n",
       "      <th>hd_notify_date</th>\n",
       "      <th>day_idx</th>\n",
       "      <th>positives_identified_on_this_day</th>\n",
       "      <th>infected_on_this_day</th>\n",
       "      <th>previous_infection</th>\n",
       "      <th>week_idx</th>\n",
       "      <th>biweek_idx</th>\n",
       "      <th>class_positivity_in_previous_week</th>\n",
       "      <th>underlying_positives_on_this_day</th>\n",
       "      <th>underlying_positives_on_this_day_forward_backward</th>\n",
       "    </tr>\n",
       "  </thead>\n",
       "  <tbody>\n",
       "    <tr>\n",
       "      <th>0</th>\n",
       "      <td>0</td>\n",
       "      <td>0x0001CEED0A3584312155FD3B695D2EB6</td>\n",
       "      <td>0</td>\n",
       "      <td>0</td>\n",
       "      <td>UG</td>\n",
       "      <td>ESAG-BS</td>\n",
       "      <td>NaN</td>\n",
       "      <td>2021-08-26</td>\n",
       "      <td>23</td>\n",
       "      <td>0</td>\n",
       "      <td>0</td>\n",
       "      <td>0</td>\n",
       "      <td>0</td>\n",
       "      <td>0.0</td>\n",
       "      <td>296.0</td>\n",
       "      <td>296.0</td>\n",
       "    </tr>\n",
       "    <tr>\n",
       "      <th>1</th>\n",
       "      <td>1</td>\n",
       "      <td>0x0001CEED0A3584312155FD3B695D2EB6</td>\n",
       "      <td>0</td>\n",
       "      <td>0</td>\n",
       "      <td>UG</td>\n",
       "      <td>ESAG-BS</td>\n",
       "      <td>NaN</td>\n",
       "      <td>2021-08-27</td>\n",
       "      <td>43</td>\n",
       "      <td>0</td>\n",
       "      <td>0</td>\n",
       "      <td>0</td>\n",
       "      <td>0</td>\n",
       "      <td>0.0</td>\n",
       "      <td>315.0</td>\n",
       "      <td>338.0</td>\n",
       "    </tr>\n",
       "    <tr>\n",
       "      <th>2</th>\n",
       "      <td>2</td>\n",
       "      <td>0x0001CEED0A3584312155FD3B695D2EB6</td>\n",
       "      <td>0</td>\n",
       "      <td>0</td>\n",
       "      <td>UG</td>\n",
       "      <td>ESAG-BS</td>\n",
       "      <td>NaN</td>\n",
       "      <td>2021-08-28</td>\n",
       "      <td>57</td>\n",
       "      <td>0</td>\n",
       "      <td>0</td>\n",
       "      <td>0</td>\n",
       "      <td>0</td>\n",
       "      <td>0.0</td>\n",
       "      <td>298.0</td>\n",
       "      <td>364.0</td>\n",
       "    </tr>\n",
       "    <tr>\n",
       "      <th>3</th>\n",
       "      <td>3</td>\n",
       "      <td>0x0001CEED0A3584312155FD3B695D2EB6</td>\n",
       "      <td>0</td>\n",
       "      <td>0</td>\n",
       "      <td>UG</td>\n",
       "      <td>ESAG-BS</td>\n",
       "      <td>NaN</td>\n",
       "      <td>2021-08-29</td>\n",
       "      <td>55</td>\n",
       "      <td>0</td>\n",
       "      <td>0</td>\n",
       "      <td>0</td>\n",
       "      <td>0</td>\n",
       "      <td>0.0</td>\n",
       "      <td>270.0</td>\n",
       "      <td>393.0</td>\n",
       "    </tr>\n",
       "    <tr>\n",
       "      <th>4</th>\n",
       "      <td>4</td>\n",
       "      <td>0x0001CEED0A3584312155FD3B695D2EB6</td>\n",
       "      <td>0</td>\n",
       "      <td>0</td>\n",
       "      <td>UG</td>\n",
       "      <td>ESAG-BS</td>\n",
       "      <td>NaN</td>\n",
       "      <td>2021-08-30</td>\n",
       "      <td>39</td>\n",
       "      <td>0</td>\n",
       "      <td>0</td>\n",
       "      <td>0</td>\n",
       "      <td>0</td>\n",
       "      <td>0.0</td>\n",
       "      <td>219.0</td>\n",
       "      <td>397.0</td>\n",
       "    </tr>\n",
       "  </tbody>\n",
       "</table>\n",
       "</div>"
      ],
      "text/plain": [
       "   Unnamed: 0                    employee_id_hash  is_greek  is_athlete  \\\n",
       "0           0  0x0001CEED0A3584312155FD3B695D2EB6         0           0   \n",
       "1           1  0x0001CEED0A3584312155FD3B695D2EB6         0           0   \n",
       "2           2  0x0001CEED0A3584312155FD3B695D2EB6         0           0   \n",
       "3           3  0x0001CEED0A3584312155FD3B695D2EB6         0           0   \n",
       "4           4  0x0001CEED0A3584312155FD3B695D2EB6         0           0   \n",
       "\n",
       "  academic_career academic_plan1 hd_notify_date     day_idx  \\\n",
       "0              UG        ESAG-BS            NaN  2021-08-26   \n",
       "1              UG        ESAG-BS            NaN  2021-08-27   \n",
       "2              UG        ESAG-BS            NaN  2021-08-28   \n",
       "3              UG        ESAG-BS            NaN  2021-08-29   \n",
       "4              UG        ESAG-BS            NaN  2021-08-30   \n",
       "\n",
       "   positives_identified_on_this_day  infected_on_this_day  previous_infection  \\\n",
       "0                                23                     0                   0   \n",
       "1                                43                     0                   0   \n",
       "2                                57                     0                   0   \n",
       "3                                55                     0                   0   \n",
       "4                                39                     0                   0   \n",
       "\n",
       "   week_idx  biweek_idx  class_positivity_in_previous_week  \\\n",
       "0         0           0                                0.0   \n",
       "1         0           0                                0.0   \n",
       "2         0           0                                0.0   \n",
       "3         0           0                                0.0   \n",
       "4         0           0                                0.0   \n",
       "\n",
       "   underlying_positives_on_this_day  \\\n",
       "0                             296.0   \n",
       "1                             315.0   \n",
       "2                             298.0   \n",
       "3                             270.0   \n",
       "4                             219.0   \n",
       "\n",
       "   underlying_positives_on_this_day_forward_backward  \n",
       "0                                              296.0  \n",
       "1                                              338.0  \n",
       "2                                              364.0  \n",
       "3                                              393.0  \n",
       "4                                              397.0  "
      ]
     },
     "execution_count": 3,
     "metadata": {},
     "output_type": "execute_result"
    }
   ],
   "source": [
    "print(all_students_features.shape)\n",
    "all_students_features.head()"
   ]
  },
  {
   "cell_type": "code",
   "execution_count": 4,
   "metadata": {},
   "outputs": [],
   "source": [
    "# get dataframe for regression\n",
    "\n",
    "x = all_students_features[['employee_id_hash', 'is_greek', 'is_athlete', 'academic_career',\n",
    "                          'day_idx', \n",
    "                          'week_idx', 'class_positivity_in_previous_week', \n",
    "                            'underlying_positives_on_this_day', \n",
    "                           'underlying_positives_on_this_day_forward_backward',\n",
    "                          'infected_on_this_day']].dropna(subset=['class_positivity_in_previous_week', 'underlying_positives_on_this_day'])\n",
    "\n",
    "x.drop(x[x.academic_career=='EE'].index, inplace = True)\n",
    "x.reset_index(drop=True, inplace=True)"
   ]
  },
  {
   "cell_type": "markdown",
   "metadata": {},
   "source": [
    "# Descriptive statistics"
   ]
  },
  {
   "cell_type": "code",
   "execution_count": 5,
   "metadata": {},
   "outputs": [
    {
     "data": {
      "text/plain": [
       "(2839592, 10)"
      ]
     },
     "execution_count": 5,
     "metadata": {},
     "output_type": "execute_result"
    }
   ],
   "source": [
    "# number of person-days \n",
    "x.shape"
   ]
  },
  {
   "cell_type": "code",
   "execution_count": 6,
   "metadata": {},
   "outputs": [
    {
     "data": {
      "text/plain": [
       "27802"
      ]
     },
     "execution_count": 6,
     "metadata": {},
     "output_type": "execute_result"
    }
   ],
   "source": [
    "# size of population studied\n",
    "len(x['employee_id_hash'].unique())"
   ]
  },
  {
   "cell_type": "code",
   "execution_count": 7,
   "metadata": {},
   "outputs": [
    {
     "data": {
      "text/plain": [
       "0    2835535\n",
       "1       4057\n",
       "Name: infected_on_this_day, dtype: int64"
      ]
     },
     "execution_count": 7,
     "metadata": {},
     "output_type": "execute_result"
    }
   ],
   "source": [
    "# number of negative and positive person-days\n",
    "x['infected_on_this_day'].value_counts()"
   ]
  },
  {
   "cell_type": "code",
   "execution_count": 8,
   "metadata": {},
   "outputs": [
    {
     "data": {
      "text/plain": [
       "0.014772664859709676"
      ]
     },
     "execution_count": 8,
     "metadata": {},
     "output_type": "execute_result"
    }
   ],
   "source": [
    "# average class-positivity value across the person-days\n",
    "x['class_positivity_in_previous_week'].mean()"
   ]
  },
  {
   "cell_type": "code",
   "execution_count": 9,
   "metadata": {},
   "outputs": [
    {
     "name": "stdout",
     "output_type": "stream",
     "text": [
      "====Academic career:  UG_G ====\n",
      "number of person-days:  314434\n",
      "average class positivity:  0.014861124703277573\n",
      "population size:  3282\n",
      "number of positive and negative person-days:  [312830, 1604]\n",
      "====Academic career:  UG_A ====\n",
      "number of person-days:  104420\n",
      "average class positivity:  0.014406676687334603\n",
      "population size:  1044\n",
      "number of positive and negative person-days:  [104129, 291]\n",
      "====Academic career:  UG ====\n",
      "number of person-days:  1215889\n",
      "average class positivity:  0.014861504310610202\n",
      "population size:  11835\n",
      "number of positive and negative person-days:  [1214531, 1358]\n",
      "====Academic career:  GM ====\n",
      "number of person-days:  177586\n",
      "average class positivity:  0.0149383559924807\n",
      "population size:  1716\n",
      "number of positive and negative person-days:  [177485, 101]\n",
      "====Academic career:  GR ====\n",
      "number of person-days:  880845\n",
      "average class positivity:  0.014670668993725645\n",
      "population size:  8498\n",
      "number of positive and negative person-days:  [880423, 422]\n",
      "====Academic career:  LA ====\n",
      "number of person-days:  95150\n",
      "average class positivity:  0.014270108023230529\n",
      "population size:  928\n",
      "number of positive and negative person-days:  [94953, 197]\n",
      "====Academic career:  VM ====\n",
      "number of person-days:  51268\n",
      "average class positivity:  0.014979795963660777\n",
      "population size:  499\n",
      "number of positive and negative person-days:  [51184, 84]\n"
     ]
    }
   ],
   "source": [
    "# descriptive stats for each academic career subgroup\n",
    "for ac in ['UG_G', 'UG_A', 'UG', 'GM', 'GR', 'LA', 'VM']:\n",
    "\n",
    "    x_sub = x.query('academic_career == @ac')\n",
    "    \n",
    "    print('====Academic career: ', ac, '====')\n",
    "\n",
    "    print('number of person-days: ', x_sub.shape[0])\n",
    "    print('average class positivity: ', x_sub['class_positivity_in_previous_week'].mean())\n",
    "    print('population size: ', len(x_sub['employee_id_hash'].unique()))\n",
    "    print('number of positive and negative person-days: ', list(x_sub['infected_on_this_day'].value_counts()))\n"
   ]
  },
  {
   "cell_type": "markdown",
   "metadata": {},
   "source": [
    "# Run logistic regression"
   ]
  },
  {
   "cell_type": "code",
   "execution_count": 10,
   "metadata": {},
   "outputs": [
    {
     "name": "stdout",
     "output_type": "stream",
     "text": [
      "Optimization terminated successfully.\n",
      "         Current function value: 0.010279\n",
      "         Iterations: 59\n",
      "         Function evaluations: 195\n",
      "         Gradient evaluations: 195\n"
     ]
    },
    {
     "data": {
      "text/html": [
       "<table class=\"simpletable\">\n",
       "<caption>Logit Regression Results</caption>\n",
       "<tr>\n",
       "  <th>Dep. Variable:</th>   <td>infected_on_this_day</td> <th>  No. Observations:  </th>  <td>2839592</td>\n",
       "</tr>\n",
       "<tr>\n",
       "  <th>Model:</th>                   <td>Logit</td>        <th>  Df Residuals:      </th>  <td>2839583</td>\n",
       "</tr>\n",
       "<tr>\n",
       "  <th>Method:</th>                   <td>MLE</td>         <th>  Df Model:          </th>  <td>     8</td> \n",
       "</tr>\n",
       "<tr>\n",
       "  <th>Date:</th>              <td>Sat, 22 Oct 2022</td>   <th>  Pseudo R-squ.:     </th>  <td>0.04708</td>\n",
       "</tr>\n",
       "<tr>\n",
       "  <th>Time:</th>                  <td>15:30:22</td>       <th>  Log-Likelihood:    </th> <td> -29189.</td>\n",
       "</tr>\n",
       "<tr>\n",
       "  <th>converged:</th>               <td>True</td>         <th>  LL-Null:           </th> <td> -30631.</td>\n",
       "</tr>\n",
       "<tr>\n",
       "  <th>Covariance Type:</th>       <td>nonrobust</td>      <th>  LLR p-value:       </th>  <td> 0.000</td> \n",
       "</tr>\n",
       "</table>\n",
       "<table class=\"simpletable\">\n",
       "<tr>\n",
       "                            <td></td>                               <th>coef</th>     <th>std err</th>      <th>z</th>      <th>P>|z|</th>  <th>[0.025</th>    <th>0.975]</th>  \n",
       "</tr>\n",
       "<tr>\n",
       "  <th>Intercept</th>                                             <td>   -6.8186</td> <td>    0.029</td> <td> -232.564</td> <td> 0.000</td> <td>   -6.876</td> <td>   -6.761</td>\n",
       "</tr>\n",
       "<tr>\n",
       "  <th>C(academic_career, Treatment(reference=\"UG\"))[T.GM]</th>   <td>   -0.7955</td> <td>    0.108</td> <td>   -7.395</td> <td> 0.000</td> <td>   -1.006</td> <td>   -0.585</td>\n",
       "</tr>\n",
       "<tr>\n",
       "  <th>C(academic_career, Treatment(reference=\"UG\"))[T.GR]</th>   <td>   -0.8422</td> <td>    0.055</td> <td>  -15.351</td> <td> 0.000</td> <td>   -0.950</td> <td>   -0.735</td>\n",
       "</tr>\n",
       "<tr>\n",
       "  <th>C(academic_career, Treatment(reference=\"UG\"))[T.LA]</th>   <td>    0.5106</td> <td>    0.079</td> <td>    6.473</td> <td> 0.000</td> <td>    0.356</td> <td>    0.665</td>\n",
       "</tr>\n",
       "<tr>\n",
       "  <th>C(academic_career, Treatment(reference=\"UG\"))[T.UG_A]</th> <td>    0.9228</td> <td>    0.064</td> <td>   14.511</td> <td> 0.000</td> <td>    0.798</td> <td>    1.047</td>\n",
       "</tr>\n",
       "<tr>\n",
       "  <th>C(academic_career, Treatment(reference=\"UG\"))[T.UG_G]</th> <td>    1.4935</td> <td>    0.037</td> <td>   40.741</td> <td> 0.000</td> <td>    1.422</td> <td>    1.565</td>\n",
       "</tr>\n",
       "<tr>\n",
       "  <th>C(academic_career, Treatment(reference=\"UG\"))[T.VM]</th>   <td>    0.1037</td> <td>    0.127</td> <td>    0.819</td> <td> 0.413</td> <td>   -0.145</td> <td>    0.352</td>\n",
       "</tr>\n",
       "<tr>\n",
       "  <th>class_positivity_in_previous_week</th>                     <td>   -0.1162</td> <td>    0.303</td> <td>   -0.384</td> <td> 0.701</td> <td>   -0.710</td> <td>    0.477</td>\n",
       "</tr>\n",
       "<tr>\n",
       "  <th>underlying_positives_on_this_day_forward_backward</th>     <td>    0.0006</td> <td>    0.000</td> <td>    4.544</td> <td> 0.000</td> <td>    0.000</td> <td>    0.001</td>\n",
       "</tr>\n",
       "</table>"
      ],
      "text/plain": [
       "<class 'statsmodels.iolib.summary.Summary'>\n",
       "\"\"\"\n",
       "                            Logit Regression Results                            \n",
       "================================================================================\n",
       "Dep. Variable:     infected_on_this_day   No. Observations:              2839592\n",
       "Model:                            Logit   Df Residuals:                  2839583\n",
       "Method:                             MLE   Df Model:                            8\n",
       "Date:                  Sat, 22 Oct 2022   Pseudo R-squ.:                 0.04708\n",
       "Time:                          15:30:22   Log-Likelihood:                -29189.\n",
       "converged:                         True   LL-Null:                       -30631.\n",
       "Covariance Type:              nonrobust   LLR p-value:                     0.000\n",
       "=========================================================================================================================\n",
       "                                                            coef    std err          z      P>|z|      [0.025      0.975]\n",
       "-------------------------------------------------------------------------------------------------------------------------\n",
       "Intercept                                                -6.8186      0.029   -232.564      0.000      -6.876      -6.761\n",
       "C(academic_career, Treatment(reference=\"UG\"))[T.GM]      -0.7955      0.108     -7.395      0.000      -1.006      -0.585\n",
       "C(academic_career, Treatment(reference=\"UG\"))[T.GR]      -0.8422      0.055    -15.351      0.000      -0.950      -0.735\n",
       "C(academic_career, Treatment(reference=\"UG\"))[T.LA]       0.5106      0.079      6.473      0.000       0.356       0.665\n",
       "C(academic_career, Treatment(reference=\"UG\"))[T.UG_A]     0.9228      0.064     14.511      0.000       0.798       1.047\n",
       "C(academic_career, Treatment(reference=\"UG\"))[T.UG_G]     1.4935      0.037     40.741      0.000       1.422       1.565\n",
       "C(academic_career, Treatment(reference=\"UG\"))[T.VM]       0.1037      0.127      0.819      0.413      -0.145       0.352\n",
       "class_positivity_in_previous_week                        -0.1162      0.303     -0.384      0.701      -0.710       0.477\n",
       "underlying_positives_on_this_day_forward_backward         0.0006      0.000      4.544      0.000       0.000       0.001\n",
       "=========================================================================================================================\n",
       "\"\"\""
      ]
     },
     "execution_count": 10,
     "metadata": {},
     "output_type": "execute_result"
    }
   ],
   "source": [
    "model_sm_fb = smf.logit(formula='infected_on_this_day ~ C(academic_career, Treatment(reference = \"UG\")) + class_positivity_in_previous_week + underlying_positives_on_this_day_forward_backward', \n",
    "                 data=x)\n",
    "                     \n",
    "res_fb = model_sm_fb.fit(maxiter = 100, method = 'cg')\n",
    "res_fb.summary()"
   ]
  },
  {
   "cell_type": "code",
   "execution_count": 20,
   "metadata": {},
   "outputs": [
    {
     "data": {
      "text/html": [
       "<table class=\"simpletable\">\n",
       "<caption>Logit Marginal Effects</caption>\n",
       "<tr>\n",
       "  <th>Dep. Variable:</th> <td>infected_on_this_day</td>\n",
       "</tr>\n",
       "<tr>\n",
       "  <th>Method:</th>                <td>dydx</td>        \n",
       "</tr>\n",
       "<tr>\n",
       "  <th>At:</th>                   <td>overall</td>      \n",
       "</tr>\n",
       "</table>\n",
       "<table class=\"simpletable\">\n",
       "<tr>\n",
       "                            <th></th>                               <th>dy/dx</th>    <th>std err</th>      <th>z</th>      <th>P>|z|</th>  <th>[0.025</th>    <th>0.975]</th>  \n",
       "</tr>\n",
       "<tr>\n",
       "  <th>C(academic_career, Treatment(reference=\"UG\"))[T.GM]</th>   <td>   -0.0011</td> <td>    0.000</td> <td>   -7.346</td> <td> 0.000</td> <td>   -0.001</td> <td>   -0.001</td>\n",
       "</tr>\n",
       "<tr>\n",
       "  <th>C(academic_career, Treatment(reference=\"UG\"))[T.GR]</th>   <td>   -0.0012</td> <td> 8.08e-05</td> <td>  -14.930</td> <td> 0.000</td> <td>   -0.001</td> <td>   -0.001</td>\n",
       "</tr>\n",
       "<tr>\n",
       "  <th>C(academic_career, Treatment(reference=\"UG\"))[T.LA]</th>   <td>    0.0007</td> <td>    0.000</td> <td>    6.441</td> <td> 0.000</td> <td>    0.001</td> <td>    0.001</td>\n",
       "</tr>\n",
       "<tr>\n",
       "  <th>C(academic_career, Treatment(reference=\"UG\"))[T.UG_A]</th> <td>    0.0013</td> <td> 9.33e-05</td> <td>   14.156</td> <td> 0.000</td> <td>    0.001</td> <td>    0.002</td>\n",
       "</tr>\n",
       "<tr>\n",
       "  <th>C(academic_career, Treatment(reference=\"UG\"))[T.UG_G]</th> <td>    0.0021</td> <td> 6.21e-05</td> <td>   34.440</td> <td> 0.000</td> <td>    0.002</td> <td>    0.002</td>\n",
       "</tr>\n",
       "<tr>\n",
       "  <th>C(academic_career, Treatment(reference=\"UG\"))[T.VM]</th>   <td>    0.0001</td> <td>    0.000</td> <td>    0.819</td> <td> 0.413</td> <td>   -0.000</td> <td>    0.001</td>\n",
       "</tr>\n",
       "<tr>\n",
       "  <th>class_positivity_in_previous_week</th>                     <td>   -0.0002</td> <td>    0.000</td> <td>   -0.384</td> <td> 0.701</td> <td>   -0.001</td> <td>    0.001</td>\n",
       "</tr>\n",
       "<tr>\n",
       "  <th>underlying_positives_on_this_day_forward_backward</th>     <td> 9.106e-07</td> <td> 2.01e-07</td> <td>    4.533</td> <td> 0.000</td> <td> 5.17e-07</td> <td>  1.3e-06</td>\n",
       "</tr>\n",
       "</table>"
      ],
      "text/plain": [
       "<class 'statsmodels.iolib.summary.Summary'>\n",
       "\"\"\"\n",
       "         Logit Marginal Effects        \n",
       "=======================================\n",
       "Dep. Variable:     infected_on_this_day\n",
       "Method:                            dydx\n",
       "At:                             overall\n",
       "=========================================================================================================================\n",
       "                                                           dy/dx    std err          z      P>|z|      [0.025      0.975]\n",
       "-------------------------------------------------------------------------------------------------------------------------\n",
       "C(academic_career, Treatment(reference=\"UG\"))[T.GM]      -0.0011      0.000     -7.346      0.000      -0.001      -0.001\n",
       "C(academic_career, Treatment(reference=\"UG\"))[T.GR]      -0.0012   8.08e-05    -14.930      0.000      -0.001      -0.001\n",
       "C(academic_career, Treatment(reference=\"UG\"))[T.LA]       0.0007      0.000      6.441      0.000       0.001       0.001\n",
       "C(academic_career, Treatment(reference=\"UG\"))[T.UG_A]     0.0013   9.33e-05     14.156      0.000       0.001       0.002\n",
       "C(academic_career, Treatment(reference=\"UG\"))[T.UG_G]     0.0021   6.21e-05     34.440      0.000       0.002       0.002\n",
       "C(academic_career, Treatment(reference=\"UG\"))[T.VM]       0.0001      0.000      0.819      0.413      -0.000       0.001\n",
       "class_positivity_in_previous_week                        -0.0002      0.000     -0.384      0.701      -0.001       0.001\n",
       "underlying_positives_on_this_day_forward_backward      9.106e-07   2.01e-07      4.533      0.000    5.17e-07     1.3e-06\n",
       "=========================================================================================================================\n",
       "\"\"\""
      ]
     },
     "execution_count": 20,
     "metadata": {},
     "output_type": "execute_result"
    }
   ],
   "source": [
    "res_fb.get_margeff().summary()"
   ]
  },
  {
   "cell_type": "code",
   "execution_count": 19,
   "metadata": {},
   "outputs": [
    {
     "data": {
      "text/html": [
       "<div>\n",
       "<style scoped>\n",
       "    .dataframe tbody tr th:only-of-type {\n",
       "        vertical-align: middle;\n",
       "    }\n",
       "\n",
       "    .dataframe tbody tr th {\n",
       "        vertical-align: top;\n",
       "    }\n",
       "\n",
       "    .dataframe thead th {\n",
       "        text-align: right;\n",
       "    }\n",
       "</style>\n",
       "<table border=\"1\" class=\"dataframe\">\n",
       "  <thead>\n",
       "    <tr style=\"text-align: right;\">\n",
       "      <th></th>\n",
       "      <th>dy/dx</th>\n",
       "      <th>Std. Err.</th>\n",
       "      <th>z</th>\n",
       "      <th>Pr(&gt;|z|)</th>\n",
       "      <th>Conf. Int. Low</th>\n",
       "      <th>Cont. Int. Hi.</th>\n",
       "    </tr>\n",
       "  </thead>\n",
       "  <tbody>\n",
       "    <tr>\n",
       "      <th>C(academic_career, Treatment(reference=\"UG\"))[T.GM]</th>\n",
       "      <td>-1.138851e-03</td>\n",
       "      <td>1.550290e-04</td>\n",
       "      <td>-7.346050</td>\n",
       "      <td>2.041504e-13</td>\n",
       "      <td>-1.442702e-03</td>\n",
       "      <td>-0.000835</td>\n",
       "    </tr>\n",
       "    <tr>\n",
       "      <th>C(academic_career, Treatment(reference=\"UG\"))[T.GR]</th>\n",
       "      <td>-1.205707e-03</td>\n",
       "      <td>8.075541e-05</td>\n",
       "      <td>-14.930353</td>\n",
       "      <td>2.091574e-50</td>\n",
       "      <td>-1.363984e-03</td>\n",
       "      <td>-0.001047</td>\n",
       "    </tr>\n",
       "    <tr>\n",
       "      <th>C(academic_career, Treatment(reference=\"UG\"))[T.LA]</th>\n",
       "      <td>7.309342e-04</td>\n",
       "      <td>1.134873e-04</td>\n",
       "      <td>6.440667</td>\n",
       "      <td>1.189496e-10</td>\n",
       "      <td>5.085031e-04</td>\n",
       "      <td>0.000953</td>\n",
       "    </tr>\n",
       "    <tr>\n",
       "      <th>C(academic_career, Treatment(reference=\"UG\"))[T.UG_A]</th>\n",
       "      <td>1.321194e-03</td>\n",
       "      <td>9.333005e-05</td>\n",
       "      <td>14.156151</td>\n",
       "      <td>1.711140e-45</td>\n",
       "      <td>1.138271e-03</td>\n",
       "      <td>0.001504</td>\n",
       "    </tr>\n",
       "    <tr>\n",
       "      <th>C(academic_career, Treatment(reference=\"UG\"))[T.UG_G]</th>\n",
       "      <td>2.138196e-03</td>\n",
       "      <td>6.208538e-05</td>\n",
       "      <td>34.439602</td>\n",
       "      <td>6.444267e-260</td>\n",
       "      <td>2.016511e-03</td>\n",
       "      <td>0.002260</td>\n",
       "    </tr>\n",
       "    <tr>\n",
       "      <th>C(academic_career, Treatment(reference=\"UG\"))[T.VM]</th>\n",
       "      <td>1.484467e-04</td>\n",
       "      <td>1.813533e-04</td>\n",
       "      <td>0.818550</td>\n",
       "      <td>4.130432e-01</td>\n",
       "      <td>-2.069992e-04</td>\n",
       "      <td>0.000504</td>\n",
       "    </tr>\n",
       "    <tr>\n",
       "      <th>class_positivity_in_previous_week</th>\n",
       "      <td>-1.663075e-04</td>\n",
       "      <td>4.335126e-04</td>\n",
       "      <td>-0.383628</td>\n",
       "      <td>7.012543e-01</td>\n",
       "      <td>-1.015977e-03</td>\n",
       "      <td>0.000683</td>\n",
       "    </tr>\n",
       "    <tr>\n",
       "      <th>underlying_positives_on_this_day_forward_backward</th>\n",
       "      <td>9.106398e-07</td>\n",
       "      <td>2.008891e-07</td>\n",
       "      <td>4.533048</td>\n",
       "      <td>5.813866e-06</td>\n",
       "      <td>5.169044e-07</td>\n",
       "      <td>0.000001</td>\n",
       "    </tr>\n",
       "  </tbody>\n",
       "</table>\n",
       "</div>"
      ],
      "text/plain": [
       "                                                           dy/dx  \\\n",
       "C(academic_career, Treatment(reference=\"UG\"))[T... -1.138851e-03   \n",
       "C(academic_career, Treatment(reference=\"UG\"))[T... -1.205707e-03   \n",
       "C(academic_career, Treatment(reference=\"UG\"))[T...  7.309342e-04   \n",
       "C(academic_career, Treatment(reference=\"UG\"))[T...  1.321194e-03   \n",
       "C(academic_career, Treatment(reference=\"UG\"))[T...  2.138196e-03   \n",
       "C(academic_career, Treatment(reference=\"UG\"))[T...  1.484467e-04   \n",
       "class_positivity_in_previous_week                  -1.663075e-04   \n",
       "underlying_positives_on_this_day_forward_backward   9.106398e-07   \n",
       "\n",
       "                                                       Std. Err.          z  \\\n",
       "C(academic_career, Treatment(reference=\"UG\"))[T...  1.550290e-04  -7.346050   \n",
       "C(academic_career, Treatment(reference=\"UG\"))[T...  8.075541e-05 -14.930353   \n",
       "C(academic_career, Treatment(reference=\"UG\"))[T...  1.134873e-04   6.440667   \n",
       "C(academic_career, Treatment(reference=\"UG\"))[T...  9.333005e-05  14.156151   \n",
       "C(academic_career, Treatment(reference=\"UG\"))[T...  6.208538e-05  34.439602   \n",
       "C(academic_career, Treatment(reference=\"UG\"))[T...  1.813533e-04   0.818550   \n",
       "class_positivity_in_previous_week                   4.335126e-04  -0.383628   \n",
       "underlying_positives_on_this_day_forward_backward   2.008891e-07   4.533048   \n",
       "\n",
       "                                                         Pr(>|z|)  \\\n",
       "C(academic_career, Treatment(reference=\"UG\"))[T...   2.041504e-13   \n",
       "C(academic_career, Treatment(reference=\"UG\"))[T...   2.091574e-50   \n",
       "C(academic_career, Treatment(reference=\"UG\"))[T...   1.189496e-10   \n",
       "C(academic_career, Treatment(reference=\"UG\"))[T...   1.711140e-45   \n",
       "C(academic_career, Treatment(reference=\"UG\"))[T...  6.444267e-260   \n",
       "C(academic_career, Treatment(reference=\"UG\"))[T...   4.130432e-01   \n",
       "class_positivity_in_previous_week                    7.012543e-01   \n",
       "underlying_positives_on_this_day_forward_backward    5.813866e-06   \n",
       "\n",
       "                                                    Conf. Int. Low  \\\n",
       "C(academic_career, Treatment(reference=\"UG\"))[T...   -1.442702e-03   \n",
       "C(academic_career, Treatment(reference=\"UG\"))[T...   -1.363984e-03   \n",
       "C(academic_career, Treatment(reference=\"UG\"))[T...    5.085031e-04   \n",
       "C(academic_career, Treatment(reference=\"UG\"))[T...    1.138271e-03   \n",
       "C(academic_career, Treatment(reference=\"UG\"))[T...    2.016511e-03   \n",
       "C(academic_career, Treatment(reference=\"UG\"))[T...   -2.069992e-04   \n",
       "class_positivity_in_previous_week                    -1.015977e-03   \n",
       "underlying_positives_on_this_day_forward_backward     5.169044e-07   \n",
       "\n",
       "                                                    Cont. Int. Hi.  \n",
       "C(academic_career, Treatment(reference=\"UG\"))[T...       -0.000835  \n",
       "C(academic_career, Treatment(reference=\"UG\"))[T...       -0.001047  \n",
       "C(academic_career, Treatment(reference=\"UG\"))[T...        0.000953  \n",
       "C(academic_career, Treatment(reference=\"UG\"))[T...        0.001504  \n",
       "C(academic_career, Treatment(reference=\"UG\"))[T...        0.002260  \n",
       "C(academic_career, Treatment(reference=\"UG\"))[T...        0.000504  \n",
       "class_positivity_in_previous_week                         0.000683  \n",
       "underlying_positives_on_this_day_forward_backward         0.000001  "
      ]
     },
     "execution_count": 19,
     "metadata": {},
     "output_type": "execute_result"
    }
   ],
   "source": [
    "res_fb.get_margeff().summary_frame()"
   ]
  },
  {
   "cell_type": "code",
   "execution_count": null,
   "metadata": {},
   "outputs": [],
   "source": []
  }
 ],
 "metadata": {
  "kernelspec": {
   "display_name": "bope_pca",
   "language": "python",
   "name": "python3"
  },
  "language_info": {
   "codemirror_mode": {
    "name": "ipython",
    "version": 3
   },
   "file_extension": ".py",
   "mimetype": "text/x-python",
   "name": "python",
   "nbconvert_exporter": "python",
   "pygments_lexer": "ipython3",
   "version": "3.9.15 (main, Nov 24 2022, 14:31:59) \n[GCC 11.2.0]"
  },
  "vscode": {
   "interpreter": {
    "hash": "f178f7686bb85c5c6e141a85fd4c17c3082d63b89f6cfaecdf98c22c0047a219"
   }
  }
 },
 "nbformat": 4,
 "nbformat_minor": 4
}
