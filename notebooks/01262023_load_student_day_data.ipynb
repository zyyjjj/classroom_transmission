{
 "cells": [
  {
   "cell_type": "code",
   "execution_count": 17,
   "metadata": {},
   "outputs": [],
   "source": [
    "import pandas as pd\n",
    "import matplotlib.pyplot as plt\n",
    "import datetime as dt"
   ]
  },
  {
   "cell_type": "code",
   "execution_count": 4,
   "metadata": {},
   "outputs": [
    {
     "name": "stderr",
     "output_type": "stream",
     "text": [
      "C:\\Users\\yz685\\Anaconda3\\lib\\site-packages\\numpy\\lib\\arraysetops.py:569: FutureWarning: elementwise comparison failed; returning scalar instead, but in the future will perform elementwise comparison\n",
      "  mask |= (ar1 == a)\n"
     ]
    },
    {
     "name": "stdout",
     "output_type": "stream",
     "text": [
      "(2891563, 13)\n"
     ]
    },
    {
     "data": {
      "text/html": [
       "<div>\n",
       "<style scoped>\n",
       "    .dataframe tbody tr th:only-of-type {\n",
       "        vertical-align: middle;\n",
       "    }\n",
       "\n",
       "    .dataframe tbody tr th {\n",
       "        vertical-align: top;\n",
       "    }\n",
       "\n",
       "    .dataframe thead th {\n",
       "        text-align: right;\n",
       "    }\n",
       "</style>\n",
       "<table border=\"1\" class=\"dataframe\">\n",
       "  <thead>\n",
       "    <tr style=\"text-align: right;\">\n",
       "      <th></th>\n",
       "      <th>employee_id_hash</th>\n",
       "      <th>is_greek</th>\n",
       "      <th>is_athlete</th>\n",
       "      <th>academic_career</th>\n",
       "      <th>academic_plan1</th>\n",
       "      <th>hd_notify_date</th>\n",
       "      <th>day_idx</th>\n",
       "      <th>positives_identified_on_this_day</th>\n",
       "      <th>infected_on_this_day</th>\n",
       "      <th>previous_infection</th>\n",
       "      <th>week_idx</th>\n",
       "      <th>biweek_idx</th>\n",
       "      <th>class_prevalence_on_this_day</th>\n",
       "    </tr>\n",
       "  </thead>\n",
       "  <tbody>\n",
       "    <tr>\n",
       "      <th>0</th>\n",
       "      <td>0x0001CEED0A3584312155FD3B695D2EB6</td>\n",
       "      <td>0</td>\n",
       "      <td>0</td>\n",
       "      <td>UG</td>\n",
       "      <td>ESAG-BS</td>\n",
       "      <td>NaN</td>\n",
       "      <td>2021-08-26</td>\n",
       "      <td>23</td>\n",
       "      <td>0</td>\n",
       "      <td>0</td>\n",
       "      <td>0</td>\n",
       "      <td>0</td>\n",
       "      <td>NaN</td>\n",
       "    </tr>\n",
       "    <tr>\n",
       "      <th>1</th>\n",
       "      <td>0x0001CEED0A3584312155FD3B695D2EB6</td>\n",
       "      <td>0</td>\n",
       "      <td>0</td>\n",
       "      <td>UG</td>\n",
       "      <td>ESAG-BS</td>\n",
       "      <td>NaN</td>\n",
       "      <td>2021-08-27</td>\n",
       "      <td>43</td>\n",
       "      <td>0</td>\n",
       "      <td>0</td>\n",
       "      <td>0</td>\n",
       "      <td>0</td>\n",
       "      <td>NaN</td>\n",
       "    </tr>\n",
       "    <tr>\n",
       "      <th>2</th>\n",
       "      <td>0x0001CEED0A3584312155FD3B695D2EB6</td>\n",
       "      <td>0</td>\n",
       "      <td>0</td>\n",
       "      <td>UG</td>\n",
       "      <td>ESAG-BS</td>\n",
       "      <td>NaN</td>\n",
       "      <td>2021-08-28</td>\n",
       "      <td>57</td>\n",
       "      <td>0</td>\n",
       "      <td>0</td>\n",
       "      <td>0</td>\n",
       "      <td>0</td>\n",
       "      <td>NaN</td>\n",
       "    </tr>\n",
       "    <tr>\n",
       "      <th>3</th>\n",
       "      <td>0x0001CEED0A3584312155FD3B695D2EB6</td>\n",
       "      <td>0</td>\n",
       "      <td>0</td>\n",
       "      <td>UG</td>\n",
       "      <td>ESAG-BS</td>\n",
       "      <td>NaN</td>\n",
       "      <td>2021-08-29</td>\n",
       "      <td>55</td>\n",
       "      <td>0</td>\n",
       "      <td>0</td>\n",
       "      <td>0</td>\n",
       "      <td>0</td>\n",
       "      <td>NaN</td>\n",
       "    </tr>\n",
       "    <tr>\n",
       "      <th>4</th>\n",
       "      <td>0x0001CEED0A3584312155FD3B695D2EB6</td>\n",
       "      <td>0</td>\n",
       "      <td>0</td>\n",
       "      <td>UG</td>\n",
       "      <td>ESAG-BS</td>\n",
       "      <td>NaN</td>\n",
       "      <td>2021-08-30</td>\n",
       "      <td>39</td>\n",
       "      <td>0</td>\n",
       "      <td>0</td>\n",
       "      <td>0</td>\n",
       "      <td>0</td>\n",
       "      <td>NaN</td>\n",
       "    </tr>\n",
       "  </tbody>\n",
       "</table>\n",
       "</div>"
      ],
      "text/plain": [
       "                     employee_id_hash  is_greek  is_athlete academic_career  \\\n",
       "0  0x0001CEED0A3584312155FD3B695D2EB6         0           0              UG   \n",
       "1  0x0001CEED0A3584312155FD3B695D2EB6         0           0              UG   \n",
       "2  0x0001CEED0A3584312155FD3B695D2EB6         0           0              UG   \n",
       "3  0x0001CEED0A3584312155FD3B695D2EB6         0           0              UG   \n",
       "4  0x0001CEED0A3584312155FD3B695D2EB6         0           0              UG   \n",
       "\n",
       "  academic_plan1 hd_notify_date     day_idx  positives_identified_on_this_day  \\\n",
       "0        ESAG-BS            NaN  2021-08-26                                23   \n",
       "1        ESAG-BS            NaN  2021-08-27                                43   \n",
       "2        ESAG-BS            NaN  2021-08-28                                57   \n",
       "3        ESAG-BS            NaN  2021-08-29                                55   \n",
       "4        ESAG-BS            NaN  2021-08-30                                39   \n",
       "\n",
       "   infected_on_this_day  previous_infection  week_idx  biweek_idx  \\\n",
       "0                     0                   0         0           0   \n",
       "1                     0                   0         0           0   \n",
       "2                     0                   0         0           0   \n",
       "3                     0                   0         0           0   \n",
       "4                     0                   0         0           0   \n",
       "\n",
       "   class_prevalence_on_this_day  \n",
       "0                           NaN  \n",
       "1                           NaN  \n",
       "2                           NaN  \n",
       "3                           NaN  \n",
       "4                           NaN  "
      ]
     },
     "execution_count": 4,
     "metadata": {},
     "output_type": "execute_result"
    }
   ],
   "source": [
    "all_students_features_trunc = pd.read_csv('all_students_features_trunc.csv', index_col = 0)\n",
    "print(all_students_features_trunc.shape)\n",
    "all_students_features_trunc.head()"
   ]
  },
  {
   "cell_type": "code",
   "execution_count": 11,
   "metadata": {},
   "outputs": [
    {
     "data": {
      "text/plain": [
       "Text(0, 0.5, 'Number of students')"
      ]
     },
     "execution_count": 11,
     "metadata": {},
     "output_type": "execute_result"
    },
    {
     "data": {
      "image/png": "[encoded data removed]",
      "text/plain": [
       "<Figure size 432x288 with 1 Axes>"
      ]
     },
     "metadata": {
      "needs_background": "light"
     },
     "output_type": "display_data"
    }
   ],
   "source": [
    "all_students_features_trunc.groupby(['employee_id_hash']).size().hist(grid=False, bins = 10)\n",
    "plt.title('Distribution of survival length')\n",
    "plt.xlabel('Survival length (days)')\n",
    "plt.ylabel('Number of students')"
   ]
  },
  {
   "cell_type": "code",
   "execution_count": 12,
   "metadata": {},
   "outputs": [
    {
     "data": {
      "text/plain": [
       "(93.7, 104.0]    27708\n",
       "(0.896, 11.3]      396\n",
       "(11.3, 21.6]        81\n",
       "(21.6, 31.9]        40\n",
       "(83.4, 93.7]        20\n",
       "(73.1, 83.4]        18\n",
       "(42.2, 52.5]        17\n",
       "(52.5, 62.8]        14\n",
       "(62.8, 73.1]        11\n",
       "(31.9, 42.2]         8\n",
       "dtype: int64"
      ]
     },
     "execution_count": 12,
     "metadata": {},
     "output_type": "execute_result"
    }
   ],
   "source": [
    "all_students_features_trunc.groupby(['employee_id_hash']).size().value_counts(bins = 10)"
   ]
  },
  {
   "cell_type": "code",
   "execution_count": 25,
   "metadata": {},
   "outputs": [
    {
     "data": {
      "text/plain": [
       "28313"
      ]
     },
     "execution_count": 25,
     "metadata": {},
     "output_type": "execute_result"
    }
   ],
   "source": [
    "len(all_students_features_trunc['employee_id_hash'].unique())"
   ]
  },
  {
   "cell_type": "code",
   "execution_count": 30,
   "metadata": {},
   "outputs": [
    {
     "data": {
      "text/plain": [
       "104    27622\n",
       "3         56\n",
       "4         55\n",
       "7         48\n",
       "2         43\n",
       "       ...  \n",
       "83         1\n",
       "70         1\n",
       "44         1\n",
       "57         1\n",
       "31         1\n",
       "Length: 74, dtype: int64"
      ]
     },
     "execution_count": 30,
     "metadata": {},
     "output_type": "execute_result"
    }
   ],
   "source": [
    "all_students_features_trunc.groupby(['employee_id_hash']).size().value_counts()"
   ]
  },
  {
   "cell_type": "code",
   "execution_count": 35,
   "metadata": {},
   "outputs": [
    {
     "data": {
      "image/png": "[encoded data removed]",
      "text/plain": [
       "<Figure size 432x288 with 1 Axes>"
      ]
     },
     "metadata": {
      "needs_background": "light"
     },
     "output_type": "display_data"
    }
   ],
   "source": [
    "import matplotlib.dates as dates\n",
    "\n",
    "idx = pd.date_range('2021-08-26', '2021-12-07')\n",
    "\n",
    "fig, ax = plt.subplots()\n",
    "ax.plot_date(idx.to_pydatetime(), all_students_features_trunc['positives_identified_on_this_day'][:104], '-')\n",
    "plt.gcf().autofmt_xdate()\n",
    "plt.title('Number of positives identified (Aug 26 - Dec 7, 2021)')\n",
    "\n",
    "plt.tight_layout()\n",
    "plt.show()\n",
    "\n"
   ]
  },
  {
   "cell_type": "code",
   "execution_count": 38,
   "metadata": {},
   "outputs": [],
   "source": [
    "unique = all_students_features_trunc[['employee_id_hash', 'hd_notify_date', 'academic_career', 'is_greek', 'is_athlete']].drop_duplicates()\n",
    "infections_by_day_involved = unique.loc[unique['hd_notify_date'].notnull()].groupby(['hd_notify_date']).size()\n"
   ]
  },
  {
   "cell_type": "code",
   "execution_count": 58,
   "metadata": {},
   "outputs": [
    {
     "data": {
      "text/html": [
       "<div>\n",
       "<style scoped>\n",
       "    .dataframe tbody tr th:only-of-type {\n",
       "        vertical-align: middle;\n",
       "    }\n",
       "\n",
       "    .dataframe tbody tr th {\n",
       "        vertical-align: top;\n",
       "    }\n",
       "\n",
       "    .dataframe thead th {\n",
       "        text-align: right;\n",
       "    }\n",
       "</style>\n",
       "<table border=\"1\" class=\"dataframe\">\n",
       "  <thead>\n",
       "    <tr style=\"text-align: right;\">\n",
       "      <th></th>\n",
       "      <th>academic_career</th>\n",
       "      <th>academic_career</th>\n",
       "    </tr>\n",
       "  </thead>\n",
       "  <tbody>\n",
       "    <tr>\n",
       "      <th>UG</th>\n",
       "      <td>1238701</td>\n",
       "      <td>0.428385</td>\n",
       "    </tr>\n",
       "    <tr>\n",
       "      <th>GR</th>\n",
       "      <td>899232</td>\n",
       "      <td>0.310985</td>\n",
       "    </tr>\n",
       "    <tr>\n",
       "      <th>UG_G</th>\n",
       "      <td>318942</td>\n",
       "      <td>0.110301</td>\n",
       "    </tr>\n",
       "    <tr>\n",
       "      <th>GM</th>\n",
       "      <td>180414</td>\n",
       "      <td>0.062393</td>\n",
       "    </tr>\n",
       "    <tr>\n",
       "      <th>UG_A</th>\n",
       "      <td>105460</td>\n",
       "      <td>0.036472</td>\n",
       "    </tr>\n",
       "    <tr>\n",
       "      <th>LA</th>\n",
       "      <td>96506</td>\n",
       "      <td>0.033375</td>\n",
       "    </tr>\n",
       "    <tr>\n",
       "      <th>VM</th>\n",
       "      <td>52204</td>\n",
       "      <td>0.018054</td>\n",
       "    </tr>\n",
       "    <tr>\n",
       "      <th>EE</th>\n",
       "      <td>104</td>\n",
       "      <td>0.000036</td>\n",
       "    </tr>\n",
       "  </tbody>\n",
       "</table>\n",
       "</div>"
      ],
      "text/plain": [
       "      academic_career  academic_career\n",
       "UG            1238701         0.428385\n",
       "GR             899232         0.310985\n",
       "UG_G           318942         0.110301\n",
       "GM             180414         0.062393\n",
       "UG_A           105460         0.036472\n",
       "LA              96506         0.033375\n",
       "VM              52204         0.018054\n",
       "EE                104         0.000036"
      ]
     },
     "execution_count": 58,
     "metadata": {},
     "output_type": "execute_result"
    }
   ],
   "source": [
    "# distribution of academic_career across student-days\n",
    "pd.concat(\n",
    "    (all_students_features_trunc['academic_career'].value_counts(normalize = False),\n",
    "    all_students_features_trunc['academic_career'].value_counts(normalize = True)),\n",
    "    axis = 1\n",
    ")"
   ]
  },
  {
   "cell_type": "code",
   "execution_count": 59,
   "metadata": {
    "scrolled": true
   },
   "outputs": [
    {
     "data": {
      "text/html": [
       "<div>\n",
       "<style scoped>\n",
       "    .dataframe tbody tr th:only-of-type {\n",
       "        vertical-align: middle;\n",
       "    }\n",
       "\n",
       "    .dataframe tbody tr th {\n",
       "        vertical-align: top;\n",
       "    }\n",
       "\n",
       "    .dataframe thead th {\n",
       "        text-align: right;\n",
       "    }\n",
       "</style>\n",
       "<table border=\"1\" class=\"dataframe\">\n",
       "  <thead>\n",
       "    <tr style=\"text-align: right;\">\n",
       "      <th></th>\n",
       "      <th>academic_career</th>\n",
       "      <th>academic_career</th>\n",
       "    </tr>\n",
       "  </thead>\n",
       "  <tbody>\n",
       "    <tr>\n",
       "      <th>UG</th>\n",
       "      <td>12057</td>\n",
       "      <td>0.425847</td>\n",
       "    </tr>\n",
       "    <tr>\n",
       "      <th>GR</th>\n",
       "      <td>8675</td>\n",
       "      <td>0.306396</td>\n",
       "    </tr>\n",
       "    <tr>\n",
       "      <th>UG_G</th>\n",
       "      <td>3332</td>\n",
       "      <td>0.117684</td>\n",
       "    </tr>\n",
       "    <tr>\n",
       "      <th>GM</th>\n",
       "      <td>1744</td>\n",
       "      <td>0.061597</td>\n",
       "    </tr>\n",
       "    <tr>\n",
       "      <th>UG_A</th>\n",
       "      <td>1054</td>\n",
       "      <td>0.037227</td>\n",
       "    </tr>\n",
       "    <tr>\n",
       "      <th>LA</th>\n",
       "      <td>942</td>\n",
       "      <td>0.033271</td>\n",
       "    </tr>\n",
       "    <tr>\n",
       "      <th>VM</th>\n",
       "      <td>508</td>\n",
       "      <td>0.017942</td>\n",
       "    </tr>\n",
       "    <tr>\n",
       "      <th>EE</th>\n",
       "      <td>1</td>\n",
       "      <td>0.000035</td>\n",
       "    </tr>\n",
       "  </tbody>\n",
       "</table>\n",
       "</div>"
      ],
      "text/plain": [
       "      academic_career  academic_career\n",
       "UG              12057         0.425847\n",
       "GR               8675         0.306396\n",
       "UG_G             3332         0.117684\n",
       "GM               1744         0.061597\n",
       "UG_A             1054         0.037227\n",
       "LA                942         0.033271\n",
       "VM                508         0.017942\n",
       "EE                  1         0.000035"
      ]
     },
     "execution_count": 59,
     "metadata": {},
     "output_type": "execute_result"
    }
   ],
   "source": [
    "# distribution of academic_career across students\n",
    "pd.concat(\n",
    "    (unique['academic_career'].value_counts(normalize = False),\n",
    "    unique['academic_career'].value_counts(normalize = True)),\n",
    "    axis = 1\n",
    ")"
   ]
  },
  {
   "cell_type": "code",
   "execution_count": 40,
   "metadata": {},
   "outputs": [
    {
     "data": {
      "text/plain": [
       "0    24971\n",
       "1     3342\n",
       "Name: is_greek, dtype: int64"
      ]
     },
     "execution_count": 40,
     "metadata": {},
     "output_type": "execute_result"
    }
   ],
   "source": [
    "unique['is_greek'].value_counts()"
   ]
  },
  {
   "cell_type": "code",
   "execution_count": 41,
   "metadata": {},
   "outputs": [
    {
     "data": {
      "text/plain": [
       "0    27245\n",
       "1     1068\n",
       "Name: is_athlete, dtype: int64"
      ]
     },
     "execution_count": 41,
     "metadata": {},
     "output_type": "execute_result"
    }
   ],
   "source": [
    "unique['is_athlete'].value_counts()"
   ]
  },
  {
   "cell_type": "code",
   "execution_count": 51,
   "metadata": {},
   "outputs": [
    {
     "data": {
      "text/html": [
       "<div>\n",
       "<style scoped>\n",
       "    .dataframe tbody tr th:only-of-type {\n",
       "        vertical-align: middle;\n",
       "    }\n",
       "\n",
       "    .dataframe tbody tr th {\n",
       "        vertical-align: top;\n",
       "    }\n",
       "\n",
       "    .dataframe thead th {\n",
       "        text-align: right;\n",
       "    }\n",
       "</style>\n",
       "<table border=\"1\" class=\"dataframe\">\n",
       "  <thead>\n",
       "    <tr style=\"text-align: right;\">\n",
       "      <th></th>\n",
       "      <th>employee_id_hash</th>\n",
       "      <th>hd_notify_date</th>\n",
       "      <th>academic_career</th>\n",
       "      <th>is_greek</th>\n",
       "      <th>is_athlete</th>\n",
       "    </tr>\n",
       "  </thead>\n",
       "  <tbody>\n",
       "    <tr>\n",
       "      <th>87048</th>\n",
       "      <td>0x07A584E59B2A531B0ACB31300460C803</td>\n",
       "      <td>NaN</td>\n",
       "      <td>GR</td>\n",
       "      <td>1</td>\n",
       "      <td>0</td>\n",
       "    </tr>\n",
       "    <tr>\n",
       "      <th>329472</th>\n",
       "      <td>0x1E23B1B44026258E210FE5F307E6D589</td>\n",
       "      <td>NaN</td>\n",
       "      <td>GR</td>\n",
       "      <td>1</td>\n",
       "      <td>0</td>\n",
       "    </tr>\n",
       "    <tr>\n",
       "      <th>358488</th>\n",
       "      <td>0x20E5282AA0F8D079FFCB3F7CC09EE781</td>\n",
       "      <td>NaN</td>\n",
       "      <td>GR</td>\n",
       "      <td>1</td>\n",
       "      <td>0</td>\n",
       "    </tr>\n",
       "    <tr>\n",
       "      <th>629200</th>\n",
       "      <td>0x3848B35E0D7172D858AFE6A214B1D1CC</td>\n",
       "      <td>NaN</td>\n",
       "      <td>GR</td>\n",
       "      <td>1</td>\n",
       "      <td>0</td>\n",
       "    </tr>\n",
       "    <tr>\n",
       "      <th>867568</th>\n",
       "      <td>0x4CEBAF9FDF0E384B261E2B672BC13AD0</td>\n",
       "      <td>NaN</td>\n",
       "      <td>LA</td>\n",
       "      <td>1</td>\n",
       "      <td>0</td>\n",
       "    </tr>\n",
       "    <tr>\n",
       "      <th>1521936</th>\n",
       "      <td>0x844C9003C4DE8BD791507E65A78279E7</td>\n",
       "      <td>NaN</td>\n",
       "      <td>GR</td>\n",
       "      <td>1</td>\n",
       "      <td>0</td>\n",
       "    </tr>\n",
       "    <tr>\n",
       "      <th>1633320</th>\n",
       "      <td>0x8E0BB67D49D84BB347F7823F24BD67F7</td>\n",
       "      <td>NaN</td>\n",
       "      <td>GR</td>\n",
       "      <td>1</td>\n",
       "      <td>0</td>\n",
       "    </tr>\n",
       "    <tr>\n",
       "      <th>2422784</th>\n",
       "      <td>0xD2CDEFD8260A21A4AF9E93345F157FFB</td>\n",
       "      <td>NaN</td>\n",
       "      <td>GR</td>\n",
       "      <td>1</td>\n",
       "      <td>0</td>\n",
       "    </tr>\n",
       "    <tr>\n",
       "      <th>2489760</th>\n",
       "      <td>0xD86AEEADF673F038EA6AC1ABF63997CC</td>\n",
       "      <td>NaN</td>\n",
       "      <td>GM</td>\n",
       "      <td>1</td>\n",
       "      <td>0</td>\n",
       "    </tr>\n",
       "    <tr>\n",
       "      <th>2832128</th>\n",
       "      <td>0xF5DD4014B797260D9007D6903AB7AE86</td>\n",
       "      <td>NaN</td>\n",
       "      <td>GR</td>\n",
       "      <td>1</td>\n",
       "      <td>0</td>\n",
       "    </tr>\n",
       "  </tbody>\n",
       "</table>\n",
       "</div>"
      ],
      "text/plain": [
       "                           employee_id_hash hd_notify_date academic_career  \\\n",
       "87048    0x07A584E59B2A531B0ACB31300460C803            NaN              GR   \n",
       "329472   0x1E23B1B44026258E210FE5F307E6D589            NaN              GR   \n",
       "358488   0x20E5282AA0F8D079FFCB3F7CC09EE781            NaN              GR   \n",
       "629200   0x3848B35E0D7172D858AFE6A214B1D1CC            NaN              GR   \n",
       "867568   0x4CEBAF9FDF0E384B261E2B672BC13AD0            NaN              LA   \n",
       "1521936  0x844C9003C4DE8BD791507E65A78279E7            NaN              GR   \n",
       "1633320  0x8E0BB67D49D84BB347F7823F24BD67F7            NaN              GR   \n",
       "2422784  0xD2CDEFD8260A21A4AF9E93345F157FFB            NaN              GR   \n",
       "2489760  0xD86AEEADF673F038EA6AC1ABF63997CC            NaN              GM   \n",
       "2832128  0xF5DD4014B797260D9007D6903AB7AE86            NaN              GR   \n",
       "\n",
       "         is_greek  is_athlete  \n",
       "87048           1           0  \n",
       "329472          1           0  \n",
       "358488          1           0  \n",
       "629200          1           0  \n",
       "867568          1           0  \n",
       "1521936         1           0  \n",
       "1633320         1           0  \n",
       "2422784         1           0  \n",
       "2489760         1           0  \n",
       "2832128         1           0  "
      ]
     },
     "execution_count": 51,
     "metadata": {},
     "output_type": "execute_result"
    }
   ],
   "source": [
    "# 10 individuals marked is_greek but are not undergraduates\n",
    "unique[(unique['academic_career'] != 'UG_G') & (unique['is_greek'] == 1)]"
   ]
  },
  {
   "cell_type": "code",
   "execution_count": 52,
   "metadata": {},
   "outputs": [
    {
     "data": {
      "text/html": [
       "<div>\n",
       "<style scoped>\n",
       "    .dataframe tbody tr th:only-of-type {\n",
       "        vertical-align: middle;\n",
       "    }\n",
       "\n",
       "    .dataframe tbody tr th {\n",
       "        vertical-align: top;\n",
       "    }\n",
       "\n",
       "    .dataframe thead th {\n",
       "        text-align: right;\n",
       "    }\n",
       "</style>\n",
       "<table border=\"1\" class=\"dataframe\">\n",
       "  <thead>\n",
       "    <tr style=\"text-align: right;\">\n",
       "      <th></th>\n",
       "      <th>employee_id_hash</th>\n",
       "      <th>hd_notify_date</th>\n",
       "      <th>academic_career</th>\n",
       "      <th>is_greek</th>\n",
       "      <th>is_athlete</th>\n",
       "    </tr>\n",
       "  </thead>\n",
       "  <tbody>\n",
       "    <tr>\n",
       "      <th>126464</th>\n",
       "      <td>0x0B421063A794F4EF7609C11BE94E34E8</td>\n",
       "      <td>NaN</td>\n",
       "      <td>GR</td>\n",
       "      <td>0</td>\n",
       "      <td>1</td>\n",
       "    </tr>\n",
       "    <tr>\n",
       "      <th>326664</th>\n",
       "      <td>0x1DF49F916C8E1A1B3B19206F88EB70D9</td>\n",
       "      <td>NaN</td>\n",
       "      <td>GR</td>\n",
       "      <td>0</td>\n",
       "      <td>1</td>\n",
       "    </tr>\n",
       "    <tr>\n",
       "      <th>1242904</th>\n",
       "      <td>0x6BF8468DDC4E05FE0034785E01966C87</td>\n",
       "      <td>NaN</td>\n",
       "      <td>GR</td>\n",
       "      <td>0</td>\n",
       "      <td>1</td>\n",
       "    </tr>\n",
       "    <tr>\n",
       "      <th>1275976</th>\n",
       "      <td>0x6E858785FB2B05A25C6562823BF69B97</td>\n",
       "      <td>NaN</td>\n",
       "      <td>GR</td>\n",
       "      <td>0</td>\n",
       "      <td>1</td>\n",
       "    </tr>\n",
       "    <tr>\n",
       "      <th>1803984</th>\n",
       "      <td>0x9D1F843D75D15AD205CF309F403E3B72</td>\n",
       "      <td>NaN</td>\n",
       "      <td>GM</td>\n",
       "      <td>0</td>\n",
       "      <td>1</td>\n",
       "    </tr>\n",
       "    <tr>\n",
       "      <th>1857336</th>\n",
       "      <td>0xA1A8433D25077822DF19813D988FE3EA</td>\n",
       "      <td>NaN</td>\n",
       "      <td>GR</td>\n",
       "      <td>0</td>\n",
       "      <td>1</td>\n",
       "    </tr>\n",
       "    <tr>\n",
       "      <th>1969968</th>\n",
       "      <td>0xAB9FC44872D51801DDC532695615D70E</td>\n",
       "      <td>NaN</td>\n",
       "      <td>GR</td>\n",
       "      <td>0</td>\n",
       "      <td>1</td>\n",
       "    </tr>\n",
       "    <tr>\n",
       "      <th>2120872</th>\n",
       "      <td>0xB898EBA91AC600DE4FC75F7CA183C39A</td>\n",
       "      <td>NaN</td>\n",
       "      <td>GR</td>\n",
       "      <td>0</td>\n",
       "      <td>1</td>\n",
       "    </tr>\n",
       "    <tr>\n",
       "      <th>2342704</th>\n",
       "      <td>0xCC0E0A0BCB132AB661707BF96070D430</td>\n",
       "      <td>NaN</td>\n",
       "      <td>GR</td>\n",
       "      <td>0</td>\n",
       "      <td>1</td>\n",
       "    </tr>\n",
       "    <tr>\n",
       "      <th>2401360</th>\n",
       "      <td>0xD10837274C965C660E8A5929F4D5E917</td>\n",
       "      <td>NaN</td>\n",
       "      <td>GR</td>\n",
       "      <td>0</td>\n",
       "      <td>1</td>\n",
       "    </tr>\n",
       "    <tr>\n",
       "      <th>2592304</th>\n",
       "      <td>0xE14D657F42A66A817B10E804E7B5913D</td>\n",
       "      <td>NaN</td>\n",
       "      <td>GR</td>\n",
       "      <td>0</td>\n",
       "      <td>1</td>\n",
       "    </tr>\n",
       "    <tr>\n",
       "      <th>2637752</th>\n",
       "      <td>0xE50D2FFEFA7B86097E051736BF3B0C50</td>\n",
       "      <td>NaN</td>\n",
       "      <td>GR</td>\n",
       "      <td>0</td>\n",
       "      <td>1</td>\n",
       "    </tr>\n",
       "    <tr>\n",
       "      <th>2696928</th>\n",
       "      <td>0xEA3FF3C5E345754E4C005E28F4C4D025</td>\n",
       "      <td>NaN</td>\n",
       "      <td>GR</td>\n",
       "      <td>0</td>\n",
       "      <td>1</td>\n",
       "    </tr>\n",
       "    <tr>\n",
       "      <th>2747888</th>\n",
       "      <td>0xEE8E118FE2C4EA26DCB39DBD7BC2CF35</td>\n",
       "      <td>NaN</td>\n",
       "      <td>GR</td>\n",
       "      <td>0</td>\n",
       "      <td>1</td>\n",
       "    </tr>\n",
       "  </tbody>\n",
       "</table>\n",
       "</div>"
      ],
      "text/plain": [
       "                           employee_id_hash hd_notify_date academic_career  \\\n",
       "126464   0x0B421063A794F4EF7609C11BE94E34E8            NaN              GR   \n",
       "326664   0x1DF49F916C8E1A1B3B19206F88EB70D9            NaN              GR   \n",
       "1242904  0x6BF8468DDC4E05FE0034785E01966C87            NaN              GR   \n",
       "1275976  0x6E858785FB2B05A25C6562823BF69B97            NaN              GR   \n",
       "1803984  0x9D1F843D75D15AD205CF309F403E3B72            NaN              GM   \n",
       "1857336  0xA1A8433D25077822DF19813D988FE3EA            NaN              GR   \n",
       "1969968  0xAB9FC44872D51801DDC532695615D70E            NaN              GR   \n",
       "2120872  0xB898EBA91AC600DE4FC75F7CA183C39A            NaN              GR   \n",
       "2342704  0xCC0E0A0BCB132AB661707BF96070D430            NaN              GR   \n",
       "2401360  0xD10837274C965C660E8A5929F4D5E917            NaN              GR   \n",
       "2592304  0xE14D657F42A66A817B10E804E7B5913D            NaN              GR   \n",
       "2637752  0xE50D2FFEFA7B86097E051736BF3B0C50            NaN              GR   \n",
       "2696928  0xEA3FF3C5E345754E4C005E28F4C4D025            NaN              GR   \n",
       "2747888  0xEE8E118FE2C4EA26DCB39DBD7BC2CF35            NaN              GR   \n",
       "\n",
       "         is_greek  is_athlete  \n",
       "126464          0           1  \n",
       "326664          0           1  \n",
       "1242904         0           1  \n",
       "1275976         0           1  \n",
       "1803984         0           1  \n",
       "1857336         0           1  \n",
       "1969968         0           1  \n",
       "2120872         0           1  \n",
       "2342704         0           1  \n",
       "2401360         0           1  \n",
       "2592304         0           1  \n",
       "2637752         0           1  \n",
       "2696928         0           1  \n",
       "2747888         0           1  "
      ]
     },
     "execution_count": 52,
     "metadata": {},
     "output_type": "execute_result"
    }
   ],
   "source": [
    "# 14 individuals marked is_athlete but are not undergraduates\n",
    "unique[(unique['academic_career'] != 'UG_A') & (unique['is_athlete'] == 1)]"
   ]
  },
  {
   "cell_type": "code",
   "execution_count": 60,
   "metadata": {},
   "outputs": [],
   "source": [
    "# Now the question, can we trust the UG_G and UG_A categorizations?\n",
    "# compare it with the class registration data, which is confirmed to have been saved in Oct 2021\n"
   ]
  },
  {
   "cell_type": "code",
   "execution_count": 61,
   "metadata": {},
   "outputs": [
    {
     "name": "stdout",
     "output_type": "stream",
     "text": [
      "(143873, 12) (28153, 4)\n"
     ]
    },
    {
     "name": "stderr",
     "output_type": "stream",
     "text": [
      "<ipython-input-61-946b93d6bb7f>:3: SettingWithCopyWarning: \n",
      "A value is trying to be set on a copy of a slice from a DataFrame\n",
      "\n",
      "See the caveats in the documentation: https://pandas.pydata.org/pandas-docs/stable/user_guide/indexing.html#returning-a-view-versus-a-copy\n",
      "  class_registrations_students.drop_duplicates(inplace=True, ignore_index = True)\n"
     ]
    }
   ],
   "source": [
    "class_registrations = pd.read_csv('older data/TAB_all_students_classes.csv')\n",
    "class_registrations_students = class_registrations[['employee_id_hash', 'is_greek', 'is_athlete', 'academic_career']]\n",
    "class_registrations_students.drop_duplicates(inplace=True, ignore_index = True)\n",
    "\n",
    "print(class_registrations.shape, class_registrations_students.shape)"
   ]
  },
  {
   "cell_type": "code",
   "execution_count": 63,
   "metadata": {},
   "outputs": [
    {
     "data": {
      "text/html": [
       "<div>\n",
       "<style scoped>\n",
       "    .dataframe tbody tr th:only-of-type {\n",
       "        vertical-align: middle;\n",
       "    }\n",
       "\n",
       "    .dataframe tbody tr th {\n",
       "        vertical-align: top;\n",
       "    }\n",
       "\n",
       "    .dataframe thead th {\n",
       "        text-align: right;\n",
       "    }\n",
       "</style>\n",
       "<table border=\"1\" class=\"dataframe\">\n",
       "  <thead>\n",
       "    <tr style=\"text-align: right;\">\n",
       "      <th></th>\n",
       "      <th>employee_id_hash</th>\n",
       "      <th>is_greek</th>\n",
       "      <th>is_athlete</th>\n",
       "      <th>academic_career</th>\n",
       "    </tr>\n",
       "  </thead>\n",
       "  <tbody>\n",
       "    <tr>\n",
       "      <th>0</th>\n",
       "      <td>0x0001CEED0A3584312155FD3B695D2EB6</td>\n",
       "      <td>0</td>\n",
       "      <td>0</td>\n",
       "      <td>UG</td>\n",
       "    </tr>\n",
       "    <tr>\n",
       "      <th>1</th>\n",
       "      <td>0x0006D10D9D2AF2FA09ED007D742633B1</td>\n",
       "      <td>0</td>\n",
       "      <td>0</td>\n",
       "      <td>GR</td>\n",
       "    </tr>\n",
       "    <tr>\n",
       "      <th>2</th>\n",
       "      <td>0x0019A7D6C123A2907CAECA890EE78500</td>\n",
       "      <td>0</td>\n",
       "      <td>0</td>\n",
       "      <td>UG</td>\n",
       "    </tr>\n",
       "    <tr>\n",
       "      <th>3</th>\n",
       "      <td>0x001E81320F975882CF328BE65817DD98</td>\n",
       "      <td>0</td>\n",
       "      <td>0</td>\n",
       "      <td>UG</td>\n",
       "    </tr>\n",
       "    <tr>\n",
       "      <th>4</th>\n",
       "      <td>0x00201F174069EA2D6081AF34AD4DDE41</td>\n",
       "      <td>0</td>\n",
       "      <td>0</td>\n",
       "      <td>GR</td>\n",
       "    </tr>\n",
       "  </tbody>\n",
       "</table>\n",
       "</div>"
      ],
      "text/plain": [
       "                     employee_id_hash  is_greek  is_athlete academic_career\n",
       "0  0x0001CEED0A3584312155FD3B695D2EB6         0           0              UG\n",
       "1  0x0006D10D9D2AF2FA09ED007D742633B1         0           0              GR\n",
       "2  0x0019A7D6C123A2907CAECA890EE78500         0           0              UG\n",
       "3  0x001E81320F975882CF328BE65817DD98         0           0              UG\n",
       "4  0x00201F174069EA2D6081AF34AD4DDE41         0           0              GR"
      ]
     },
     "execution_count": 63,
     "metadata": {},
     "output_type": "execute_result"
    }
   ],
   "source": [
    "class_registrations_students.head()"
   ]
  },
  {
   "cell_type": "code",
   "execution_count": 62,
   "metadata": {},
   "outputs": [
    {
     "data": {
      "text/plain": [
       "0    25448\n",
       "1     2705\n",
       "Name: is_greek, dtype: int64"
      ]
     },
     "execution_count": 62,
     "metadata": {},
     "output_type": "execute_result"
    }
   ],
   "source": [
    "class_registrations_students['is_greek'].value_counts()\n"
   ]
  },
  {
   "cell_type": "code",
   "execution_count": null,
   "metadata": {},
   "outputs": [],
   "source": [
    "# Let's call the class registration data D1, which is confirmed to be pulled in October 2021\n",
    "# Let's call the student-day data (\"unique\") D2, which has been updated a few times and might be pulled around March 2022\n",
    "\n",
    "# We want to check whether the G/A information in D1 and D2 are consistent\n",
    "# To do this, we first join the two tables on employee_id_hash"
   ]
  },
  {
   "cell_type": "code",
   "execution_count": 73,
   "metadata": {},
   "outputs": [
    {
     "name": "stdout",
     "output_type": "stream",
     "text": [
      "(28149, 8)\n"
     ]
    },
    {
     "data": {
      "text/html": [
       "<div>\n",
       "<style scoped>\n",
       "    .dataframe tbody tr th:only-of-type {\n",
       "        vertical-align: middle;\n",
       "    }\n",
       "\n",
       "    .dataframe tbody tr th {\n",
       "        vertical-align: top;\n",
       "    }\n",
       "\n",
       "    .dataframe thead th {\n",
       "        text-align: right;\n",
       "    }\n",
       "</style>\n",
       "<table border=\"1\" class=\"dataframe\">\n",
       "  <thead>\n",
       "    <tr style=\"text-align: right;\">\n",
       "      <th></th>\n",
       "      <th>employee_id_hash</th>\n",
       "      <th>is_greek_x</th>\n",
       "      <th>is_athlete_x</th>\n",
       "      <th>academic_career_x</th>\n",
       "      <th>hd_notify_date</th>\n",
       "      <th>academic_career_y</th>\n",
       "      <th>is_greek_y</th>\n",
       "      <th>is_athlete_y</th>\n",
       "    </tr>\n",
       "  </thead>\n",
       "  <tbody>\n",
       "    <tr>\n",
       "      <th>0</th>\n",
       "      <td>0x0001CEED0A3584312155FD3B695D2EB6</td>\n",
       "      <td>0</td>\n",
       "      <td>0</td>\n",
       "      <td>UG</td>\n",
       "      <td>NaN</td>\n",
       "      <td>UG</td>\n",
       "      <td>0</td>\n",
       "      <td>0</td>\n",
       "    </tr>\n",
       "    <tr>\n",
       "      <th>1</th>\n",
       "      <td>0x0006D10D9D2AF2FA09ED007D742633B1</td>\n",
       "      <td>0</td>\n",
       "      <td>0</td>\n",
       "      <td>GR</td>\n",
       "      <td>NaN</td>\n",
       "      <td>GR</td>\n",
       "      <td>0</td>\n",
       "      <td>0</td>\n",
       "    </tr>\n",
       "    <tr>\n",
       "      <th>2</th>\n",
       "      <td>0x0019A7D6C123A2907CAECA890EE78500</td>\n",
       "      <td>0</td>\n",
       "      <td>0</td>\n",
       "      <td>UG</td>\n",
       "      <td>NaN</td>\n",
       "      <td>UG</td>\n",
       "      <td>0</td>\n",
       "      <td>0</td>\n",
       "    </tr>\n",
       "    <tr>\n",
       "      <th>3</th>\n",
       "      <td>0x001E81320F975882CF328BE65817DD98</td>\n",
       "      <td>0</td>\n",
       "      <td>0</td>\n",
       "      <td>UG</td>\n",
       "      <td>NaN</td>\n",
       "      <td>UG</td>\n",
       "      <td>0</td>\n",
       "      <td>0</td>\n",
       "    </tr>\n",
       "    <tr>\n",
       "      <th>4</th>\n",
       "      <td>0x00201F174069EA2D6081AF34AD4DDE41</td>\n",
       "      <td>0</td>\n",
       "      <td>0</td>\n",
       "      <td>GR</td>\n",
       "      <td>NaN</td>\n",
       "      <td>GR</td>\n",
       "      <td>0</td>\n",
       "      <td>0</td>\n",
       "    </tr>\n",
       "  </tbody>\n",
       "</table>\n",
       "</div>"
      ],
      "text/plain": [
       "                     employee_id_hash  is_greek_x  is_athlete_x  \\\n",
       "0  0x0001CEED0A3584312155FD3B695D2EB6           0             0   \n",
       "1  0x0006D10D9D2AF2FA09ED007D742633B1           0             0   \n",
       "2  0x0019A7D6C123A2907CAECA890EE78500           0             0   \n",
       "3  0x001E81320F975882CF328BE65817DD98           0             0   \n",
       "4  0x00201F174069EA2D6081AF34AD4DDE41           0             0   \n",
       "\n",
       "  academic_career_x hd_notify_date academic_career_y  is_greek_y  is_athlete_y  \n",
       "0                UG            NaN                UG           0             0  \n",
       "1                GR            NaN                GR           0             0  \n",
       "2                UG            NaN                UG           0             0  \n",
       "3                UG            NaN                UG           0             0  \n",
       "4                GR            NaN                GR           0             0  "
      ]
     },
     "execution_count": 73,
     "metadata": {},
     "output_type": "execute_result"
    }
   ],
   "source": [
    "joined = pd.merge(class_registrations_students, unique, how = 'inner', on = 'employee_id_hash')\n",
    "print(joined.shape)\n",
    "joined.head()"
   ]
  },
  {
   "cell_type": "code",
   "execution_count": 84,
   "metadata": {},
   "outputs": [
    {
     "name": "stdout",
     "output_type": "stream",
     "text": [
      "D1 yes, D2 yes:  2407\n",
      "D1 yes, D2 no:  298\n",
      "D1 no, D2 yes:  925\n"
     ]
    }
   ],
   "source": [
    "# for Greek membership:\n",
    "\n",
    "print('D1 yes, D2 yes: ', joined[(joined['is_greek_x']==1) & (joined['academic_career_y'] == 'UG_G')].shape[0])\n",
    "print('D1 yes, D2 no: ', joined[(joined['is_greek_x']==1) & (joined['academic_career_y'] != 'UG_G')].shape[0])\n",
    "print('D1 no, D2 yes: ', joined[(joined['is_greek_x'] !=1) & (joined['academic_career_y'] == 'UG_G')].shape[0])"
   ]
  },
  {
   "cell_type": "code",
   "execution_count": 85,
   "metadata": {},
   "outputs": [
    {
     "name": "stdout",
     "output_type": "stream",
     "text": [
      "D1 yes, D2 yes:  1035\n",
      "D1 yes, D2 no:  104\n",
      "D1 no, D2 yes:  19\n"
     ]
    }
   ],
   "source": [
    "# for athlete membership:\n",
    "\n",
    "print('D1 yes, D2 yes: ', joined[(joined['is_athlete_x']==1) & (joined['academic_career_y'] == 'UG_A')].shape[0])\n",
    "print('D1 yes, D2 no: ', joined[(joined['is_athlete_x']==1) & (joined['academic_career_y'] != 'UG_A')].shape[0])\n",
    "print('D1 no, D2 yes: ', joined[(joined['is_athlete_x'] !=1) & (joined['academic_career_y'] == 'UG_A')].shape[0])"
   ]
  },
  {
   "cell_type": "code",
   "execution_count": null,
   "metadata": {},
   "outputs": [],
   "source": [
    "# It does seem like a big discrepancy, especially the 900+ people who very likely just joined Greek life in Spring 2022. \n",
    "# This is pretty strong evidence for D2 being spring 2022 data.\n",
    "\n",
    "# So how do we use that? We should use D1 information to fix the student-day data\n",
    "# This would be our next task\n"
   ]
  },
  {
   "cell_type": "code",
   "execution_count": 88,
   "metadata": {},
   "outputs": [
    {
     "data": {
      "text/html": [
       "<div>\n",
       "<style scoped>\n",
       "    .dataframe tbody tr th:only-of-type {\n",
       "        vertical-align: middle;\n",
       "    }\n",
       "\n",
       "    .dataframe tbody tr th {\n",
       "        vertical-align: top;\n",
       "    }\n",
       "\n",
       "    .dataframe thead th {\n",
       "        text-align: right;\n",
       "    }\n",
       "</style>\n",
       "<table border=\"1\" class=\"dataframe\">\n",
       "  <thead>\n",
       "    <tr style=\"text-align: right;\">\n",
       "      <th></th>\n",
       "      <th>employee_id_hash</th>\n",
       "      <th>is_greek_x</th>\n",
       "      <th>is_athlete_x</th>\n",
       "      <th>academic_career_x</th>\n",
       "      <th>hd_notify_date</th>\n",
       "      <th>academic_career_y</th>\n",
       "      <th>is_greek_y</th>\n",
       "      <th>is_athlete_y</th>\n",
       "    </tr>\n",
       "  </thead>\n",
       "  <tbody>\n",
       "    <tr>\n",
       "      <th>0</th>\n",
       "      <td>0x0001CEED0A3584312155FD3B695D2EB6</td>\n",
       "      <td>0.0</td>\n",
       "      <td>0.0</td>\n",
       "      <td>UG</td>\n",
       "      <td>NaN</td>\n",
       "      <td>UG</td>\n",
       "      <td>0.0</td>\n",
       "      <td>0.0</td>\n",
       "    </tr>\n",
       "    <tr>\n",
       "      <th>1</th>\n",
       "      <td>0x0006D10D9D2AF2FA09ED007D742633B1</td>\n",
       "      <td>0.0</td>\n",
       "      <td>0.0</td>\n",
       "      <td>GR</td>\n",
       "      <td>NaN</td>\n",
       "      <td>GR</td>\n",
       "      <td>0.0</td>\n",
       "      <td>0.0</td>\n",
       "    </tr>\n",
       "    <tr>\n",
       "      <th>2</th>\n",
       "      <td>0x0019A7D6C123A2907CAECA890EE78500</td>\n",
       "      <td>0.0</td>\n",
       "      <td>0.0</td>\n",
       "      <td>UG</td>\n",
       "      <td>NaN</td>\n",
       "      <td>UG</td>\n",
       "      <td>0.0</td>\n",
       "      <td>0.0</td>\n",
       "    </tr>\n",
       "    <tr>\n",
       "      <th>3</th>\n",
       "      <td>0x001E81320F975882CF328BE65817DD98</td>\n",
       "      <td>0.0</td>\n",
       "      <td>0.0</td>\n",
       "      <td>UG</td>\n",
       "      <td>NaN</td>\n",
       "      <td>UG</td>\n",
       "      <td>0.0</td>\n",
       "      <td>0.0</td>\n",
       "    </tr>\n",
       "    <tr>\n",
       "      <th>4</th>\n",
       "      <td>0x00201F174069EA2D6081AF34AD4DDE41</td>\n",
       "      <td>0.0</td>\n",
       "      <td>0.0</td>\n",
       "      <td>GR</td>\n",
       "      <td>NaN</td>\n",
       "      <td>GR</td>\n",
       "      <td>0.0</td>\n",
       "      <td>0.0</td>\n",
       "    </tr>\n",
       "    <tr>\n",
       "      <th>...</th>\n",
       "      <td>...</td>\n",
       "      <td>...</td>\n",
       "      <td>...</td>\n",
       "      <td>...</td>\n",
       "      <td>...</td>\n",
       "      <td>...</td>\n",
       "      <td>...</td>\n",
       "      <td>...</td>\n",
       "    </tr>\n",
       "    <tr>\n",
       "      <th>28312</th>\n",
       "      <td>0xFA2717D490A292D3199F6DC6D060761F</td>\n",
       "      <td>NaN</td>\n",
       "      <td>NaN</td>\n",
       "      <td>NaN</td>\n",
       "      <td>NaN</td>\n",
       "      <td>UG</td>\n",
       "      <td>0.0</td>\n",
       "      <td>0.0</td>\n",
       "    </tr>\n",
       "    <tr>\n",
       "      <th>28313</th>\n",
       "      <td>0xFD5CC1CC4C954413F7A0CA4FF0318CB3</td>\n",
       "      <td>NaN</td>\n",
       "      <td>NaN</td>\n",
       "      <td>NaN</td>\n",
       "      <td>NaN</td>\n",
       "      <td>UG</td>\n",
       "      <td>0.0</td>\n",
       "      <td>0.0</td>\n",
       "    </tr>\n",
       "    <tr>\n",
       "      <th>28314</th>\n",
       "      <td>0xFDF9072DD5D08985A86034F98AE68672</td>\n",
       "      <td>NaN</td>\n",
       "      <td>NaN</td>\n",
       "      <td>NaN</td>\n",
       "      <td>NaN</td>\n",
       "      <td>UG</td>\n",
       "      <td>0.0</td>\n",
       "      <td>0.0</td>\n",
       "    </tr>\n",
       "    <tr>\n",
       "      <th>28315</th>\n",
       "      <td>0xFE332FEE0DE4CD7EA4CD32D7361CF44D</td>\n",
       "      <td>NaN</td>\n",
       "      <td>NaN</td>\n",
       "      <td>NaN</td>\n",
       "      <td>NaN</td>\n",
       "      <td>UG</td>\n",
       "      <td>0.0</td>\n",
       "      <td>0.0</td>\n",
       "    </tr>\n",
       "    <tr>\n",
       "      <th>28316</th>\n",
       "      <td>0xFFE824767B91D556E073C2D889FE676A</td>\n",
       "      <td>NaN</td>\n",
       "      <td>NaN</td>\n",
       "      <td>NaN</td>\n",
       "      <td>NaN</td>\n",
       "      <td>UG</td>\n",
       "      <td>0.0</td>\n",
       "      <td>0.0</td>\n",
       "    </tr>\n",
       "  </tbody>\n",
       "</table>\n",
       "<p>28317 rows × 8 columns</p>\n",
       "</div>"
      ],
      "text/plain": [
       "                         employee_id_hash  is_greek_x  is_athlete_x  \\\n",
       "0      0x0001CEED0A3584312155FD3B695D2EB6         0.0           0.0   \n",
       "1      0x0006D10D9D2AF2FA09ED007D742633B1         0.0           0.0   \n",
       "2      0x0019A7D6C123A2907CAECA890EE78500         0.0           0.0   \n",
       "3      0x001E81320F975882CF328BE65817DD98         0.0           0.0   \n",
       "4      0x00201F174069EA2D6081AF34AD4DDE41         0.0           0.0   \n",
       "...                                   ...         ...           ...   \n",
       "28312  0xFA2717D490A292D3199F6DC6D060761F         NaN           NaN   \n",
       "28313  0xFD5CC1CC4C954413F7A0CA4FF0318CB3         NaN           NaN   \n",
       "28314  0xFDF9072DD5D08985A86034F98AE68672         NaN           NaN   \n",
       "28315  0xFE332FEE0DE4CD7EA4CD32D7361CF44D         NaN           NaN   \n",
       "28316  0xFFE824767B91D556E073C2D889FE676A         NaN           NaN   \n",
       "\n",
       "      academic_career_x hd_notify_date academic_career_y  is_greek_y  \\\n",
       "0                    UG            NaN                UG         0.0   \n",
       "1                    GR            NaN                GR         0.0   \n",
       "2                    UG            NaN                UG         0.0   \n",
       "3                    UG            NaN                UG         0.0   \n",
       "4                    GR            NaN                GR         0.0   \n",
       "...                 ...            ...               ...         ...   \n",
       "28312               NaN            NaN                UG         0.0   \n",
       "28313               NaN            NaN                UG         0.0   \n",
       "28314               NaN            NaN                UG         0.0   \n",
       "28315               NaN            NaN                UG         0.0   \n",
       "28316               NaN            NaN                UG         0.0   \n",
       "\n",
       "       is_athlete_y  \n",
       "0               0.0  \n",
       "1               0.0  \n",
       "2               0.0  \n",
       "3               0.0  \n",
       "4               0.0  \n",
       "...             ...  \n",
       "28312           0.0  \n",
       "28313           0.0  \n",
       "28314           0.0  \n",
       "28315           0.0  \n",
       "28316           0.0  \n",
       "\n",
       "[28317 rows x 8 columns]"
      ]
     },
     "execution_count": 88,
     "metadata": {},
     "output_type": "execute_result"
    }
   ],
   "source": [
    "pd.merge(class_registrations_students, unique, how = 'outer', on = 'employee_id_hash')"
   ]
  },
  {
   "cell_type": "code",
   "execution_count": null,
   "metadata": {},
   "outputs": [],
   "source": [
    "# D1 28153, D2 28313\n",
    "# intersection 28149\n",
    "# in D1, not in D2: 4\n",
    "# in D2, not in D1: 164\n",
    "# union 28317"
   ]
  },
  {
   "cell_type": "code",
   "execution_count": 93,
   "metadata": {},
   "outputs": [
    {
     "data": {
      "text/plain": [
       "28149"
      ]
     },
     "execution_count": 93,
     "metadata": {},
     "output_type": "execute_result"
    }
   ],
   "source": [
    "len(set(class_registrations_students['employee_id_hash']).intersection(set(unique['employee_id_hash'])))\n"
   ]
  },
  {
   "cell_type": "code",
   "execution_count": null,
   "metadata": {},
   "outputs": [],
   "source": []
  }
 ],
 "metadata": {
  "kernelspec": {
   "display_name": "bope_pca",
   "language": "python",
   "name": "python3"
  },
  "language_info": {
   "codemirror_mode": {
    "name": "ipython",
    "version": 3
   },
   "file_extension": ".py",
   "mimetype": "text/x-python",
   "name": "python",
   "nbconvert_exporter": "python",
   "pygments_lexer": "ipython3",
   "version": "3.9.15 (main, Nov 24 2022, 14:31:59) \n[GCC 11.2.0]"
  },
  "vscode": {
   "interpreter": {
    "hash": "f178f7686bb85c5c6e141a85fd4c17c3082d63b89f6cfaecdf98c22c0047a219"
   }
  }
 },
 "nbformat": 4,
 "nbformat_minor": 4
}
