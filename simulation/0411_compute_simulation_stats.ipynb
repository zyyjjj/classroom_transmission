{
 "cells": [
  {
   "cell_type": "code",
   "execution_count": 35,
   "metadata": {},
   "outputs": [
    {
     "name": "stdout",
     "output_type": "stream",
     "text": [
      "The autoreload extension is already loaded. To reload it, use:\n",
      "  %reload_ext autoreload\n"
     ]
    }
   ],
   "source": [
    "import numpy as np \n",
    "import pandas as pd\n",
    "\n",
    "%load_ext autoreload\n",
    "%autoreload 2\n",
    "from simulation import Simulation\n",
    "\n",
    "import pickle"
   ]
  },
  {
   "cell_type": "code",
   "execution_count": 6,
   "metadata": {},
   "outputs": [
    {
     "name": "stderr",
     "output_type": "stream",
     "text": [
      "C:\\Users\\yz685\\AppData\\Roaming\\Python\\Python37\\site-packages\\IPython\\core\\interactiveshell.py:3553: DtypeWarning: Columns (5) have mixed types.Specify dtype option on import or set low_memory=False.\n",
      "  exec(code_obj, self.user_global_ns, self.user_ns)\n",
      "g:\\Data_Peter\\classroom_transmission\\simulation\\simulation.py:18: SettingWithCopyWarning: \n",
      "A value is trying to be set on a copy of a slice from a DataFrame.\n",
      "Try using .loc[row_indexer,col_indexer] = value instead\n",
      "\n",
      "See the caveats in the documentation: https://pandas.pydata.org/pandas-docs/stable/user_guide/indexing.html#returning-a-view-versus-a-copy\n",
      "  self.df['day_idx'] = self.df['day_idx'].apply(lambda x: dt.datetime.strptime(x, '%Y-%m-%d').toordinal() - baseline_date)\n",
      "g:\\Data_Peter\\classroom_transmission\\simulation\\simulation.py:19: SettingWithCopyWarning: \n",
      "A value is trying to be set on a copy of a slice from a DataFrame.\n",
      "Try using .loc[row_indexer,col_indexer] = value instead\n",
      "\n",
      "See the caveats in the documentation: https://pandas.pydata.org/pandas-docs/stable/user_guide/indexing.html#returning-a-view-versus-a-copy\n",
      "  self.df['day_idx_stop'] = self.df['day_idx'] + 1\n"
     ]
    }
   ],
   "source": [
    "all_students_features_sp22 = pd.read_csv('../data/data_sp22/all_students_features_T_e=7_finalized_nontruncated_sp22.csv', index_col = 0)\n",
    "\n",
    "sim = Simulation(student_features=all_students_features_sp22)"
   ]
  },
  {
   "cell_type": "code",
   "execution_count": 20,
   "metadata": {},
   "outputs": [],
   "source": [
    "from collections import defaultdict"
   ]
  },
  {
   "cell_type": "code",
   "execution_count": 30,
   "metadata": {},
   "outputs": [],
   "source": [
    "TRUE_COEF = 0.27"
   ]
  },
  {
   "cell_type": "code",
   "execution_count": 158,
   "metadata": {},
   "outputs": [
    {
     "name": "stdout",
     "output_type": "stream",
     "text": [
      "shape value 0.5\n"
     ]
    },
    {
     "name": "stderr",
     "output_type": "stream",
     "text": [
      "C:\\Users\\yz685\\AppData\\Roaming\\Python\\Python37\\site-packages\\lifelines\\utils\\__init__.py:1122: ConvergenceWarning: Column academic_career_VM have very low variance when conditioned on death event present or not. This may harm convergence. This could be a form of 'complete separation'. For example, try the following code:\n",
      "\n",
      ">>> events = df['infected_on_this_day'].astype(bool)\n",
      ">>> print(df.loc[events, 'academic_career_VM'].var())\n",
      ">>> print(df.loc[~events, 'academic_career_VM'].var())\n",
      "\n",
      "A very low variance means that the column academic_career_VM completely determines whether a subject dies or not. See https://stats.stackexchange.com/questions/11109/how-to-deal-with-perfect-separation-in-logistic-regression.\n",
      "\n",
      "  warnings.warn(dedent(warning_text), ConvergenceWarning)\n",
      "C:\\Users\\yz685\\AppData\\Roaming\\Python\\Python37\\site-packages\\lifelines\\fitters\\cox_time_varying_fitter.py:491: ConvergenceWarning: Newton-Raphson convergence completed but norm(delta) is still high, 0.171. This may imply non-unique solutions to the maximum likelihood. Perhaps there is colinearity or complete separation in the dataset?\n",
      "  ConvergenceWarning,\n"
     ]
    },
    {
     "name": "stdout",
     "output_type": "stream",
     "text": [
      "batch 0, cox coeff=-2.34, p=0.39, logit coeff=-2.34, p=0.34; logit campus_pos coeff=0.01, p=0.10; \n"
     ]
    },
    {
     "name": "stderr",
     "output_type": "stream",
     "text": [
      "C:\\Users\\yz685\\AppData\\Roaming\\Python\\Python37\\site-packages\\lifelines\\utils\\__init__.py:1122: ConvergenceWarning: Column academic_career_GR have very low variance when conditioned on death event present or not. This may harm convergence. This could be a form of 'complete separation'. For example, try the following code:\n",
      "\n",
      ">>> events = df['infected_on_this_day'].astype(bool)\n",
      ">>> print(df.loc[events, 'academic_career_GR'].var())\n",
      ">>> print(df.loc[~events, 'academic_career_GR'].var())\n",
      "\n",
      "A very low variance means that the column academic_career_GR completely determines whether a subject dies or not. See https://stats.stackexchange.com/questions/11109/how-to-deal-with-perfect-separation-in-logistic-regression.\n",
      "\n",
      "  warnings.warn(dedent(warning_text), ConvergenceWarning)\n",
      "C:\\Users\\yz685\\AppData\\Roaming\\Python\\Python37\\site-packages\\lifelines\\fitters\\cox_time_varying_fitter.py:491: ConvergenceWarning: Newton-Raphson convergence completed but norm(delta) is still high, 0.369. This may imply non-unique solutions to the maximum likelihood. Perhaps there is colinearity or complete separation in the dataset?\n",
      "  ConvergenceWarning,\n"
     ]
    },
    {
     "name": "stdout",
     "output_type": "stream",
     "text": [
      "batch 1, cox coeff=0.82, p=0.79, logit coeff=0.82, p=0.77; logit campus_pos coeff=-0.01, p=0.07; \n"
     ]
    },
    {
     "name": "stderr",
     "output_type": "stream",
     "text": [
      "C:\\Users\\yz685\\AppData\\Roaming\\Python\\Python37\\site-packages\\lifelines\\utils\\__init__.py:1122: ConvergenceWarning: Column academic_career_GR have very low variance when conditioned on death event present or not. This may harm convergence. This could be a form of 'complete separation'. For example, try the following code:\n",
      "\n",
      ">>> events = df['infected_on_this_day'].astype(bool)\n",
      ">>> print(df.loc[events, 'academic_career_GR'].var())\n",
      ">>> print(df.loc[~events, 'academic_career_GR'].var())\n",
      "\n",
      "A very low variance means that the column academic_career_GR completely determines whether a subject dies or not. See https://stats.stackexchange.com/questions/11109/how-to-deal-with-perfect-separation-in-logistic-regression.\n",
      "\n",
      "  warnings.warn(dedent(warning_text), ConvergenceWarning)\n",
      "C:\\Users\\yz685\\AppData\\Roaming\\Python\\Python37\\site-packages\\lifelines\\fitters\\cox_time_varying_fitter.py:491: ConvergenceWarning: Newton-Raphson convergence completed but norm(delta) is still high, 0.370. This may imply non-unique solutions to the maximum likelihood. Perhaps there is colinearity or complete separation in the dataset?\n",
      "  ConvergenceWarning,\n"
     ]
    },
    {
     "name": "stdout",
     "output_type": "stream",
     "text": [
      "batch 2, cox coeff=-4.90, p=0.09, logit coeff=-4.90, p=0.07; logit campus_pos coeff=-0.02, p=0.00; \n"
     ]
    },
    {
     "name": "stderr",
     "output_type": "stream",
     "text": [
      "C:\\Users\\yz685\\AppData\\Roaming\\Python\\Python37\\site-packages\\lifelines\\utils\\__init__.py:1122: ConvergenceWarning: Column academic_career_UG_A have very low variance when conditioned on death event present or not. This may harm convergence. This could be a form of 'complete separation'. For example, try the following code:\n",
      "\n",
      ">>> events = df['infected_on_this_day'].astype(bool)\n",
      ">>> print(df.loc[events, 'academic_career_UG_A'].var())\n",
      ">>> print(df.loc[~events, 'academic_career_UG_A'].var())\n",
      "\n",
      "A very low variance means that the column academic_career_UG_A completely determines whether a subject dies or not. See https://stats.stackexchange.com/questions/11109/how-to-deal-with-perfect-separation-in-logistic-regression.\n",
      "\n",
      "  warnings.warn(dedent(warning_text), ConvergenceWarning)\n",
      "C:\\Users\\yz685\\AppData\\Roaming\\Python\\Python37\\site-packages\\lifelines\\fitters\\cox_time_varying_fitter.py:491: ConvergenceWarning: Newton-Raphson convergence completed but norm(delta) is still high, 0.208. This may imply non-unique solutions to the maximum likelihood. Perhaps there is colinearity or complete separation in the dataset?\n",
      "  ConvergenceWarning,\n"
     ]
    },
    {
     "name": "stdout",
     "output_type": "stream",
     "text": [
      "batch 3, cox coeff=-2.86, p=0.33, logit coeff=-2.86, p=0.38; logit campus_pos coeff=-0.01, p=0.14; \n"
     ]
    },
    {
     "name": "stderr",
     "output_type": "stream",
     "text": [
      "C:\\Users\\yz685\\AppData\\Roaming\\Python\\Python37\\site-packages\\lifelines\\utils\\__init__.py:1122: ConvergenceWarning: Column academic_career_UG_A have very low variance when conditioned on death event present or not. This may harm convergence. This could be a form of 'complete separation'. For example, try the following code:\n",
      "\n",
      ">>> events = df['infected_on_this_day'].astype(bool)\n",
      ">>> print(df.loc[events, 'academic_career_UG_A'].var())\n",
      ">>> print(df.loc[~events, 'academic_career_UG_A'].var())\n",
      "\n",
      "A very low variance means that the column academic_career_UG_A completely determines whether a subject dies or not. See https://stats.stackexchange.com/questions/11109/how-to-deal-with-perfect-separation-in-logistic-regression.\n",
      "\n",
      "  warnings.warn(dedent(warning_text), ConvergenceWarning)\n",
      "C:\\Users\\yz685\\AppData\\Roaming\\Python\\Python37\\site-packages\\lifelines\\fitters\\cox_time_varying_fitter.py:491: ConvergenceWarning: Newton-Raphson convergence completed but norm(delta) is still high, 0.264. This may imply non-unique solutions to the maximum likelihood. Perhaps there is colinearity or complete separation in the dataset?\n",
      "  ConvergenceWarning,\n"
     ]
    },
    {
     "name": "stdout",
     "output_type": "stream",
     "text": [
      "batch 4, cox coeff=-0.75, p=0.77, logit coeff=-0.75, p=0.77; logit campus_pos coeff=-0.00, p=0.21; \n"
     ]
    },
    {
     "name": "stderr",
     "output_type": "stream",
     "text": [
      "C:\\Users\\yz685\\AppData\\Roaming\\Python\\Python37\\site-packages\\lifelines\\utils\\__init__.py:1122: ConvergenceWarning: Column academic_career_GR have very low variance when conditioned on death event present or not. This may harm convergence. This could be a form of 'complete separation'. For example, try the following code:\n",
      "\n",
      ">>> events = df['infected_on_this_day'].astype(bool)\n",
      ">>> print(df.loc[events, 'academic_career_GR'].var())\n",
      ">>> print(df.loc[~events, 'academic_career_GR'].var())\n",
      "\n",
      "A very low variance means that the column academic_career_GR completely determines whether a subject dies or not. See https://stats.stackexchange.com/questions/11109/how-to-deal-with-perfect-separation-in-logistic-regression.\n",
      "\n",
      "  warnings.warn(dedent(warning_text), ConvergenceWarning)\n",
      "C:\\Users\\yz685\\AppData\\Roaming\\Python\\Python37\\site-packages\\lifelines\\fitters\\cox_time_varying_fitter.py:491: ConvergenceWarning: Newton-Raphson convergence completed but norm(delta) is still high, 0.362. This may imply non-unique solutions to the maximum likelihood. Perhaps there is colinearity or complete separation in the dataset?\n",
      "  ConvergenceWarning,\n"
     ]
    },
    {
     "name": "stdout",
     "output_type": "stream",
     "text": [
      "batch 5, cox coeff=-0.36, p=0.87, logit coeff=-0.36, p=0.87; logit campus_pos coeff=-0.00, p=0.90; \n"
     ]
    },
    {
     "name": "stderr",
     "output_type": "stream",
     "text": [
      "C:\\Users\\yz685\\AppData\\Roaming\\Python\\Python37\\site-packages\\lifelines\\utils\\__init__.py:1122: ConvergenceWarning: Column academic_career_LA have very low variance when conditioned on death event present or not. This may harm convergence. This could be a form of 'complete separation'. For example, try the following code:\n",
      "\n",
      ">>> events = df['infected_on_this_day'].astype(bool)\n",
      ">>> print(df.loc[events, 'academic_career_LA'].var())\n",
      ">>> print(df.loc[~events, 'academic_career_LA'].var())\n",
      "\n",
      "A very low variance means that the column academic_career_LA completely determines whether a subject dies or not. See https://stats.stackexchange.com/questions/11109/how-to-deal-with-perfect-separation-in-logistic-regression.\n",
      "\n",
      "  warnings.warn(dedent(warning_text), ConvergenceWarning)\n",
      "C:\\Users\\yz685\\AppData\\Roaming\\Python\\Python37\\site-packages\\lifelines\\fitters\\cox_time_varying_fitter.py:491: ConvergenceWarning: Newton-Raphson convergence completed but norm(delta) is still high, 0.204. This may imply non-unique solutions to the maximum likelihood. Perhaps there is colinearity or complete separation in the dataset?\n",
      "  ConvergenceWarning,\n"
     ]
    },
    {
     "name": "stdout",
     "output_type": "stream",
     "text": [
      "batch 6, cox coeff=0.15, p=0.95, logit coeff=0.15, p=0.95; logit campus_pos coeff=0.00, p=0.27; \n"
     ]
    },
    {
     "name": "stderr",
     "output_type": "stream",
     "text": [
      "C:\\Users\\yz685\\AppData\\Roaming\\Python\\Python37\\site-packages\\lifelines\\utils\\__init__.py:1122: ConvergenceWarning: Column academic_career_VM have very low variance when conditioned on death event present or not. This may harm convergence. This could be a form of 'complete separation'. For example, try the following code:\n",
      "\n",
      ">>> events = df['infected_on_this_day'].astype(bool)\n",
      ">>> print(df.loc[events, 'academic_career_VM'].var())\n",
      ">>> print(df.loc[~events, 'academic_career_VM'].var())\n",
      "\n",
      "A very low variance means that the column academic_career_VM completely determines whether a subject dies or not. See https://stats.stackexchange.com/questions/11109/how-to-deal-with-perfect-separation-in-logistic-regression.\n",
      "\n",
      "  warnings.warn(dedent(warning_text), ConvergenceWarning)\n",
      "C:\\Users\\yz685\\AppData\\Roaming\\Python\\Python37\\site-packages\\lifelines\\fitters\\cox_time_varying_fitter.py:491: ConvergenceWarning: Newton-Raphson convergence completed but norm(delta) is still high, 0.171. This may imply non-unique solutions to the maximum likelihood. Perhaps there is colinearity or complete separation in the dataset?\n",
      "  ConvergenceWarning,\n"
     ]
    },
    {
     "name": "stdout",
     "output_type": "stream",
     "text": [
      "batch 7, cox coeff=-3.44, p=0.19, logit coeff=-3.44, p=0.16; logit campus_pos coeff=-0.01, p=0.05; \n"
     ]
    },
    {
     "name": "stderr",
     "output_type": "stream",
     "text": [
      "C:\\Users\\yz685\\AppData\\Roaming\\Python\\Python37\\site-packages\\lifelines\\utils\\__init__.py:1122: ConvergenceWarning: Column academic_career_LA have very low variance when conditioned on death event present or not. This may harm convergence. This could be a form of 'complete separation'. For example, try the following code:\n",
      "\n",
      ">>> events = df['infected_on_this_day'].astype(bool)\n",
      ">>> print(df.loc[events, 'academic_career_LA'].var())\n",
      ">>> print(df.loc[~events, 'academic_career_LA'].var())\n",
      "\n",
      "A very low variance means that the column academic_career_LA completely determines whether a subject dies or not. See https://stats.stackexchange.com/questions/11109/how-to-deal-with-perfect-separation-in-logistic-regression.\n",
      "\n",
      "  warnings.warn(dedent(warning_text), ConvergenceWarning)\n",
      "C:\\Users\\yz685\\AppData\\Roaming\\Python\\Python37\\site-packages\\lifelines\\fitters\\cox_time_varying_fitter.py:491: ConvergenceWarning: Newton-Raphson convergence completed but norm(delta) is still high, 0.205. This may imply non-unique solutions to the maximum likelihood. Perhaps there is colinearity or complete separation in the dataset?\n",
      "  ConvergenceWarning,\n"
     ]
    },
    {
     "name": "stdout",
     "output_type": "stream",
     "text": [
      "batch 8, cox coeff=-4.48, p=0.14, logit coeff=-4.49, p=0.10; logit campus_pos coeff=-0.01, p=0.06; \n"
     ]
    },
    {
     "name": "stderr",
     "output_type": "stream",
     "text": [
      "C:\\Users\\yz685\\AppData\\Roaming\\Python\\Python37\\site-packages\\lifelines\\utils\\__init__.py:1122: ConvergenceWarning: Column academic_career_LA have very low variance when conditioned on death event present or not. This may harm convergence. This could be a form of 'complete separation'. For example, try the following code:\n",
      "\n",
      ">>> events = df['infected_on_this_day'].astype(bool)\n",
      ">>> print(df.loc[events, 'academic_career_LA'].var())\n",
      ">>> print(df.loc[~events, 'academic_career_LA'].var())\n",
      "\n",
      "A very low variance means that the column academic_career_LA completely determines whether a subject dies or not. See https://stats.stackexchange.com/questions/11109/how-to-deal-with-perfect-separation-in-logistic-regression.\n",
      "\n",
      "  warnings.warn(dedent(warning_text), ConvergenceWarning)\n",
      "C:\\Users\\yz685\\AppData\\Roaming\\Python\\Python37\\site-packages\\lifelines\\fitters\\cox_time_varying_fitter.py:491: ConvergenceWarning: Newton-Raphson convergence completed but norm(delta) is still high, 0.261. This may imply non-unique solutions to the maximum likelihood. Perhaps there is colinearity or complete separation in the dataset?\n",
      "  ConvergenceWarning,\n"
     ]
    },
    {
     "name": "stdout",
     "output_type": "stream",
     "text": [
      "batch 9, cox coeff=-3.50, p=0.16, logit coeff=-3.51, p=0.18; logit campus_pos coeff=-0.00, p=0.28; \n",
      "batch 10, cox coeff=4.09, p=0.10, logit coeff=4.10, p=0.06; logit campus_pos coeff=-0.00, p=0.32; \n"
     ]
    },
    {
     "name": "stderr",
     "output_type": "stream",
     "text": [
      "C:\\Users\\yz685\\AppData\\Roaming\\Python\\Python37\\site-packages\\lifelines\\utils\\__init__.py:1122: ConvergenceWarning: Column academic_career_VM have very low variance when conditioned on death event present or not. This may harm convergence. This could be a form of 'complete separation'. For example, try the following code:\n",
      "\n",
      ">>> events = df['infected_on_this_day'].astype(bool)\n",
      ">>> print(df.loc[events, 'academic_career_VM'].var())\n",
      ">>> print(df.loc[~events, 'academic_career_VM'].var())\n",
      "\n",
      "A very low variance means that the column academic_career_VM completely determines whether a subject dies or not. See https://stats.stackexchange.com/questions/11109/how-to-deal-with-perfect-separation-in-logistic-regression.\n",
      "\n",
      "  warnings.warn(dedent(warning_text), ConvergenceWarning)\n",
      "C:\\Users\\yz685\\AppData\\Roaming\\Python\\Python37\\site-packages\\lifelines\\fitters\\cox_time_varying_fitter.py:491: ConvergenceWarning: Newton-Raphson convergence completed but norm(delta) is still high, 0.171. This may imply non-unique solutions to the maximum likelihood. Perhaps there is colinearity or complete separation in the dataset?\n",
      "  ConvergenceWarning,\n"
     ]
    },
    {
     "name": "stdout",
     "output_type": "stream",
     "text": [
      "batch 11, cox coeff=2.10, p=0.38, logit coeff=2.10, p=0.36; logit campus_pos coeff=-0.00, p=0.29; \n"
     ]
    },
    {
     "name": "stderr",
     "output_type": "stream",
     "text": [
      "C:\\Users\\yz685\\AppData\\Roaming\\Python\\Python37\\site-packages\\lifelines\\utils\\__init__.py:1122: ConvergenceWarning: Column academic_career_VM have very low variance when conditioned on death event present or not. This may harm convergence. This could be a form of 'complete separation'. For example, try the following code:\n",
      "\n",
      ">>> events = df['infected_on_this_day'].astype(bool)\n",
      ">>> print(df.loc[events, 'academic_career_VM'].var())\n",
      ">>> print(df.loc[~events, 'academic_career_VM'].var())\n",
      "\n",
      "A very low variance means that the column academic_career_VM completely determines whether a subject dies or not. See https://stats.stackexchange.com/questions/11109/how-to-deal-with-perfect-separation-in-logistic-regression.\n",
      "\n",
      "  warnings.warn(dedent(warning_text), ConvergenceWarning)\n",
      "C:\\Users\\yz685\\AppData\\Roaming\\Python\\Python37\\site-packages\\lifelines\\fitters\\cox_time_varying_fitter.py:491: ConvergenceWarning: Newton-Raphson convergence completed but norm(delta) is still high, 0.164. This may imply non-unique solutions to the maximum likelihood. Perhaps there is colinearity or complete separation in the dataset?\n",
      "  ConvergenceWarning,\n"
     ]
    },
    {
     "name": "stdout",
     "output_type": "stream",
     "text": [
      "batch 12, cox coeff=-2.73, p=0.38, logit coeff=-2.73, p=0.40; logit campus_pos coeff=-0.01, p=0.01; \n"
     ]
    },
    {
     "name": "stderr",
     "output_type": "stream",
     "text": [
      "C:\\Users\\yz685\\AppData\\Roaming\\Python\\Python37\\site-packages\\lifelines\\utils\\__init__.py:1122: ConvergenceWarning: Column academic_career_GM have very low variance when conditioned on death event present or not. This may harm convergence. This could be a form of 'complete separation'. For example, try the following code:\n",
      "\n",
      ">>> events = df['infected_on_this_day'].astype(bool)\n",
      ">>> print(df.loc[events, 'academic_career_GM'].var())\n",
      ">>> print(df.loc[~events, 'academic_career_GM'].var())\n",
      "\n",
      "A very low variance means that the column academic_career_GM completely determines whether a subject dies or not. See https://stats.stackexchange.com/questions/11109/how-to-deal-with-perfect-separation-in-logistic-regression.\n",
      "\n",
      "  warnings.warn(dedent(warning_text), ConvergenceWarning)\n",
      "C:\\Users\\yz685\\AppData\\Roaming\\Python\\Python37\\site-packages\\lifelines\\fitters\\cox_time_varying_fitter.py:491: ConvergenceWarning: Newton-Raphson convergence completed but norm(delta) is still high, 0.270. This may imply non-unique solutions to the maximum likelihood. Perhaps there is colinearity or complete separation in the dataset?\n",
      "  ConvergenceWarning,\n"
     ]
    },
    {
     "name": "stdout",
     "output_type": "stream",
     "text": [
      "batch 13, cox coeff=0.17, p=0.95, logit coeff=0.17, p=0.96; logit campus_pos coeff=-0.01, p=0.04; \n"
     ]
    },
    {
     "name": "stderr",
     "output_type": "stream",
     "text": [
      "C:\\Users\\yz685\\AppData\\Roaming\\Python\\Python37\\site-packages\\lifelines\\utils\\__init__.py:1122: ConvergenceWarning: Column academic_career_GM have very low variance when conditioned on death event present or not. This may harm convergence. This could be a form of 'complete separation'. For example, try the following code:\n",
      "\n",
      ">>> events = df['infected_on_this_day'].astype(bool)\n",
      ">>> print(df.loc[events, 'academic_career_GM'].var())\n",
      ">>> print(df.loc[~events, 'academic_career_GM'].var())\n",
      "\n",
      "A very low variance means that the column academic_career_GM completely determines whether a subject dies or not. See https://stats.stackexchange.com/questions/11109/how-to-deal-with-perfect-separation-in-logistic-regression.\n",
      "\n",
      "  warnings.warn(dedent(warning_text), ConvergenceWarning)\n",
      "C:\\Users\\yz685\\AppData\\Roaming\\Python\\Python37\\site-packages\\lifelines\\fitters\\cox_time_varying_fitter.py:491: ConvergenceWarning: Newton-Raphson convergence completed but norm(delta) is still high, 0.352. This may imply non-unique solutions to the maximum likelihood. Perhaps there is colinearity or complete separation in the dataset?\n",
      "  ConvergenceWarning,\n"
     ]
    },
    {
     "name": "stdout",
     "output_type": "stream",
     "text": [
      "batch 14, cox coeff=-4.52, p=0.12, logit coeff=-4.53, p=0.11; logit campus_pos coeff=-0.01, p=0.01; \n"
     ]
    },
    {
     "name": "stderr",
     "output_type": "stream",
     "text": [
      "C:\\Users\\yz685\\AppData\\Roaming\\Python\\Python37\\site-packages\\lifelines\\utils\\__init__.py:1122: ConvergenceWarning: Column academic_career_VM have very low variance when conditioned on death event present or not. This may harm convergence. This could be a form of 'complete separation'. For example, try the following code:\n",
      "\n",
      ">>> events = df['infected_on_this_day'].astype(bool)\n",
      ">>> print(df.loc[events, 'academic_career_VM'].var())\n",
      ">>> print(df.loc[~events, 'academic_career_VM'].var())\n",
      "\n",
      "A very low variance means that the column academic_career_VM completely determines whether a subject dies or not. See https://stats.stackexchange.com/questions/11109/how-to-deal-with-perfect-separation-in-logistic-regression.\n",
      "\n",
      "  warnings.warn(dedent(warning_text), ConvergenceWarning)\n",
      "C:\\Users\\yz685\\AppData\\Roaming\\Python\\Python37\\site-packages\\lifelines\\fitters\\cox_time_varying_fitter.py:491: ConvergenceWarning: Newton-Raphson convergence completed but norm(delta) is still high, 0.164. This may imply non-unique solutions to the maximum likelihood. Perhaps there is colinearity or complete separation in the dataset?\n",
      "  ConvergenceWarning,\n"
     ]
    },
    {
     "name": "stdout",
     "output_type": "stream",
     "text": [
      "batch 15, cox coeff=0.18, p=0.95, logit coeff=0.17, p=0.95; logit campus_pos coeff=-0.01, p=0.24; \n"
     ]
    },
    {
     "name": "stderr",
     "output_type": "stream",
     "text": [
      "C:\\Users\\yz685\\AppData\\Roaming\\Python\\Python37\\site-packages\\lifelines\\utils\\__init__.py:1122: ConvergenceWarning: Column academic_career_VM have very low variance when conditioned on death event present or not. This may harm convergence. This could be a form of 'complete separation'. For example, try the following code:\n",
      "\n",
      ">>> events = df['infected_on_this_day'].astype(bool)\n",
      ">>> print(df.loc[events, 'academic_career_VM'].var())\n",
      ">>> print(df.loc[~events, 'academic_career_VM'].var())\n",
      "\n",
      "A very low variance means that the column academic_career_VM completely determines whether a subject dies or not. See https://stats.stackexchange.com/questions/11109/how-to-deal-with-perfect-separation-in-logistic-regression.\n",
      "\n",
      "  warnings.warn(dedent(warning_text), ConvergenceWarning)\n",
      "C:\\Users\\yz685\\AppData\\Roaming\\Python\\Python37\\site-packages\\lifelines\\fitters\\cox_time_varying_fitter.py:491: ConvergenceWarning: Newton-Raphson convergence completed but norm(delta) is still high, 0.171. This may imply non-unique solutions to the maximum likelihood. Perhaps there is colinearity or complete separation in the dataset?\n",
      "  ConvergenceWarning,\n"
     ]
    },
    {
     "name": "stdout",
     "output_type": "stream",
     "text": [
      "batch 16, cox coeff=-0.15, p=0.95, logit coeff=-0.15, p=0.95; logit campus_pos coeff=-0.00, p=0.72; \n"
     ]
    },
    {
     "name": "stderr",
     "output_type": "stream",
     "text": [
      "C:\\Users\\yz685\\AppData\\Roaming\\Python\\Python37\\site-packages\\lifelines\\utils\\__init__.py:1122: ConvergenceWarning: Column academic_career_UG_A have very low variance when conditioned on death event present or not. This may harm convergence. This could be a form of 'complete separation'. For example, try the following code:\n",
      "\n",
      ">>> events = df['infected_on_this_day'].astype(bool)\n",
      ">>> print(df.loc[events, 'academic_career_UG_A'].var())\n",
      ">>> print(df.loc[~events, 'academic_career_UG_A'].var())\n",
      "\n",
      "A very low variance means that the column academic_career_UG_A completely determines whether a subject dies or not. See https://stats.stackexchange.com/questions/11109/how-to-deal-with-perfect-separation-in-logistic-regression.\n",
      "\n",
      "  warnings.warn(dedent(warning_text), ConvergenceWarning)\n",
      "C:\\Users\\yz685\\AppData\\Roaming\\Python\\Python37\\site-packages\\lifelines\\fitters\\cox_time_varying_fitter.py:491: ConvergenceWarning: Newton-Raphson convergence completed but norm(delta) is still high, 0.264. This may imply non-unique solutions to the maximum likelihood. Perhaps there is colinearity or complete separation in the dataset?\n",
      "  ConvergenceWarning,\n"
     ]
    },
    {
     "name": "stdout",
     "output_type": "stream",
     "text": [
      "batch 17, cox coeff=1.40, p=0.58, logit coeff=1.40, p=0.56; logit campus_pos coeff=-0.00, p=0.27; \n"
     ]
    },
    {
     "name": "stderr",
     "output_type": "stream",
     "text": [
      "C:\\Users\\yz685\\AppData\\Roaming\\Python\\Python37\\site-packages\\lifelines\\utils\\__init__.py:1122: ConvergenceWarning: Column academic_career_LA have very low variance when conditioned on death event present or not. This may harm convergence. This could be a form of 'complete separation'. For example, try the following code:\n",
      "\n",
      ">>> events = df['infected_on_this_day'].astype(bool)\n",
      ">>> print(df.loc[events, 'academic_career_LA'].var())\n",
      ">>> print(df.loc[~events, 'academic_career_LA'].var())\n",
      "\n",
      "A very low variance means that the column academic_career_LA completely determines whether a subject dies or not. See https://stats.stackexchange.com/questions/11109/how-to-deal-with-perfect-separation-in-logistic-regression.\n",
      "\n",
      "  warnings.warn(dedent(warning_text), ConvergenceWarning)\n",
      "C:\\Users\\yz685\\AppData\\Roaming\\Python\\Python37\\site-packages\\lifelines\\fitters\\cox_time_varying_fitter.py:491: ConvergenceWarning: Newton-Raphson convergence completed but norm(delta) is still high, 0.204. This may imply non-unique solutions to the maximum likelihood. Perhaps there is colinearity or complete separation in the dataset?\n",
      "  ConvergenceWarning,\n"
     ]
    },
    {
     "name": "stdout",
     "output_type": "stream",
     "text": [
      "batch 18, cox coeff=0.84, p=0.74, logit coeff=0.84, p=0.75; logit campus_pos coeff=-0.01, p=0.03; \n"
     ]
    },
    {
     "name": "stderr",
     "output_type": "stream",
     "text": [
      "C:\\Users\\yz685\\AppData\\Roaming\\Python\\Python37\\site-packages\\lifelines\\utils\\__init__.py:1122: ConvergenceWarning: Column academic_career_GR have very low variance when conditioned on death event present or not. This may harm convergence. This could be a form of 'complete separation'. For example, try the following code:\n",
      "\n",
      ">>> events = df['infected_on_this_day'].astype(bool)\n",
      ">>> print(df.loc[events, 'academic_career_GR'].var())\n",
      ">>> print(df.loc[~events, 'academic_career_GR'].var())\n",
      "\n",
      "A very low variance means that the column academic_career_GR completely determines whether a subject dies or not. See https://stats.stackexchange.com/questions/11109/how-to-deal-with-perfect-separation-in-logistic-regression.\n",
      "\n",
      "  warnings.warn(dedent(warning_text), ConvergenceWarning)\n",
      "C:\\Users\\yz685\\AppData\\Roaming\\Python\\Python37\\site-packages\\lifelines\\fitters\\cox_time_varying_fitter.py:491: ConvergenceWarning: Newton-Raphson convergence completed but norm(delta) is still high, 0.308. This may imply non-unique solutions to the maximum likelihood. Perhaps there is colinearity or complete separation in the dataset?\n",
      "  ConvergenceWarning,\n"
     ]
    },
    {
     "name": "stdout",
     "output_type": "stream",
     "text": [
      "batch 19, cox coeff=3.85, p=0.10, logit coeff=3.85, p=0.10; logit campus_pos coeff=-0.01, p=0.02; \n"
     ]
    },
    {
     "name": "stderr",
     "output_type": "stream",
     "text": [
      "C:\\Users\\yz685\\AppData\\Roaming\\Python\\Python37\\site-packages\\lifelines\\utils\\__init__.py:1122: ConvergenceWarning: Column academic_career_GM have very low variance when conditioned on death event present or not. This may harm convergence. This could be a form of 'complete separation'. For example, try the following code:\n",
      "\n",
      ">>> events = df['infected_on_this_day'].astype(bool)\n",
      ">>> print(df.loc[events, 'academic_career_GM'].var())\n",
      ">>> print(df.loc[~events, 'academic_career_GM'].var())\n",
      "\n",
      "A very low variance means that the column academic_career_GM completely determines whether a subject dies or not. See https://stats.stackexchange.com/questions/11109/how-to-deal-with-perfect-separation-in-logistic-regression.\n",
      "\n",
      "  warnings.warn(dedent(warning_text), ConvergenceWarning)\n",
      "C:\\Users\\yz685\\AppData\\Roaming\\Python\\Python37\\site-packages\\lifelines\\fitters\\cox_time_varying_fitter.py:491: ConvergenceWarning: Newton-Raphson convergence completed but norm(delta) is still high, 0.166. This may imply non-unique solutions to the maximum likelihood. Perhaps there is colinearity or complete separation in the dataset?\n",
      "  ConvergenceWarning,\n"
     ]
    },
    {
     "name": "stdout",
     "output_type": "stream",
     "text": [
      "batch 20, cox coeff=3.52, p=0.20, logit coeff=3.52, p=0.23; logit campus_pos coeff=-0.01, p=0.01; \n"
     ]
    },
    {
     "name": "stderr",
     "output_type": "stream",
     "text": [
      "C:\\Users\\yz685\\AppData\\Roaming\\Python\\Python37\\site-packages\\lifelines\\utils\\__init__.py:1122: ConvergenceWarning: Column academic_career_GM have very low variance when conditioned on death event present or not. This may harm convergence. This could be a form of 'complete separation'. For example, try the following code:\n",
      "\n",
      ">>> events = df['infected_on_this_day'].astype(bool)\n",
      ">>> print(df.loc[events, 'academic_career_GM'].var())\n",
      ">>> print(df.loc[~events, 'academic_career_GM'].var())\n",
      "\n",
      "A very low variance means that the column academic_career_GM completely determines whether a subject dies or not. See https://stats.stackexchange.com/questions/11109/how-to-deal-with-perfect-separation-in-logistic-regression.\n",
      "\n",
      "  warnings.warn(dedent(warning_text), ConvergenceWarning)\n",
      "C:\\Users\\yz685\\AppData\\Roaming\\Python\\Python37\\site-packages\\lifelines\\fitters\\cox_time_varying_fitter.py:491: ConvergenceWarning: Newton-Raphson convergence completed but norm(delta) is still high, 0.166. This may imply non-unique solutions to the maximum likelihood. Perhaps there is colinearity or complete separation in the dataset?\n",
      "  ConvergenceWarning,\n"
     ]
    },
    {
     "name": "stdout",
     "output_type": "stream",
     "text": [
      "batch 21, cox coeff=-1.71, p=0.59, logit coeff=-1.71, p=0.57; logit campus_pos coeff=-0.00, p=0.72; \n"
     ]
    },
    {
     "name": "stderr",
     "output_type": "stream",
     "text": [
      "C:\\Users\\yz685\\AppData\\Roaming\\Python\\Python37\\site-packages\\lifelines\\utils\\__init__.py:1122: ConvergenceWarning: Column academic_career_UG_A have very low variance when conditioned on death event present or not. This may harm convergence. This could be a form of 'complete separation'. For example, try the following code:\n",
      "\n",
      ">>> events = df['infected_on_this_day'].astype(bool)\n",
      ">>> print(df.loc[events, 'academic_career_UG_A'].var())\n",
      ">>> print(df.loc[~events, 'academic_career_UG_A'].var())\n",
      "\n",
      "A very low variance means that the column academic_career_UG_A completely determines whether a subject dies or not. See https://stats.stackexchange.com/questions/11109/how-to-deal-with-perfect-separation-in-logistic-regression.\n",
      "\n",
      "  warnings.warn(dedent(warning_text), ConvergenceWarning)\n",
      "C:\\Users\\yz685\\AppData\\Roaming\\Python\\Python37\\site-packages\\lifelines\\fitters\\cox_time_varying_fitter.py:491: ConvergenceWarning: Newton-Raphson convergence completed but norm(delta) is still high, 0.208. This may imply non-unique solutions to the maximum likelihood. Perhaps there is colinearity or complete separation in the dataset?\n",
      "  ConvergenceWarning,\n"
     ]
    },
    {
     "name": "stdout",
     "output_type": "stream",
     "text": [
      "batch 22, cox coeff=1.34, p=0.57, logit coeff=1.34, p=0.55; logit campus_pos coeff=-0.00, p=0.36; \n"
     ]
    },
    {
     "name": "stderr",
     "output_type": "stream",
     "text": [
      "C:\\Users\\yz685\\AppData\\Roaming\\Python\\Python37\\site-packages\\lifelines\\utils\\__init__.py:1122: ConvergenceWarning: Column academic_career_GM have very low variance when conditioned on death event present or not. This may harm convergence. This could be a form of 'complete separation'. For example, try the following code:\n",
      "\n",
      ">>> events = df['infected_on_this_day'].astype(bool)\n",
      ">>> print(df.loc[events, 'academic_career_GM'].var())\n",
      ">>> print(df.loc[~events, 'academic_career_GM'].var())\n",
      "\n",
      "A very low variance means that the column academic_career_GM completely determines whether a subject dies or not. See https://stats.stackexchange.com/questions/11109/how-to-deal-with-perfect-separation-in-logistic-regression.\n",
      "\n",
      "  warnings.warn(dedent(warning_text), ConvergenceWarning)\n",
      "C:\\Users\\yz685\\AppData\\Roaming\\Python\\Python37\\site-packages\\lifelines\\fitters\\cox_time_varying_fitter.py:491: ConvergenceWarning: Newton-Raphson convergence completed but norm(delta) is still high, 0.243. This may imply non-unique solutions to the maximum likelihood. Perhaps there is colinearity or complete separation in the dataset?\n",
      "  ConvergenceWarning,\n"
     ]
    },
    {
     "name": "stdout",
     "output_type": "stream",
     "text": [
      "batch 23, cox coeff=0.06, p=0.98, logit coeff=0.06, p=0.98; logit campus_pos coeff=-0.00, p=0.96; \n"
     ]
    },
    {
     "name": "stderr",
     "output_type": "stream",
     "text": [
      "C:\\Users\\yz685\\AppData\\Roaming\\Python\\Python37\\site-packages\\lifelines\\utils\\__init__.py:1122: ConvergenceWarning: Column academic_career_UG_A have very low variance when conditioned on death event present or not. This may harm convergence. This could be a form of 'complete separation'. For example, try the following code:\n",
      "\n",
      ">>> events = df['infected_on_this_day'].astype(bool)\n",
      ">>> print(df.loc[events, 'academic_career_UG_A'].var())\n",
      ">>> print(df.loc[~events, 'academic_career_UG_A'].var())\n",
      "\n",
      "A very low variance means that the column academic_career_UG_A completely determines whether a subject dies or not. See https://stats.stackexchange.com/questions/11109/how-to-deal-with-perfect-separation-in-logistic-regression.\n",
      "\n",
      "  warnings.warn(dedent(warning_text), ConvergenceWarning)\n",
      "C:\\Users\\yz685\\AppData\\Roaming\\Python\\Python37\\site-packages\\lifelines\\fitters\\cox_time_varying_fitter.py:491: ConvergenceWarning: Newton-Raphson convergence completed but norm(delta) is still high, 0.208. This may imply non-unique solutions to the maximum likelihood. Perhaps there is colinearity or complete separation in the dataset?\n",
      "  ConvergenceWarning,\n"
     ]
    },
    {
     "name": "stdout",
     "output_type": "stream",
     "text": [
      "batch 24, cox coeff=-1.07, p=0.70, logit coeff=-1.07, p=0.71; logit campus_pos coeff=-0.01, p=0.05; \n"
     ]
    },
    {
     "name": "stderr",
     "output_type": "stream",
     "text": [
      "C:\\Users\\yz685\\AppData\\Roaming\\Python\\Python37\\site-packages\\lifelines\\utils\\__init__.py:1122: ConvergenceWarning: Column academic_career_GR have very low variance when conditioned on death event present or not. This may harm convergence. This could be a form of 'complete separation'. For example, try the following code:\n",
      "\n",
      ">>> events = df['infected_on_this_day'].astype(bool)\n",
      ">>> print(df.loc[events, 'academic_career_GR'].var())\n",
      ">>> print(df.loc[~events, 'academic_career_GR'].var())\n",
      "\n",
      "A very low variance means that the column academic_career_GR completely determines whether a subject dies or not. See https://stats.stackexchange.com/questions/11109/how-to-deal-with-perfect-separation-in-logistic-regression.\n",
      "\n",
      "  warnings.warn(dedent(warning_text), ConvergenceWarning)\n",
      "C:\\Users\\yz685\\AppData\\Roaming\\Python\\Python37\\site-packages\\lifelines\\fitters\\cox_time_varying_fitter.py:491: ConvergenceWarning: Newton-Raphson convergence completed but norm(delta) is still high, 0.264. This may imply non-unique solutions to the maximum likelihood. Perhaps there is colinearity or complete separation in the dataset?\n",
      "  ConvergenceWarning,\n"
     ]
    },
    {
     "name": "stdout",
     "output_type": "stream",
     "text": [
      "batch 25, cox coeff=-0.89, p=0.75, logit coeff=-0.89, p=0.76; logit campus_pos coeff=-0.01, p=0.20; \n"
     ]
    },
    {
     "name": "stderr",
     "output_type": "stream",
     "text": [
      "C:\\Users\\yz685\\AppData\\Roaming\\Python\\Python37\\site-packages\\lifelines\\utils\\__init__.py:1122: ConvergenceWarning: Column academic_career_GR have very low variance when conditioned on death event present or not. This may harm convergence. This could be a form of 'complete separation'. For example, try the following code:\n",
      "\n",
      ">>> events = df['infected_on_this_day'].astype(bool)\n",
      ">>> print(df.loc[events, 'academic_career_GR'].var())\n",
      ">>> print(df.loc[~events, 'academic_career_GR'].var())\n",
      "\n",
      "A very low variance means that the column academic_career_GR completely determines whether a subject dies or not. See https://stats.stackexchange.com/questions/11109/how-to-deal-with-perfect-separation-in-logistic-regression.\n",
      "\n",
      "  warnings.warn(dedent(warning_text), ConvergenceWarning)\n",
      "C:\\Users\\yz685\\AppData\\Roaming\\Python\\Python37\\site-packages\\lifelines\\fitters\\cox_time_varying_fitter.py:491: ConvergenceWarning: Newton-Raphson convergence completed but norm(delta) is still high, 0.308. This may imply non-unique solutions to the maximum likelihood. Perhaps there is colinearity or complete separation in the dataset?\n",
      "  ConvergenceWarning,\n"
     ]
    },
    {
     "name": "stdout",
     "output_type": "stream",
     "text": [
      "batch 26, cox coeff=2.08, p=0.41, logit coeff=2.08, p=0.41; logit campus_pos coeff=-0.00, p=0.51; \n"
     ]
    },
    {
     "name": "stderr",
     "output_type": "stream",
     "text": [
      "C:\\Users\\yz685\\AppData\\Roaming\\Python\\Python37\\site-packages\\lifelines\\utils\\__init__.py:1122: ConvergenceWarning: Column academic_career_UG_A have very low variance when conditioned on death event present or not. This may harm convergence. This could be a form of 'complete separation'. For example, try the following code:\n",
      "\n",
      ">>> events = df['infected_on_this_day'].astype(bool)\n",
      ">>> print(df.loc[events, 'academic_career_UG_A'].var())\n",
      ">>> print(df.loc[~events, 'academic_career_UG_A'].var())\n",
      "\n",
      "A very low variance means that the column academic_career_UG_A completely determines whether a subject dies or not. See https://stats.stackexchange.com/questions/11109/how-to-deal-with-perfect-separation-in-logistic-regression.\n",
      "\n",
      "  warnings.warn(dedent(warning_text), ConvergenceWarning)\n",
      "C:\\Users\\yz685\\AppData\\Roaming\\Python\\Python37\\site-packages\\lifelines\\fitters\\cox_time_varying_fitter.py:491: ConvergenceWarning: Newton-Raphson convergence completed but norm(delta) is still high, 0.264. This may imply non-unique solutions to the maximum likelihood. Perhaps there is colinearity or complete separation in the dataset?\n",
      "  ConvergenceWarning,\n"
     ]
    },
    {
     "name": "stdout",
     "output_type": "stream",
     "text": [
      "batch 27, cox coeff=-4.20, p=0.15, logit coeff=-4.21, p=0.13; logit campus_pos coeff=-0.00, p=0.30; \n"
     ]
    },
    {
     "name": "stderr",
     "output_type": "stream",
     "text": [
      "C:\\Users\\yz685\\AppData\\Roaming\\Python\\Python37\\site-packages\\lifelines\\utils\\__init__.py:1122: ConvergenceWarning: Column academic_career_VM have very low variance when conditioned on death event present or not. This may harm convergence. This could be a form of 'complete separation'. For example, try the following code:\n",
      "\n",
      ">>> events = df['infected_on_this_day'].astype(bool)\n",
      ">>> print(df.loc[events, 'academic_career_VM'].var())\n",
      ">>> print(df.loc[~events, 'academic_career_VM'].var())\n",
      "\n",
      "A very low variance means that the column academic_career_VM completely determines whether a subject dies or not. See https://stats.stackexchange.com/questions/11109/how-to-deal-with-perfect-separation-in-logistic-regression.\n",
      "\n",
      "  warnings.warn(dedent(warning_text), ConvergenceWarning)\n",
      "C:\\Users\\yz685\\AppData\\Roaming\\Python\\Python37\\site-packages\\lifelines\\fitters\\cox_time_varying_fitter.py:491: ConvergenceWarning: Newton-Raphson convergence completed but norm(delta) is still high, 0.171. This may imply non-unique solutions to the maximum likelihood. Perhaps there is colinearity or complete separation in the dataset?\n",
      "  ConvergenceWarning,\n"
     ]
    },
    {
     "name": "stdout",
     "output_type": "stream",
     "text": [
      "batch 28, cox coeff=0.07, p=0.98, logit coeff=0.07, p=0.97; logit campus_pos coeff=-0.00, p=0.26; \n",
      "batch 29, cox coeff=1.32, p=0.58, logit coeff=1.32, p=0.51; logit campus_pos coeff=-0.01, p=0.18; \n"
     ]
    },
    {
     "name": "stderr",
     "output_type": "stream",
     "text": [
      "C:\\Users\\yz685\\AppData\\Roaming\\Python\\Python37\\site-packages\\lifelines\\utils\\__init__.py:1122: ConvergenceWarning: Column academic_career_UG_A have very low variance when conditioned on death event present or not. This may harm convergence. This could be a form of 'complete separation'. For example, try the following code:\n",
      "\n",
      ">>> events = df['infected_on_this_day'].astype(bool)\n",
      ">>> print(df.loc[events, 'academic_career_UG_A'].var())\n",
      ">>> print(df.loc[~events, 'academic_career_UG_A'].var())\n",
      "\n",
      "A very low variance means that the column academic_career_UG_A completely determines whether a subject dies or not. See https://stats.stackexchange.com/questions/11109/how-to-deal-with-perfect-separation-in-logistic-regression.\n",
      "\n",
      "  warnings.warn(dedent(warning_text), ConvergenceWarning)\n",
      "C:\\Users\\yz685\\AppData\\Roaming\\Python\\Python37\\site-packages\\lifelines\\fitters\\cox_time_varying_fitter.py:491: ConvergenceWarning: Newton-Raphson convergence completed but norm(delta) is still high, 0.208. This may imply non-unique solutions to the maximum likelihood. Perhaps there is colinearity or complete separation in the dataset?\n",
      "  ConvergenceWarning,\n"
     ]
    },
    {
     "name": "stdout",
     "output_type": "stream",
     "text": [
      "batch 30, cox coeff=-0.22, p=0.93, logit coeff=-0.22, p=0.93; logit campus_pos coeff=-0.00, p=0.38; \n"
     ]
    },
    {
     "name": "stderr",
     "output_type": "stream",
     "text": [
      "C:\\Users\\yz685\\AppData\\Roaming\\Python\\Python37\\site-packages\\lifelines\\utils\\__init__.py:1122: ConvergenceWarning: Column academic_career_GR have very low variance when conditioned on death event present or not. This may harm convergence. This could be a form of 'complete separation'. For example, try the following code:\n",
      "\n",
      ">>> events = df['infected_on_this_day'].astype(bool)\n",
      ">>> print(df.loc[events, 'academic_career_GR'].var())\n",
      ">>> print(df.loc[~events, 'academic_career_GR'].var())\n",
      "\n",
      "A very low variance means that the column academic_career_GR completely determines whether a subject dies or not. See https://stats.stackexchange.com/questions/11109/how-to-deal-with-perfect-separation-in-logistic-regression.\n",
      "\n",
      "  warnings.warn(dedent(warning_text), ConvergenceWarning)\n",
      "C:\\Users\\yz685\\AppData\\Roaming\\Python\\Python37\\site-packages\\lifelines\\fitters\\cox_time_varying_fitter.py:491: ConvergenceWarning: Newton-Raphson convergence completed but norm(delta) is still high, 0.308. This may imply non-unique solutions to the maximum likelihood. Perhaps there is colinearity or complete separation in the dataset?\n",
      "  ConvergenceWarning,\n"
     ]
    },
    {
     "name": "stdout",
     "output_type": "stream",
     "text": [
      "batch 31, cox coeff=-0.58, p=0.85, logit coeff=-0.59, p=0.88; logit campus_pos coeff=0.00, p=0.27; \n"
     ]
    },
    {
     "name": "stderr",
     "output_type": "stream",
     "text": [
      "C:\\Users\\yz685\\AppData\\Roaming\\Python\\Python37\\site-packages\\lifelines\\utils\\__init__.py:1122: ConvergenceWarning: Column academic_career_GR have very low variance when conditioned on death event present or not. This may harm convergence. This could be a form of 'complete separation'. For example, try the following code:\n",
      "\n",
      ">>> events = df['infected_on_this_day'].astype(bool)\n",
      ">>> print(df.loc[events, 'academic_career_GR'].var())\n",
      ">>> print(df.loc[~events, 'academic_career_GR'].var())\n",
      "\n",
      "A very low variance means that the column academic_career_GR completely determines whether a subject dies or not. See https://stats.stackexchange.com/questions/11109/how-to-deal-with-perfect-separation-in-logistic-regression.\n",
      "\n",
      "  warnings.warn(dedent(warning_text), ConvergenceWarning)\n",
      "C:\\Users\\yz685\\AppData\\Roaming\\Python\\Python37\\site-packages\\lifelines\\fitters\\cox_time_varying_fitter.py:491: ConvergenceWarning: Newton-Raphson convergence completed but norm(delta) is still high, 0.308. This may imply non-unique solutions to the maximum likelihood. Perhaps there is colinearity or complete separation in the dataset?\n",
      "  ConvergenceWarning,\n"
     ]
    },
    {
     "name": "stdout",
     "output_type": "stream",
     "text": [
      "batch 32, cox coeff=-1.12, p=0.69, logit coeff=-1.12, p=0.67; logit campus_pos coeff=-0.01, p=0.00; \n"
     ]
    },
    {
     "name": "stderr",
     "output_type": "stream",
     "text": [
      "C:\\Users\\yz685\\AppData\\Roaming\\Python\\Python37\\site-packages\\lifelines\\utils\\__init__.py:1122: ConvergenceWarning: Column academic_career_LA have very low variance when conditioned on death event present or not. This may harm convergence. This could be a form of 'complete separation'. For example, try the following code:\n",
      "\n",
      ">>> events = df['infected_on_this_day'].astype(bool)\n",
      ">>> print(df.loc[events, 'academic_career_LA'].var())\n",
      ">>> print(df.loc[~events, 'academic_career_LA'].var())\n",
      "\n",
      "A very low variance means that the column academic_career_LA completely determines whether a subject dies or not. See https://stats.stackexchange.com/questions/11109/how-to-deal-with-perfect-separation-in-logistic-regression.\n",
      "\n",
      "  warnings.warn(dedent(warning_text), ConvergenceWarning)\n",
      "C:\\Users\\yz685\\AppData\\Roaming\\Python\\Python37\\site-packages\\lifelines\\fitters\\cox_time_varying_fitter.py:491: ConvergenceWarning: Newton-Raphson convergence completed but norm(delta) is still high, 0.204. This may imply non-unique solutions to the maximum likelihood. Perhaps there is colinearity or complete separation in the dataset?\n",
      "  ConvergenceWarning,\n"
     ]
    },
    {
     "name": "stdout",
     "output_type": "stream",
     "text": [
      "batch 33, cox coeff=-1.10, p=0.71, logit coeff=-1.10, p=0.71; logit campus_pos coeff=-0.00, p=0.95; \n"
     ]
    },
    {
     "name": "stderr",
     "output_type": "stream",
     "text": [
      "C:\\Users\\yz685\\AppData\\Roaming\\Python\\Python37\\site-packages\\lifelines\\utils\\__init__.py:1122: ConvergenceWarning: Column academic_career_VM have very low variance when conditioned on death event present or not. This may harm convergence. This could be a form of 'complete separation'. For example, try the following code:\n",
      "\n",
      ">>> events = df['infected_on_this_day'].astype(bool)\n",
      ">>> print(df.loc[events, 'academic_career_VM'].var())\n",
      ">>> print(df.loc[~events, 'academic_career_VM'].var())\n",
      "\n",
      "A very low variance means that the column academic_career_VM completely determines whether a subject dies or not. See https://stats.stackexchange.com/questions/11109/how-to-deal-with-perfect-separation-in-logistic-regression.\n",
      "\n",
      "  warnings.warn(dedent(warning_text), ConvergenceWarning)\n",
      "C:\\Users\\yz685\\AppData\\Roaming\\Python\\Python37\\site-packages\\lifelines\\fitters\\cox_time_varying_fitter.py:491: ConvergenceWarning: Newton-Raphson convergence completed but norm(delta) is still high, 0.171. This may imply non-unique solutions to the maximum likelihood. Perhaps there is colinearity or complete separation in the dataset?\n",
      "  ConvergenceWarning,\n"
     ]
    },
    {
     "name": "stdout",
     "output_type": "stream",
     "text": [
      "batch 34, cox coeff=2.26, p=0.36, logit coeff=2.26, p=0.34; logit campus_pos coeff=-0.01, p=0.18; \n"
     ]
    },
    {
     "name": "stderr",
     "output_type": "stream",
     "text": [
      "C:\\Users\\yz685\\AppData\\Roaming\\Python\\Python37\\site-packages\\lifelines\\utils\\__init__.py:1122: ConvergenceWarning: Column academic_career_GR have very low variance when conditioned on death event present or not. This may harm convergence. This could be a form of 'complete separation'. For example, try the following code:\n",
      "\n",
      ">>> events = df['infected_on_this_day'].astype(bool)\n",
      ">>> print(df.loc[events, 'academic_career_GR'].var())\n",
      ">>> print(df.loc[~events, 'academic_career_GR'].var())\n",
      "\n",
      "A very low variance means that the column academic_career_GR completely determines whether a subject dies or not. See https://stats.stackexchange.com/questions/11109/how-to-deal-with-perfect-separation-in-logistic-regression.\n",
      "\n",
      "  warnings.warn(dedent(warning_text), ConvergenceWarning)\n",
      "C:\\Users\\yz685\\AppData\\Roaming\\Python\\Python37\\site-packages\\lifelines\\fitters\\cox_time_varying_fitter.py:491: ConvergenceWarning: Newton-Raphson convergence completed but norm(delta) is still high, 0.259. This may imply non-unique solutions to the maximum likelihood. Perhaps there is colinearity or complete separation in the dataset?\n",
      "  ConvergenceWarning,\n"
     ]
    },
    {
     "name": "stdout",
     "output_type": "stream",
     "text": [
      "batch 35, cox coeff=1.56, p=0.49, logit coeff=1.57, p=0.45; logit campus_pos coeff=-0.00, p=0.17; \n"
     ]
    },
    {
     "name": "stderr",
     "output_type": "stream",
     "text": [
      "C:\\Users\\yz685\\AppData\\Roaming\\Python\\Python37\\site-packages\\lifelines\\utils\\__init__.py:1122: ConvergenceWarning: Column academic_career_GR have very low variance when conditioned on death event present or not. This may harm convergence. This could be a form of 'complete separation'. For example, try the following code:\n",
      "\n",
      ">>> events = df['infected_on_this_day'].astype(bool)\n",
      ">>> print(df.loc[events, 'academic_career_GR'].var())\n",
      ">>> print(df.loc[~events, 'academic_career_GR'].var())\n",
      "\n",
      "A very low variance means that the column academic_career_GR completely determines whether a subject dies or not. See https://stats.stackexchange.com/questions/11109/how-to-deal-with-perfect-separation-in-logistic-regression.\n",
      "\n",
      "  warnings.warn(dedent(warning_text), ConvergenceWarning)\n",
      "C:\\Users\\yz685\\AppData\\Roaming\\Python\\Python37\\site-packages\\lifelines\\fitters\\cox_time_varying_fitter.py:491: ConvergenceWarning: Newton-Raphson convergence completed but norm(delta) is still high, 0.264. This may imply non-unique solutions to the maximum likelihood. Perhaps there is colinearity or complete separation in the dataset?\n",
      "  ConvergenceWarning,\n"
     ]
    },
    {
     "name": "stdout",
     "output_type": "stream",
     "text": [
      "batch 36, cox coeff=1.48, p=0.60, logit coeff=1.48, p=0.63; logit campus_pos coeff=0.00, p=0.56; \n"
     ]
    },
    {
     "name": "stderr",
     "output_type": "stream",
     "text": [
      "C:\\Users\\yz685\\AppData\\Roaming\\Python\\Python37\\site-packages\\lifelines\\utils\\__init__.py:1122: ConvergenceWarning: Column academic_career_LA have very low variance when conditioned on death event present or not. This may harm convergence. This could be a form of 'complete separation'. For example, try the following code:\n",
      "\n",
      ">>> events = df['infected_on_this_day'].astype(bool)\n",
      ">>> print(df.loc[events, 'academic_career_LA'].var())\n",
      ">>> print(df.loc[~events, 'academic_career_LA'].var())\n",
      "\n",
      "A very low variance means that the column academic_career_LA completely determines whether a subject dies or not. See https://stats.stackexchange.com/questions/11109/how-to-deal-with-perfect-separation-in-logistic-regression.\n",
      "\n",
      "  warnings.warn(dedent(warning_text), ConvergenceWarning)\n",
      "C:\\Users\\yz685\\AppData\\Roaming\\Python\\Python37\\site-packages\\lifelines\\fitters\\cox_time_varying_fitter.py:491: ConvergenceWarning: Newton-Raphson convergence completed but norm(delta) is still high, 0.292. This may imply non-unique solutions to the maximum likelihood. Perhaps there is colinearity or complete separation in the dataset?\n",
      "  ConvergenceWarning,\n"
     ]
    },
    {
     "name": "stdout",
     "output_type": "stream",
     "text": [
      "batch 37, cox coeff=3.62, p=0.19, logit coeff=3.62, p=0.20; logit campus_pos coeff=-0.01, p=0.10; \n"
     ]
    },
    {
     "name": "stderr",
     "output_type": "stream",
     "text": [
      "C:\\Users\\yz685\\AppData\\Roaming\\Python\\Python37\\site-packages\\lifelines\\utils\\__init__.py:1122: ConvergenceWarning: Column academic_career_GR have very low variance when conditioned on death event present or not. This may harm convergence. This could be a form of 'complete separation'. For example, try the following code:\n",
      "\n",
      ">>> events = df['infected_on_this_day'].astype(bool)\n",
      ">>> print(df.loc[events, 'academic_career_GR'].var())\n",
      ">>> print(df.loc[~events, 'academic_career_GR'].var())\n",
      "\n",
      "A very low variance means that the column academic_career_GR completely determines whether a subject dies or not. See https://stats.stackexchange.com/questions/11109/how-to-deal-with-perfect-separation-in-logistic-regression.\n",
      "\n",
      "  warnings.warn(dedent(warning_text), ConvergenceWarning)\n",
      "C:\\Users\\yz685\\AppData\\Roaming\\Python\\Python37\\site-packages\\lifelines\\fitters\\cox_time_varying_fitter.py:491: ConvergenceWarning: Newton-Raphson convergence completed but norm(delta) is still high, 0.369. This may imply non-unique solutions to the maximum likelihood. Perhaps there is colinearity or complete separation in the dataset?\n",
      "  ConvergenceWarning,\n"
     ]
    },
    {
     "name": "stdout",
     "output_type": "stream",
     "text": [
      "batch 38, cox coeff=0.33, p=0.91, logit coeff=0.33, p=0.92; logit campus_pos coeff=-0.00, p=0.23; \n"
     ]
    },
    {
     "name": "stderr",
     "output_type": "stream",
     "text": [
      "C:\\Users\\yz685\\AppData\\Roaming\\Python\\Python37\\site-packages\\lifelines\\utils\\__init__.py:1122: ConvergenceWarning: Column academic_career_LA have very low variance when conditioned on death event present or not. This may harm convergence. This could be a form of 'complete separation'. For example, try the following code:\n",
      "\n",
      ">>> events = df['infected_on_this_day'].astype(bool)\n",
      ">>> print(df.loc[events, 'academic_career_LA'].var())\n",
      ">>> print(df.loc[~events, 'academic_career_LA'].var())\n",
      "\n",
      "A very low variance means that the column academic_career_LA completely determines whether a subject dies or not. See https://stats.stackexchange.com/questions/11109/how-to-deal-with-perfect-separation-in-logistic-regression.\n",
      "\n",
      "  warnings.warn(dedent(warning_text), ConvergenceWarning)\n",
      "C:\\Users\\yz685\\AppData\\Roaming\\Python\\Python37\\site-packages\\lifelines\\fitters\\cox_time_varying_fitter.py:491: ConvergenceWarning: Newton-Raphson convergence completed but norm(delta) is still high, 0.261. This may imply non-unique solutions to the maximum likelihood. Perhaps there is colinearity or complete separation in the dataset?\n",
      "  ConvergenceWarning,\n"
     ]
    },
    {
     "name": "stdout",
     "output_type": "stream",
     "text": [
      "batch 39, cox coeff=4.31, p=0.06, logit coeff=4.31, p=0.05; logit campus_pos coeff=-0.01, p=0.00; \n"
     ]
    },
    {
     "name": "stderr",
     "output_type": "stream",
     "text": [
      "C:\\Users\\yz685\\AppData\\Roaming\\Python\\Python37\\site-packages\\lifelines\\utils\\__init__.py:1122: ConvergenceWarning: Column academic_career_GM have very low variance when conditioned on death event present or not. This may harm convergence. This could be a form of 'complete separation'. For example, try the following code:\n",
      "\n",
      ">>> events = df['infected_on_this_day'].astype(bool)\n",
      ">>> print(df.loc[events, 'academic_career_GM'].var())\n",
      ">>> print(df.loc[~events, 'academic_career_GM'].var())\n",
      "\n",
      "A very low variance means that the column academic_career_GM completely determines whether a subject dies or not. See https://stats.stackexchange.com/questions/11109/how-to-deal-with-perfect-separation-in-logistic-regression.\n",
      "\n",
      "  warnings.warn(dedent(warning_text), ConvergenceWarning)\n",
      "C:\\Users\\yz685\\AppData\\Roaming\\Python\\Python37\\site-packages\\lifelines\\fitters\\cox_time_varying_fitter.py:491: ConvergenceWarning: Newton-Raphson convergence completed but norm(delta) is still high, 0.352. This may imply non-unique solutions to the maximum likelihood. Perhaps there is colinearity or complete separation in the dataset?\n",
      "  ConvergenceWarning,\n"
     ]
    },
    {
     "name": "stdout",
     "output_type": "stream",
     "text": [
      "batch 40, cox coeff=-0.61, p=0.82, logit coeff=-0.61, p=0.82; logit campus_pos coeff=-0.01, p=0.14; \n"
     ]
    },
    {
     "name": "stderr",
     "output_type": "stream",
     "text": [
      "C:\\Users\\yz685\\AppData\\Roaming\\Python\\Python37\\site-packages\\lifelines\\utils\\__init__.py:1122: ConvergenceWarning: Column academic_career_GM have very low variance when conditioned on death event present or not. This may harm convergence. This could be a form of 'complete separation'. For example, try the following code:\n",
      "\n",
      ">>> events = df['infected_on_this_day'].astype(bool)\n",
      ">>> print(df.loc[events, 'academic_career_GM'].var())\n",
      ">>> print(df.loc[~events, 'academic_career_GM'].var())\n",
      "\n",
      "A very low variance means that the column academic_career_GM completely determines whether a subject dies or not. See https://stats.stackexchange.com/questions/11109/how-to-deal-with-perfect-separation-in-logistic-regression.\n",
      "\n",
      "  warnings.warn(dedent(warning_text), ConvergenceWarning)\n",
      "C:\\Users\\yz685\\AppData\\Roaming\\Python\\Python37\\site-packages\\lifelines\\fitters\\cox_time_varying_fitter.py:491: ConvergenceWarning: Newton-Raphson convergence completed but norm(delta) is still high, 0.320. This may imply non-unique solutions to the maximum likelihood. Perhaps there is colinearity or complete separation in the dataset?\n",
      "  ConvergenceWarning,\n"
     ]
    },
    {
     "name": "stdout",
     "output_type": "stream",
     "text": [
      "batch 41, cox coeff=3.58, p=0.24, logit coeff=3.58, p=0.30; logit campus_pos coeff=-0.00, p=0.52; \n"
     ]
    },
    {
     "name": "stderr",
     "output_type": "stream",
     "text": [
      "C:\\Users\\yz685\\AppData\\Roaming\\Python\\Python37\\site-packages\\lifelines\\utils\\__init__.py:1122: ConvergenceWarning: Column academic_career_GM have very low variance when conditioned on death event present or not. This may harm convergence. This could be a form of 'complete separation'. For example, try the following code:\n",
      "\n",
      ">>> events = df['infected_on_this_day'].astype(bool)\n",
      ">>> print(df.loc[events, 'academic_career_GM'].var())\n",
      ">>> print(df.loc[~events, 'academic_career_GM'].var())\n",
      "\n",
      "A very low variance means that the column academic_career_GM completely determines whether a subject dies or not. See https://stats.stackexchange.com/questions/11109/how-to-deal-with-perfect-separation-in-logistic-regression.\n",
      "\n",
      "  warnings.warn(dedent(warning_text), ConvergenceWarning)\n",
      "C:\\Users\\yz685\\AppData\\Roaming\\Python\\Python37\\site-packages\\lifelines\\fitters\\cox_time_varying_fitter.py:491: ConvergenceWarning: Newton-Raphson convergence completed but norm(delta) is still high, 0.166. This may imply non-unique solutions to the maximum likelihood. Perhaps there is colinearity or complete separation in the dataset?\n",
      "  ConvergenceWarning,\n"
     ]
    },
    {
     "name": "stdout",
     "output_type": "stream",
     "text": [
      "batch 42, cox coeff=1.55, p=0.57, logit coeff=1.55, p=0.53; logit campus_pos coeff=-0.01, p=0.24; \n"
     ]
    },
    {
     "name": "stderr",
     "output_type": "stream",
     "text": [
      "C:\\Users\\yz685\\AppData\\Roaming\\Python\\Python37\\site-packages\\lifelines\\utils\\__init__.py:1122: ConvergenceWarning: Column academic_career_GR have very low variance when conditioned on death event present or not. This may harm convergence. This could be a form of 'complete separation'. For example, try the following code:\n",
      "\n",
      ">>> events = df['infected_on_this_day'].astype(bool)\n",
      ">>> print(df.loc[events, 'academic_career_GR'].var())\n",
      ">>> print(df.loc[~events, 'academic_career_GR'].var())\n",
      "\n",
      "A very low variance means that the column academic_career_GR completely determines whether a subject dies or not. See https://stats.stackexchange.com/questions/11109/how-to-deal-with-perfect-separation-in-logistic-regression.\n",
      "\n",
      "  warnings.warn(dedent(warning_text), ConvergenceWarning)\n",
      "C:\\Users\\yz685\\AppData\\Roaming\\Python\\Python37\\site-packages\\lifelines\\fitters\\cox_time_varying_fitter.py:491: ConvergenceWarning: Newton-Raphson convergence completed but norm(delta) is still high, 0.308. This may imply non-unique solutions to the maximum likelihood. Perhaps there is colinearity or complete separation in the dataset?\n",
      "  ConvergenceWarning,\n"
     ]
    },
    {
     "name": "stdout",
     "output_type": "stream",
     "text": [
      "batch 43, cox coeff=-2.99, p=0.22, logit coeff=-2.99, p=0.22; logit campus_pos coeff=0.00, p=0.72; \n"
     ]
    },
    {
     "name": "stderr",
     "output_type": "stream",
     "text": [
      "C:\\Users\\yz685\\AppData\\Roaming\\Python\\Python37\\site-packages\\lifelines\\utils\\__init__.py:1122: ConvergenceWarning: Column academic_career_VM have very low variance when conditioned on death event present or not. This may harm convergence. This could be a form of 'complete separation'. For example, try the following code:\n",
      "\n",
      ">>> events = df['infected_on_this_day'].astype(bool)\n",
      ">>> print(df.loc[events, 'academic_career_VM'].var())\n",
      ">>> print(df.loc[~events, 'academic_career_VM'].var())\n",
      "\n",
      "A very low variance means that the column academic_career_VM completely determines whether a subject dies or not. See https://stats.stackexchange.com/questions/11109/how-to-deal-with-perfect-separation-in-logistic-regression.\n",
      "\n",
      "  warnings.warn(dedent(warning_text), ConvergenceWarning)\n",
      "C:\\Users\\yz685\\AppData\\Roaming\\Python\\Python37\\site-packages\\lifelines\\fitters\\cox_time_varying_fitter.py:491: ConvergenceWarning: Newton-Raphson convergence completed but norm(delta) is still high, 0.171. This may imply non-unique solutions to the maximum likelihood. Perhaps there is colinearity or complete separation in the dataset?\n",
      "  ConvergenceWarning,\n"
     ]
    },
    {
     "name": "stdout",
     "output_type": "stream",
     "text": [
      "batch 44, cox coeff=3.39, p=0.17, logit coeff=3.39, p=0.17; logit campus_pos coeff=-0.00, p=0.31; \n"
     ]
    },
    {
     "name": "stderr",
     "output_type": "stream",
     "text": [
      "C:\\Users\\yz685\\AppData\\Roaming\\Python\\Python37\\site-packages\\lifelines\\utils\\__init__.py:1122: ConvergenceWarning: Column academic_career_GM have very low variance when conditioned on death event present or not. This may harm convergence. This could be a form of 'complete separation'. For example, try the following code:\n",
      "\n",
      ">>> events = df['infected_on_this_day'].astype(bool)\n",
      ">>> print(df.loc[events, 'academic_career_GM'].var())\n",
      ">>> print(df.loc[~events, 'academic_career_GM'].var())\n",
      "\n",
      "A very low variance means that the column academic_career_GM completely determines whether a subject dies or not. See https://stats.stackexchange.com/questions/11109/how-to-deal-with-perfect-separation-in-logistic-regression.\n",
      "\n",
      "  warnings.warn(dedent(warning_text), ConvergenceWarning)\n",
      "C:\\Users\\yz685\\AppData\\Roaming\\Python\\Python37\\site-packages\\lifelines\\fitters\\cox_time_varying_fitter.py:491: ConvergenceWarning: Newton-Raphson convergence completed but norm(delta) is still high, 0.166. This may imply non-unique solutions to the maximum likelihood. Perhaps there is colinearity or complete separation in the dataset?\n",
      "  ConvergenceWarning,\n"
     ]
    },
    {
     "name": "stdout",
     "output_type": "stream",
     "text": [
      "batch 45, cox coeff=1.84, p=0.49, logit coeff=1.84, p=0.46; logit campus_pos coeff=-0.00, p=0.20; \n"
     ]
    },
    {
     "name": "stderr",
     "output_type": "stream",
     "text": [
      "C:\\Users\\yz685\\AppData\\Roaming\\Python\\Python37\\site-packages\\lifelines\\utils\\__init__.py:1122: ConvergenceWarning: Column academic_career_UG_A have very low variance when conditioned on death event present or not. This may harm convergence. This could be a form of 'complete separation'. For example, try the following code:\n",
      "\n",
      ">>> events = df['infected_on_this_day'].astype(bool)\n",
      ">>> print(df.loc[events, 'academic_career_UG_A'].var())\n",
      ">>> print(df.loc[~events, 'academic_career_UG_A'].var())\n",
      "\n",
      "A very low variance means that the column academic_career_UG_A completely determines whether a subject dies or not. See https://stats.stackexchange.com/questions/11109/how-to-deal-with-perfect-separation-in-logistic-regression.\n",
      "\n",
      "  warnings.warn(dedent(warning_text), ConvergenceWarning)\n",
      "C:\\Users\\yz685\\AppData\\Roaming\\Python\\Python37\\site-packages\\lifelines\\fitters\\cox_time_varying_fitter.py:491: ConvergenceWarning: Newton-Raphson convergence completed but norm(delta) is still high, 0.264. This may imply non-unique solutions to the maximum likelihood. Perhaps there is colinearity or complete separation in the dataset?\n",
      "  ConvergenceWarning,\n"
     ]
    },
    {
     "name": "stdout",
     "output_type": "stream",
     "text": [
      "batch 46, cox coeff=-3.72, p=0.20, logit coeff=-3.72, p=0.23; logit campus_pos coeff=-0.00, p=0.34; \n",
      "batch 47, cox coeff=6.99, p=0.00, logit coeff=6.99, p=0.00; logit campus_pos coeff=-0.01, p=0.05; \n"
     ]
    },
    {
     "name": "stderr",
     "output_type": "stream",
     "text": [
      "C:\\Users\\yz685\\AppData\\Roaming\\Python\\Python37\\site-packages\\lifelines\\utils\\__init__.py:1122: ConvergenceWarning: Column academic_career_UG_A have very low variance when conditioned on death event present or not. This may harm convergence. This could be a form of 'complete separation'. For example, try the following code:\n",
      "\n",
      ">>> events = df['infected_on_this_day'].astype(bool)\n",
      ">>> print(df.loc[events, 'academic_career_UG_A'].var())\n",
      ">>> print(df.loc[~events, 'academic_career_UG_A'].var())\n",
      "\n",
      "A very low variance means that the column academic_career_UG_A completely determines whether a subject dies or not. See https://stats.stackexchange.com/questions/11109/how-to-deal-with-perfect-separation-in-logistic-regression.\n",
      "\n",
      "  warnings.warn(dedent(warning_text), ConvergenceWarning)\n",
      "C:\\Users\\yz685\\AppData\\Roaming\\Python\\Python37\\site-packages\\lifelines\\fitters\\cox_time_varying_fitter.py:491: ConvergenceWarning: Newton-Raphson convergence completed but norm(delta) is still high, 0.264. This may imply non-unique solutions to the maximum likelihood. Perhaps there is colinearity or complete separation in the dataset?\n",
      "  ConvergenceWarning,\n"
     ]
    },
    {
     "name": "stdout",
     "output_type": "stream",
     "text": [
      "batch 48, cox coeff=-0.42, p=0.85, logit coeff=-0.42, p=0.85; logit campus_pos coeff=-0.00, p=0.29; \n"
     ]
    },
    {
     "name": "stderr",
     "output_type": "stream",
     "text": [
      "C:\\Users\\yz685\\AppData\\Roaming\\Python\\Python37\\site-packages\\lifelines\\utils\\__init__.py:1122: ConvergenceWarning: Column academic_career_GM have very low variance when conditioned on death event present or not. This may harm convergence. This could be a form of 'complete separation'. For example, try the following code:\n",
      "\n",
      ">>> events = df['infected_on_this_day'].astype(bool)\n",
      ">>> print(df.loc[events, 'academic_career_GM'].var())\n",
      ">>> print(df.loc[~events, 'academic_career_GM'].var())\n",
      "\n",
      "A very low variance means that the column academic_career_GM completely determines whether a subject dies or not. See https://stats.stackexchange.com/questions/11109/how-to-deal-with-perfect-separation-in-logistic-regression.\n",
      "\n",
      "  warnings.warn(dedent(warning_text), ConvergenceWarning)\n",
      "C:\\Users\\yz685\\AppData\\Roaming\\Python\\Python37\\site-packages\\lifelines\\fitters\\cox_time_varying_fitter.py:491: ConvergenceWarning: Newton-Raphson convergence completed but norm(delta) is still high, 0.238. This may imply non-unique solutions to the maximum likelihood. Perhaps there is colinearity or complete separation in the dataset?\n",
      "  ConvergenceWarning,\n"
     ]
    },
    {
     "name": "stdout",
     "output_type": "stream",
     "text": [
      "batch 49, cox coeff=1.28, p=0.58, logit coeff=1.28, p=0.56; logit campus_pos coeff=-0.00, p=0.35; \n",
      "shape value 1.0\n",
      "batch 0, cox coeff=-0.14, p=0.91, logit coeff=-0.14, p=0.90; logit campus_pos coeff=0.00, p=0.44; \n",
      "batch 1, cox coeff=3.16, p=0.01, logit coeff=3.17, p=0.01; logit campus_pos coeff=-0.00, p=0.25; \n",
      "batch 2, cox coeff=-0.28, p=0.82, logit coeff=-0.28, p=0.80; logit campus_pos coeff=-0.00, p=0.21; \n"
     ]
    },
    {
     "name": "stderr",
     "output_type": "stream",
     "text": [
      "C:\\Users\\yz685\\AppData\\Roaming\\Python\\Python37\\site-packages\\lifelines\\utils\\__init__.py:1122: ConvergenceWarning: Column academic_career_VM have very low variance when conditioned on death event present or not. This may harm convergence. This could be a form of 'complete separation'. For example, try the following code:\n",
      "\n",
      ">>> events = df['infected_on_this_day'].astype(bool)\n",
      ">>> print(df.loc[events, 'academic_career_VM'].var())\n",
      ">>> print(df.loc[~events, 'academic_career_VM'].var())\n",
      "\n",
      "A very low variance means that the column academic_career_VM completely determines whether a subject dies or not. See https://stats.stackexchange.com/questions/11109/how-to-deal-with-perfect-separation-in-logistic-regression.\n",
      "\n",
      "  warnings.warn(dedent(warning_text), ConvergenceWarning)\n",
      "C:\\Users\\yz685\\AppData\\Roaming\\Python\\Python37\\site-packages\\lifelines\\fitters\\cox_time_varying_fitter.py:491: ConvergenceWarning: Newton-Raphson convergence completed but norm(delta) is still high, 0.168. This may imply non-unique solutions to the maximum likelihood. Perhaps there is colinearity or complete separation in the dataset?\n",
      "  ConvergenceWarning,\n"
     ]
    },
    {
     "name": "stdout",
     "output_type": "stream",
     "text": [
      "batch 3, cox coeff=1.43, p=0.23, logit coeff=1.43, p=0.23; logit campus_pos coeff=-0.00, p=0.83; \n",
      "batch 4, cox coeff=2.41, p=0.04, logit coeff=2.41, p=0.04; logit campus_pos coeff=0.00, p=0.44; \n",
      "batch 5, cox coeff=1.33, p=0.28, logit coeff=1.34, p=0.26; logit campus_pos coeff=0.00, p=0.82; \n",
      "batch 6, cox coeff=0.35, p=0.78, logit coeff=0.35, p=0.79; logit campus_pos coeff=0.00, p=0.74; \n",
      "batch 7, cox coeff=-2.04, p=0.12, logit coeff=-2.04, p=0.12; logit campus_pos coeff=0.00, p=0.33; \n",
      "batch 8, cox coeff=0.93, p=0.47, logit coeff=0.94, p=0.48; logit campus_pos coeff=0.00, p=0.91; \n",
      "batch 9, cox coeff=-0.10, p=0.93, logit coeff=-0.10, p=0.93; logit campus_pos coeff=-0.00, p=0.22; \n",
      "batch 10, cox coeff=-2.39, p=0.09, logit coeff=-2.39, p=0.10; logit campus_pos coeff=0.00, p=0.45; \n",
      "batch 11, cox coeff=1.98, p=0.10, logit coeff=1.98, p=0.11; logit campus_pos coeff=0.00, p=0.65; \n",
      "batch 12, cox coeff=-1.40, p=0.27, logit coeff=-1.40, p=0.24; logit campus_pos coeff=0.00, p=0.25; \n",
      "batch 13, cox coeff=3.91, p=0.00, logit coeff=3.91, p=0.00; logit campus_pos coeff=0.00, p=0.94; \n",
      "batch 14, cox coeff=-0.79, p=0.56, logit coeff=-0.79, p=0.56; logit campus_pos coeff=-0.00, p=0.07; \n",
      "batch 15, cox coeff=1.91, p=0.10, logit coeff=1.91, p=0.07; logit campus_pos coeff=-0.00, p=0.30; \n",
      "batch 16, cox coeff=0.36, p=0.77, logit coeff=0.36, p=0.77; logit campus_pos coeff=0.00, p=0.91; \n",
      "batch 17, cox coeff=-1.47, p=0.26, logit coeff=-1.47, p=0.24; logit campus_pos coeff=0.00, p=0.26; \n",
      "batch 18, cox coeff=1.18, p=0.34, logit coeff=1.18, p=0.34; logit campus_pos coeff=-0.00, p=0.17; \n",
      "batch 19, cox coeff=1.15, p=0.34, logit coeff=1.15, p=0.36; logit campus_pos coeff=0.00, p=0.41; \n",
      "batch 20, cox coeff=-0.05, p=0.97, logit coeff=-0.05, p=0.97; logit campus_pos coeff=-0.00, p=0.01; \n",
      "batch 21, cox coeff=-0.72, p=0.58, logit coeff=-0.72, p=0.58; logit campus_pos coeff=-0.00, p=0.50; \n",
      "batch 22, cox coeff=0.58, p=0.62, logit coeff=0.58, p=0.61; logit campus_pos coeff=-0.00, p=0.35; \n",
      "batch 23, cox coeff=-0.47, p=0.69, logit coeff=-0.47, p=0.69; logit campus_pos coeff=0.00, p=0.45; \n"
     ]
    },
    {
     "name": "stderr",
     "output_type": "stream",
     "text": [
      "C:\\Users\\yz685\\AppData\\Roaming\\Python\\Python37\\site-packages\\lifelines\\utils\\__init__.py:1122: ConvergenceWarning: Column academic_career_VM have very low variance when conditioned on death event present or not. This may harm convergence. This could be a form of 'complete separation'. For example, try the following code:\n",
      "\n",
      ">>> events = df['infected_on_this_day'].astype(bool)\n",
      ">>> print(df.loc[events, 'academic_career_VM'].var())\n",
      ">>> print(df.loc[~events, 'academic_career_VM'].var())\n",
      "\n",
      "A very low variance means that the column academic_career_VM completely determines whether a subject dies or not. See https://stats.stackexchange.com/questions/11109/how-to-deal-with-perfect-separation-in-logistic-regression.\n",
      "\n",
      "  warnings.warn(dedent(warning_text), ConvergenceWarning)\n",
      "C:\\Users\\yz685\\AppData\\Roaming\\Python\\Python37\\site-packages\\lifelines\\fitters\\cox_time_varying_fitter.py:491: ConvergenceWarning: Newton-Raphson convergence completed but norm(delta) is still high, 0.168. This may imply non-unique solutions to the maximum likelihood. Perhaps there is colinearity or complete separation in the dataset?\n",
      "  ConvergenceWarning,\n"
     ]
    },
    {
     "name": "stdout",
     "output_type": "stream",
     "text": [
      "batch 24, cox coeff=1.82, p=0.13, logit coeff=1.82, p=0.13; logit campus_pos coeff=0.00, p=0.48; \n",
      "batch 25, cox coeff=1.15, p=0.34, logit coeff=1.15, p=0.33; logit campus_pos coeff=-0.00, p=0.68; \n",
      "batch 26, cox coeff=-1.58, p=0.25, logit coeff=-1.58, p=0.27; logit campus_pos coeff=-0.00, p=0.68; \n",
      "batch 27, cox coeff=-1.85, p=0.16, logit coeff=-1.85, p=0.13; logit campus_pos coeff=0.00, p=0.04; \n",
      "batch 28, cox coeff=1.31, p=0.27, logit coeff=1.31, p=0.26; logit campus_pos coeff=0.00, p=0.20; \n",
      "batch 29, cox coeff=1.54, p=0.19, logit coeff=1.55, p=0.18; logit campus_pos coeff=-0.00, p=0.86; \n",
      "batch 30, cox coeff=0.52, p=0.68, logit coeff=0.52, p=0.71; logit campus_pos coeff=0.00, p=0.70; \n",
      "batch 31, cox coeff=0.94, p=0.47, logit coeff=0.94, p=0.47; logit campus_pos coeff=0.00, p=0.61; \n",
      "batch 32, cox coeff=0.29, p=0.82, logit coeff=0.29, p=0.82; logit campus_pos coeff=-0.00, p=0.69; \n",
      "batch 33, cox coeff=-0.03, p=0.98, logit coeff=-0.03, p=0.98; logit campus_pos coeff=0.00, p=0.65; \n",
      "batch 34, cox coeff=1.28, p=0.28, logit coeff=1.28, p=0.28; logit campus_pos coeff=-0.00, p=0.74; \n",
      "batch 35, cox coeff=0.01, p=0.99, logit coeff=0.01, p=0.99; logit campus_pos coeff=0.00, p=0.05; \n",
      "batch 36, cox coeff=0.67, p=0.62, logit coeff=0.67, p=0.60; logit campus_pos coeff=0.00, p=0.56; \n",
      "batch 37, cox coeff=0.64, p=0.62, logit coeff=0.64, p=0.62; logit campus_pos coeff=0.00, p=0.01; \n",
      "batch 38, cox coeff=-0.15, p=0.90, logit coeff=-0.15, p=0.90; logit campus_pos coeff=-0.00, p=0.28; \n",
      "batch 39, cox coeff=2.60, p=0.03, logit coeff=2.60, p=0.03; logit campus_pos coeff=-0.00, p=0.25; \n",
      "batch 40, cox coeff=0.10, p=0.94, logit coeff=0.10, p=0.94; logit campus_pos coeff=0.00, p=0.33; \n",
      "batch 41, cox coeff=2.21, p=0.07, logit coeff=2.22, p=0.07; logit campus_pos coeff=-0.00, p=0.64; \n",
      "batch 42, cox coeff=1.58, p=0.20, logit coeff=1.58, p=0.19; logit campus_pos coeff=-0.00, p=0.13; \n",
      "batch 43, cox coeff=0.87, p=0.47, logit coeff=0.87, p=0.47; logit campus_pos coeff=0.00, p=0.76; \n",
      "batch 44, cox coeff=0.12, p=0.92, logit coeff=0.12, p=0.92; logit campus_pos coeff=-0.00, p=0.36; \n",
      "batch 45, cox coeff=0.14, p=0.91, logit coeff=0.14, p=0.90; logit campus_pos coeff=0.00, p=0.23; \n",
      "batch 46, cox coeff=-0.02, p=0.99, logit coeff=-0.02, p=0.99; logit campus_pos coeff=0.00, p=0.64; \n",
      "batch 47, cox coeff=-0.27, p=0.83, logit coeff=-0.27, p=0.84; logit campus_pos coeff=0.00, p=0.40; \n",
      "batch 48, cox coeff=-0.39, p=0.75, logit coeff=-0.39, p=0.75; logit campus_pos coeff=-0.00, p=0.53; \n",
      "batch 49, cox coeff=-2.55, p=0.05, logit coeff=-2.55, p=0.04; logit campus_pos coeff=0.00, p=0.39; \n",
      "shape value 1.5\n",
      "batch 0, cox coeff=0.21, p=0.75, logit coeff=0.21, p=0.75; logit campus_pos coeff=0.00, p=0.00; \n",
      "batch 1, cox coeff=-0.24, p=0.72, logit coeff=-0.24, p=0.73; logit campus_pos coeff=0.00, p=0.01; \n",
      "batch 2, cox coeff=-0.45, p=0.49, logit coeff=-0.45, p=0.50; logit campus_pos coeff=0.00, p=0.62; \n",
      "batch 3, cox coeff=0.05, p=0.94, logit coeff=0.05, p=0.94; logit campus_pos coeff=0.00, p=0.01; \n",
      "batch 4, cox coeff=-0.60, p=0.36, logit coeff=-0.60, p=0.36; logit campus_pos coeff=0.00, p=0.05; \n",
      "batch 5, cox coeff=0.17, p=0.78, logit coeff=0.17, p=0.79; logit campus_pos coeff=0.00, p=0.00; \n",
      "batch 6, cox coeff=1.34, p=0.03, logit coeff=1.35, p=0.03; logit campus_pos coeff=0.00, p=0.06; \n",
      "batch 7, cox coeff=0.38, p=0.55, logit coeff=0.38, p=0.56; logit campus_pos coeff=0.00, p=0.00; \n",
      "batch 8, cox coeff=0.78, p=0.21, logit coeff=0.79, p=0.22; logit campus_pos coeff=0.00, p=0.00; \n",
      "batch 9, cox coeff=0.92, p=0.15, logit coeff=0.92, p=0.15; logit campus_pos coeff=0.00, p=0.47; \n",
      "batch 10, cox coeff=-0.80, p=0.21, logit coeff=-0.80, p=0.21; logit campus_pos coeff=0.00, p=0.00; \n",
      "batch 11, cox coeff=0.10, p=0.88, logit coeff=0.10, p=0.88; logit campus_pos coeff=0.00, p=0.94; \n",
      "batch 12, cox coeff=-0.22, p=0.73, logit coeff=-0.22, p=0.73; logit campus_pos coeff=0.00, p=0.03; \n",
      "batch 13, cox coeff=0.99, p=0.13, logit coeff=0.99, p=0.13; logit campus_pos coeff=0.00, p=0.56; \n",
      "batch 14, cox coeff=1.43, p=0.02, logit coeff=1.43, p=0.02; logit campus_pos coeff=0.00, p=0.35; \n",
      "batch 15, cox coeff=0.67, p=0.29, logit coeff=0.67, p=0.28; logit campus_pos coeff=0.00, p=0.00; \n",
      "batch 16, cox coeff=-0.53, p=0.43, logit coeff=-0.53, p=0.42; logit campus_pos coeff=0.00, p=0.01; \n",
      "batch 17, cox coeff=-0.99, p=0.13, logit coeff=-0.99, p=0.13; logit campus_pos coeff=0.00, p=0.01; \n",
      "batch 18, cox coeff=0.31, p=0.62, logit coeff=0.32, p=0.62; logit campus_pos coeff=0.00, p=0.38; \n",
      "batch 19, cox coeff=1.44, p=0.02, logit coeff=1.44, p=0.02; logit campus_pos coeff=0.00, p=0.15; \n",
      "batch 20, cox coeff=1.04, p=0.11, logit coeff=1.04, p=0.12; logit campus_pos coeff=0.00, p=0.00; \n",
      "batch 21, cox coeff=0.41, p=0.53, logit coeff=0.41, p=0.54; logit campus_pos coeff=0.00, p=0.00; \n",
      "batch 22, cox coeff=0.25, p=0.70, logit coeff=0.25, p=0.69; logit campus_pos coeff=0.00, p=0.04; \n",
      "batch 23, cox coeff=-0.35, p=0.59, logit coeff=-0.35, p=0.58; logit campus_pos coeff=0.00, p=0.00; \n",
      "batch 24, cox coeff=0.71, p=0.25, logit coeff=0.71, p=0.25; logit campus_pos coeff=0.00, p=0.03; \n",
      "batch 25, cox coeff=1.31, p=0.03, logit coeff=1.31, p=0.04; logit campus_pos coeff=0.00, p=0.00; \n",
      "batch 26, cox coeff=0.49, p=0.44, logit coeff=0.49, p=0.44; logit campus_pos coeff=0.00, p=0.13; \n",
      "batch 27, cox coeff=1.19, p=0.05, logit coeff=1.19, p=0.06; logit campus_pos coeff=0.00, p=0.00; \n",
      "batch 28, cox coeff=1.16, p=0.06, logit coeff=1.17, p=0.06; logit campus_pos coeff=0.00, p=0.23; \n",
      "batch 29, cox coeff=1.16, p=0.06, logit coeff=1.16, p=0.06; logit campus_pos coeff=0.00, p=0.02; \n",
      "batch 30, cox coeff=-0.01, p=0.99, logit coeff=-0.01, p=0.99; logit campus_pos coeff=0.00, p=0.00; \n",
      "batch 31, cox coeff=0.08, p=0.90, logit coeff=0.08, p=0.90; logit campus_pos coeff=0.00, p=0.03; \n",
      "batch 32, cox coeff=-0.33, p=0.61, logit coeff=-0.34, p=0.60; logit campus_pos coeff=0.00, p=0.01; \n",
      "batch 33, cox coeff=0.57, p=0.37, logit coeff=0.57, p=0.37; logit campus_pos coeff=0.00, p=0.00; \n",
      "batch 34, cox coeff=-0.50, p=0.43, logit coeff=-0.51, p=0.42; logit campus_pos coeff=0.00, p=0.00; \n",
      "batch 35, cox coeff=-0.03, p=0.97, logit coeff=-0.03, p=0.97; logit campus_pos coeff=0.00, p=0.00; \n",
      "batch 36, cox coeff=-0.09, p=0.89, logit coeff=-0.09, p=0.89; logit campus_pos coeff=0.00, p=0.02; \n",
      "batch 37, cox coeff=-0.81, p=0.22, logit coeff=-0.81, p=0.22; logit campus_pos coeff=0.00, p=0.00; \n",
      "batch 38, cox coeff=0.37, p=0.56, logit coeff=0.37, p=0.56; logit campus_pos coeff=0.00, p=0.04; \n",
      "batch 39, cox coeff=0.65, p=0.31, logit coeff=0.65, p=0.31; logit campus_pos coeff=0.00, p=0.45; \n",
      "batch 40, cox coeff=0.46, p=0.49, logit coeff=0.46, p=0.47; logit campus_pos coeff=0.00, p=0.86; \n",
      "batch 41, cox coeff=0.47, p=0.46, logit coeff=0.47, p=0.46; logit campus_pos coeff=0.00, p=0.08; \n",
      "batch 42, cox coeff=0.62, p=0.33, logit coeff=0.62, p=0.31; logit campus_pos coeff=0.00, p=0.00; \n",
      "batch 43, cox coeff=0.98, p=0.12, logit coeff=0.98, p=0.11; logit campus_pos coeff=0.00, p=0.00; \n",
      "batch 44, cox coeff=0.12, p=0.85, logit coeff=0.12, p=0.86; logit campus_pos coeff=0.00, p=0.06; \n",
      "batch 45, cox coeff=0.03, p=0.96, logit coeff=0.03, p=0.96; logit campus_pos coeff=0.00, p=0.23; \n",
      "batch 46, cox coeff=0.91, p=0.14, logit coeff=0.91, p=0.14; logit campus_pos coeff=0.00, p=0.23; \n",
      "batch 47, cox coeff=-0.58, p=0.38, logit coeff=-0.58, p=0.38; logit campus_pos coeff=0.00, p=0.33; \n",
      "batch 48, cox coeff=-1.60, p=0.02, logit coeff=-1.60, p=0.01; logit campus_pos coeff=0.00, p=0.27; \n",
      "batch 49, cox coeff=0.88, p=0.16, logit coeff=0.88, p=0.16; logit campus_pos coeff=0.00, p=0.35; \n",
      "shape value 2\n",
      "batch 0, cox coeff=0.36, p=0.29, logit coeff=0.36, p=0.30; logit campus_pos coeff=0.00, p=0.00; \n",
      "batch 1, cox coeff=0.28, p=0.42, logit coeff=0.27, p=0.43; logit campus_pos coeff=0.00, p=0.00; \n",
      "batch 2, cox coeff=0.23, p=0.51, logit coeff=0.23, p=0.51; logit campus_pos coeff=0.00, p=0.00; \n",
      "batch 3, cox coeff=0.04, p=0.90, logit coeff=0.05, p=0.90; logit campus_pos coeff=0.00, p=0.00; \n",
      "batch 4, cox coeff=0.48, p=0.15, logit coeff=0.48, p=0.15; logit campus_pos coeff=0.00, p=0.00; \n",
      "batch 5, cox coeff=0.65, p=0.06, logit coeff=0.65, p=0.05; logit campus_pos coeff=0.00, p=0.00; \n",
      "batch 6, cox coeff=0.62, p=0.07, logit coeff=0.62, p=0.07; logit campus_pos coeff=0.00, p=0.00; \n",
      "batch 7, cox coeff=0.51, p=0.14, logit coeff=0.50, p=0.15; logit campus_pos coeff=0.00, p=0.00; \n",
      "batch 8, cox coeff=0.45, p=0.18, logit coeff=0.46, p=0.18; logit campus_pos coeff=0.00, p=0.00; \n",
      "batch 9, cox coeff=1.11, p=0.00, logit coeff=1.12, p=0.00; logit campus_pos coeff=0.00, p=0.00; \n",
      "batch 10, cox coeff=0.19, p=0.57, logit coeff=0.18, p=0.58; logit campus_pos coeff=0.00, p=0.00; \n",
      "batch 11, cox coeff=0.50, p=0.15, logit coeff=0.51, p=0.15; logit campus_pos coeff=0.00, p=0.00; \n",
      "batch 12, cox coeff=0.19, p=0.59, logit coeff=0.19, p=0.58; logit campus_pos coeff=0.00, p=0.00; \n",
      "batch 13, cox coeff=0.59, p=0.09, logit coeff=0.58, p=0.10; logit campus_pos coeff=0.00, p=0.00; \n",
      "batch 14, cox coeff=0.20, p=0.56, logit coeff=0.20, p=0.56; logit campus_pos coeff=0.00, p=0.00; \n",
      "batch 15, cox coeff=-0.10, p=0.78, logit coeff=-0.09, p=0.79; logit campus_pos coeff=0.00, p=0.00; \n",
      "batch 16, cox coeff=-0.39, p=0.27, logit coeff=-0.40, p=0.26; logit campus_pos coeff=0.00, p=0.00; \n",
      "batch 17, cox coeff=-0.21, p=0.54, logit coeff=-0.21, p=0.54; logit campus_pos coeff=0.00, p=0.00; \n",
      "batch 18, cox coeff=0.43, p=0.21, logit coeff=0.43, p=0.21; logit campus_pos coeff=0.00, p=0.00; \n",
      "batch 19, cox coeff=0.69, p=0.04, logit coeff=0.69, p=0.04; logit campus_pos coeff=0.00, p=0.00; \n",
      "batch 20, cox coeff=0.43, p=0.21, logit coeff=0.43, p=0.21; logit campus_pos coeff=0.00, p=0.18; \n",
      "batch 21, cox coeff=0.49, p=0.15, logit coeff=0.48, p=0.16; logit campus_pos coeff=0.00, p=0.00; \n",
      "batch 22, cox coeff=0.31, p=0.36, logit coeff=0.31, p=0.35; logit campus_pos coeff=0.00, p=0.00; \n",
      "batch 23, cox coeff=0.07, p=0.85, logit coeff=0.06, p=0.86; logit campus_pos coeff=0.00, p=0.00; \n",
      "batch 24, cox coeff=0.47, p=0.17, logit coeff=0.47, p=0.18; logit campus_pos coeff=0.00, p=0.00; \n",
      "batch 25, cox coeff=0.18, p=0.60, logit coeff=0.18, p=0.61; logit campus_pos coeff=0.00, p=0.00; \n",
      "batch 26, cox coeff=0.25, p=0.46, logit coeff=0.25, p=0.47; logit campus_pos coeff=0.00, p=0.01; \n",
      "batch 27, cox coeff=0.68, p=0.04, logit coeff=0.68, p=0.04; logit campus_pos coeff=0.00, p=0.00; \n",
      "batch 28, cox coeff=0.78, p=0.02, logit coeff=0.77, p=0.02; logit campus_pos coeff=0.00, p=0.00; \n",
      "batch 29, cox coeff=0.66, p=0.05, logit coeff=0.65, p=0.05; logit campus_pos coeff=0.00, p=0.00; \n",
      "batch 30, cox coeff=0.51, p=0.15, logit coeff=0.51, p=0.14; logit campus_pos coeff=0.00, p=0.00; \n",
      "batch 31, cox coeff=0.59, p=0.08, logit coeff=0.59, p=0.08; logit campus_pos coeff=0.00, p=0.00; \n",
      "batch 32, cox coeff=0.60, p=0.08, logit coeff=0.60, p=0.08; logit campus_pos coeff=0.00, p=0.00; \n",
      "batch 33, cox coeff=0.72, p=0.04, logit coeff=0.71, p=0.04; logit campus_pos coeff=0.00, p=0.00; \n",
      "batch 34, cox coeff=0.07, p=0.85, logit coeff=0.06, p=0.85; logit campus_pos coeff=0.00, p=0.00; \n",
      "batch 35, cox coeff=0.09, p=0.80, logit coeff=0.09, p=0.79; logit campus_pos coeff=0.00, p=0.00; \n",
      "batch 36, cox coeff=1.15, p=0.00, logit coeff=1.14, p=0.00; logit campus_pos coeff=0.00, p=0.00; \n",
      "batch 37, cox coeff=-0.15, p=0.67, logit coeff=-0.15, p=0.67; logit campus_pos coeff=0.00, p=0.00; \n",
      "batch 38, cox coeff=0.35, p=0.31, logit coeff=0.35, p=0.32; logit campus_pos coeff=0.00, p=0.00; \n",
      "batch 39, cox coeff=-0.05, p=0.89, logit coeff=-0.05, p=0.89; logit campus_pos coeff=0.00, p=0.00; \n",
      "batch 40, cox coeff=0.60, p=0.08, logit coeff=0.61, p=0.08; logit campus_pos coeff=0.00, p=0.00; \n",
      "batch 41, cox coeff=0.27, p=0.44, logit coeff=0.27, p=0.44; logit campus_pos coeff=0.00, p=0.00; \n",
      "batch 42, cox coeff=0.42, p=0.22, logit coeff=0.42, p=0.21; logit campus_pos coeff=0.00, p=0.02; \n",
      "batch 43, cox coeff=0.05, p=0.88, logit coeff=0.05, p=0.88; logit campus_pos coeff=0.00, p=0.00; \n",
      "batch 44, cox coeff=0.14, p=0.68, logit coeff=0.15, p=0.66; logit campus_pos coeff=0.00, p=0.01; \n",
      "batch 45, cox coeff=-0.18, p=0.61, logit coeff=-0.17, p=0.61; logit campus_pos coeff=0.00, p=0.00; \n",
      "batch 46, cox coeff=-0.31, p=0.37, logit coeff=-0.30, p=0.37; logit campus_pos coeff=0.00, p=0.00; \n",
      "batch 47, cox coeff=0.77, p=0.02, logit coeff=0.76, p=0.03; logit campus_pos coeff=0.00, p=0.00; \n",
      "batch 48, cox coeff=0.05, p=0.90, logit coeff=0.04, p=0.90; logit campus_pos coeff=0.00, p=0.00; \n",
      "batch 49, cox coeff=-0.29, p=0.40, logit coeff=-0.29, p=0.40; logit campus_pos coeff=0.00, p=0.00; \n"
     ]
    }
   ],
   "source": [
    "# sampling class positivity from a distributioun with constant mean over time\n",
    "\n",
    "logit_res = defaultdict(list)\n",
    "cox_res = defaultdict(list)\n",
    "classpos_time_corr = defaultdict(list)\n",
    "\n",
    "for shape_val in [0.5, 1.0, 1.5, 2]:\n",
    "    print(\"shape value\", shape_val)\n",
    "    for batch in range(50):\n",
    "        sim_data = pd.read_csv(\n",
    "            # f\"../data/simulation/SampledFeature=cp_OutcomeGenenerator=cox_shape={shape_val}_batch={batch}.csv\",\n",
    "            # f\"../data/simulation/SampledFeature=cp_OutcomeGenenerator=cox_scale=0.001_shape={shape_val}_batch={batch}.csv\",\n",
    "            f\"../data/simulation/SampledFeature=cp_sampling=aggregate_OutcomeGenenerator=cox_scale=0.001_shape={shape_val}_batch={batch}.csv\",\n",
    "            index_col=0\n",
    "        )\n",
    "\n",
    "        ctv = sim.fit_cox(sim_data)\n",
    "        ctv_lower, ctv_upper = ctv.confidence_intervals_.values[0]\n",
    "        cox_res[shape_val].append(\n",
    "            {\"coef\": ctv.params_[\"class_positivity\"], \n",
    "            \"p-value\": ctv._compute_p_values()[0],\n",
    "            \"coverage\": TRUE_COEF >= ctv_lower and TRUE_COEF <= ctv_upper}\n",
    "        )\n",
    "\n",
    "        sim_data[\"week_idx\"] = sim_data[\"day_idx\"] // 7\n",
    "        logit = sim.fit_logistic(sim_data)\n",
    "        logit_lower, logit_upper = logit.conf_int().loc[\"class_positivity\"].values\n",
    "        logit_res[shape_val].append(\n",
    "            {\"coef\": logit._results.params[-2],\n",
    "            \"p-value\": logit.pvalues[\"class_positivity\"],\n",
    "            \"coverage\": TRUE_COEF >= logit_lower and TRUE_COEF <= logit_upper}\n",
    "        )\n",
    "\n",
    "        corr = sim_data.corr()\n",
    "        classpos_time_corr[shape_val].append(corr['class_positivity']['day_idx'])\n",
    "\n",
    "        print(\n",
    "            f\"batch {batch}, cox coeff={ctv.params_['class_positivity']:.2f}, p={ctv._compute_p_values()[0]:.2f}, logit coeff={logit._results.params[-2]:.2f}, p={logit.pvalues['class_positivity']:.2f}; \"\n",
    "            f\"logit campus_pos coeff={logit._results.params[-1]:.2f}, p={logit.pvalues['campus_positivity']:.2f}; \")\n",
    "        # print(\n",
    "        #     f\"class_pos and time correlation={corr['class_positivity']['day_idx']:.2f}; \"\n",
    "        #     f\"class_pos and campus_pos correlation={corr['class_positivity']['campus_positivity']:.2f}; \"\n",
    "        # )\n",
    "\n",
    "        setting = \"SampledFeature=cp_sampling=aggregate_OutcomeGenenerator=cox_scale=0.001\"\n",
    "        with open (\"logit_res_\" + setting + \".pkl\", \"wb\") as f:\n",
    "            pickle.dump(logit_res, f)\n",
    "        with open (\"cox_res_\" + setting + \".pkl\", \"wb\") as f:\n",
    "            pickle.dump(cox_res, f)\n",
    "        with open(\"classpos_time_corr\" + setting + \".pkl\", \"wb\") as f:\n",
    "            pickle.dump(classpos_time_corr, f)\n",
    "            \n"
   ]
  },
  {
   "cell_type": "code",
   "execution_count": 159,
   "metadata": {},
   "outputs": [
    {
     "name": "stdout",
     "output_type": "stream",
     "text": [
      "shape value 0.5\n",
      "batch 0, cox coeff=2.64, p=0.31, logit coeff=2.56, p=0.27; logit campus_pos coeff=-0.00, p=0.49; \n"
     ]
    },
    {
     "name": "stderr",
     "output_type": "stream",
     "text": [
      "C:\\Users\\yz685\\AppData\\Roaming\\Python\\Python37\\site-packages\\lifelines\\utils\\__init__.py:1122: ConvergenceWarning: Column academic_career_GM have very low variance when conditioned on death event present or not. This may harm convergence. This could be a form of 'complete separation'. For example, try the following code:\n",
      "\n",
      ">>> events = df['infected_on_this_day'].astype(bool)\n",
      ">>> print(df.loc[events, 'academic_career_GM'].var())\n",
      ">>> print(df.loc[~events, 'academic_career_GM'].var())\n",
      "\n",
      "A very low variance means that the column academic_career_GM completely determines whether a subject dies or not. See https://stats.stackexchange.com/questions/11109/how-to-deal-with-perfect-separation-in-logistic-regression.\n",
      "\n",
      "  warnings.warn(dedent(warning_text), ConvergenceWarning)\n",
      "C:\\Users\\yz685\\AppData\\Roaming\\Python\\Python37\\site-packages\\lifelines\\fitters\\cox_time_varying_fitter.py:491: ConvergenceWarning: Newton-Raphson convergence completed but norm(delta) is still high, 0.313. This may imply non-unique solutions to the maximum likelihood. Perhaps there is colinearity or complete separation in the dataset?\n",
      "  ConvergenceWarning,\n"
     ]
    },
    {
     "name": "stdout",
     "output_type": "stream",
     "text": [
      "batch 1, cox coeff=2.10, p=0.53, logit coeff=0.80, p=0.77; logit campus_pos coeff=-0.00, p=0.47; \n"
     ]
    },
    {
     "name": "stderr",
     "output_type": "stream",
     "text": [
      "C:\\Users\\yz685\\AppData\\Roaming\\Python\\Python37\\site-packages\\lifelines\\utils\\__init__.py:1122: ConvergenceWarning: Column academic_career_GR have very low variance when conditioned on death event present or not. This may harm convergence. This could be a form of 'complete separation'. For example, try the following code:\n",
      "\n",
      ">>> events = df['infected_on_this_day'].astype(bool)\n",
      ">>> print(df.loc[events, 'academic_career_GR'].var())\n",
      ">>> print(df.loc[~events, 'academic_career_GR'].var())\n",
      "\n",
      "A very low variance means that the column academic_career_GR completely determines whether a subject dies or not. See https://stats.stackexchange.com/questions/11109/how-to-deal-with-perfect-separation-in-logistic-regression.\n",
      "\n",
      "  warnings.warn(dedent(warning_text), ConvergenceWarning)\n",
      "C:\\Users\\yz685\\AppData\\Roaming\\Python\\Python37\\site-packages\\lifelines\\fitters\\cox_time_varying_fitter.py:491: ConvergenceWarning: Newton-Raphson convergence completed but norm(delta) is still high, 0.308. This may imply non-unique solutions to the maximum likelihood. Perhaps there is colinearity or complete separation in the dataset?\n",
      "  ConvergenceWarning,\n"
     ]
    },
    {
     "name": "stdout",
     "output_type": "stream",
     "text": [
      "batch 2, cox coeff=1.06, p=0.70, logit coeff=0.36, p=0.88; logit campus_pos coeff=0.00, p=0.81; \n"
     ]
    },
    {
     "name": "stderr",
     "output_type": "stream",
     "text": [
      "C:\\Users\\yz685\\AppData\\Roaming\\Python\\Python37\\site-packages\\lifelines\\utils\\__init__.py:1122: ConvergenceWarning: Column academic_career_VM have very low variance when conditioned on death event present or not. This may harm convergence. This could be a form of 'complete separation'. For example, try the following code:\n",
      "\n",
      ">>> events = df['infected_on_this_day'].astype(bool)\n",
      ">>> print(df.loc[events, 'academic_career_VM'].var())\n",
      ">>> print(df.loc[~events, 'academic_career_VM'].var())\n",
      "\n",
      "A very low variance means that the column academic_career_VM completely determines whether a subject dies or not. See https://stats.stackexchange.com/questions/11109/how-to-deal-with-perfect-separation-in-logistic-regression.\n",
      "\n",
      "  warnings.warn(dedent(warning_text), ConvergenceWarning)\n",
      "C:\\Users\\yz685\\AppData\\Roaming\\Python\\Python37\\site-packages\\lifelines\\fitters\\cox_time_varying_fitter.py:491: ConvergenceWarning: Newton-Raphson convergence completed but norm(delta) is still high, 0.164. This may imply non-unique solutions to the maximum likelihood. Perhaps there is colinearity or complete separation in the dataset?\n",
      "  ConvergenceWarning,\n"
     ]
    },
    {
     "name": "stdout",
     "output_type": "stream",
     "text": [
      "batch 3, cox coeff=3.40, p=0.25, logit coeff=2.37, p=0.43; logit campus_pos coeff=0.00, p=0.95; \n"
     ]
    },
    {
     "name": "stderr",
     "output_type": "stream",
     "text": [
      "C:\\Users\\yz685\\AppData\\Roaming\\Python\\Python37\\site-packages\\lifelines\\utils\\__init__.py:1122: ConvergenceWarning: Column academic_career_GR have very low variance when conditioned on death event present or not. This may harm convergence. This could be a form of 'complete separation'. For example, try the following code:\n",
      "\n",
      ">>> events = df['infected_on_this_day'].astype(bool)\n",
      ">>> print(df.loc[events, 'academic_career_GR'].var())\n",
      ">>> print(df.loc[~events, 'academic_career_GR'].var())\n",
      "\n",
      "A very low variance means that the column academic_career_GR completely determines whether a subject dies or not. See https://stats.stackexchange.com/questions/11109/how-to-deal-with-perfect-separation-in-logistic-regression.\n",
      "\n",
      "  warnings.warn(dedent(warning_text), ConvergenceWarning)\n",
      "C:\\Users\\yz685\\AppData\\Roaming\\Python\\Python37\\site-packages\\lifelines\\fitters\\cox_time_varying_fitter.py:491: ConvergenceWarning: Newton-Raphson convergence completed but norm(delta) is still high, 0.308. This may imply non-unique solutions to the maximum likelihood. Perhaps there is colinearity or complete separation in the dataset?\n",
      "  ConvergenceWarning,\n"
     ]
    },
    {
     "name": "stdout",
     "output_type": "stream",
     "text": [
      "batch 4, cox coeff=5.64, p=0.06, logit coeff=4.36, p=0.12; logit campus_pos coeff=-0.00, p=0.41; \n"
     ]
    },
    {
     "name": "stderr",
     "output_type": "stream",
     "text": [
      "C:\\Users\\yz685\\AppData\\Roaming\\Python\\Python37\\site-packages\\lifelines\\utils\\__init__.py:1122: ConvergenceWarning: Column academic_career_VM have very low variance when conditioned on death event present or not. This may harm convergence. This could be a form of 'complete separation'. For example, try the following code:\n",
      "\n",
      ">>> events = df['infected_on_this_day'].astype(bool)\n",
      ">>> print(df.loc[events, 'academic_career_VM'].var())\n",
      ">>> print(df.loc[~events, 'academic_career_VM'].var())\n",
      "\n",
      "A very low variance means that the column academic_career_VM completely determines whether a subject dies or not. See https://stats.stackexchange.com/questions/11109/how-to-deal-with-perfect-separation-in-logistic-regression.\n",
      "\n",
      "  warnings.warn(dedent(warning_text), ConvergenceWarning)\n",
      "C:\\Users\\yz685\\AppData\\Roaming\\Python\\Python37\\site-packages\\lifelines\\fitters\\cox_time_varying_fitter.py:491: ConvergenceWarning: Newton-Raphson convergence completed but norm(delta) is still high, 0.171. This may imply non-unique solutions to the maximum likelihood. Perhaps there is colinearity or complete separation in the dataset?\n",
      "  ConvergenceWarning,\n"
     ]
    },
    {
     "name": "stdout",
     "output_type": "stream",
     "text": [
      "batch 5, cox coeff=-8.02, p=0.06, logit coeff=-7.95, p=0.02; logit campus_pos coeff=-0.01, p=0.06; \n"
     ]
    },
    {
     "name": "stderr",
     "output_type": "stream",
     "text": [
      "C:\\Users\\yz685\\AppData\\Roaming\\Python\\Python37\\site-packages\\lifelines\\utils\\__init__.py:1122: ConvergenceWarning: Column academic_career_VM have very low variance when conditioned on death event present or not. This may harm convergence. This could be a form of 'complete separation'. For example, try the following code:\n",
      "\n",
      ">>> events = df['infected_on_this_day'].astype(bool)\n",
      ">>> print(df.loc[events, 'academic_career_VM'].var())\n",
      ">>> print(df.loc[~events, 'academic_career_VM'].var())\n",
      "\n",
      "A very low variance means that the column academic_career_VM completely determines whether a subject dies or not. See https://stats.stackexchange.com/questions/11109/how-to-deal-with-perfect-separation-in-logistic-regression.\n",
      "\n",
      "  warnings.warn(dedent(warning_text), ConvergenceWarning)\n",
      "C:\\Users\\yz685\\AppData\\Roaming\\Python\\Python37\\site-packages\\lifelines\\fitters\\cox_time_varying_fitter.py:491: ConvergenceWarning: Newton-Raphson convergence completed but norm(delta) is still high, 0.171. This may imply non-unique solutions to the maximum likelihood. Perhaps there is colinearity or complete separation in the dataset?\n",
      "  ConvergenceWarning,\n"
     ]
    },
    {
     "name": "stdout",
     "output_type": "stream",
     "text": [
      "batch 6, cox coeff=-2.96, p=0.42, logit coeff=-2.79, p=0.26; logit campus_pos coeff=0.00, p=0.74; \n"
     ]
    },
    {
     "name": "stderr",
     "output_type": "stream",
     "text": [
      "C:\\Users\\yz685\\AppData\\Roaming\\Python\\Python37\\site-packages\\lifelines\\utils\\__init__.py:1122: ConvergenceWarning: Column academic_career_GM have very low variance when conditioned on death event present or not. This may harm convergence. This could be a form of 'complete separation'. For example, try the following code:\n",
      "\n",
      ">>> events = df['infected_on_this_day'].astype(bool)\n",
      ">>> print(df.loc[events, 'academic_career_GM'].var())\n",
      ">>> print(df.loc[~events, 'academic_career_GM'].var())\n",
      "\n",
      "A very low variance means that the column academic_career_GM completely determines whether a subject dies or not. See https://stats.stackexchange.com/questions/11109/how-to-deal-with-perfect-separation-in-logistic-regression.\n",
      "\n",
      "  warnings.warn(dedent(warning_text), ConvergenceWarning)\n",
      "C:\\Users\\yz685\\AppData\\Roaming\\Python\\Python37\\site-packages\\lifelines\\fitters\\cox_time_varying_fitter.py:491: ConvergenceWarning: Newton-Raphson convergence completed but norm(delta) is still high, 0.311. This may imply non-unique solutions to the maximum likelihood. Perhaps there is colinearity or complete separation in the dataset?\n",
      "  ConvergenceWarning,\n"
     ]
    },
    {
     "name": "stdout",
     "output_type": "stream",
     "text": [
      "batch 7, cox coeff=0.43, p=0.90, logit coeff=-0.40, p=0.89; logit campus_pos coeff=-0.00, p=0.51; \n"
     ]
    },
    {
     "name": "stderr",
     "output_type": "stream",
     "text": [
      "C:\\Users\\yz685\\AppData\\Roaming\\Python\\Python37\\site-packages\\lifelines\\utils\\__init__.py:1122: ConvergenceWarning: Column academic_career_GM have very low variance when conditioned on death event present or not. This may harm convergence. This could be a form of 'complete separation'. For example, try the following code:\n",
      "\n",
      ">>> events = df['infected_on_this_day'].astype(bool)\n",
      ">>> print(df.loc[events, 'academic_career_GM'].var())\n",
      ">>> print(df.loc[~events, 'academic_career_GM'].var())\n",
      "\n",
      "A very low variance means that the column academic_career_GM completely determines whether a subject dies or not. See https://stats.stackexchange.com/questions/11109/how-to-deal-with-perfect-separation-in-logistic-regression.\n",
      "\n",
      "  warnings.warn(dedent(warning_text), ConvergenceWarning)\n",
      "C:\\Users\\yz685\\AppData\\Roaming\\Python\\Python37\\site-packages\\lifelines\\fitters\\cox_time_varying_fitter.py:491: ConvergenceWarning: Newton-Raphson convergence completed but norm(delta) is still high, 0.311. This may imply non-unique solutions to the maximum likelihood. Perhaps there is colinearity or complete separation in the dataset?\n",
      "  ConvergenceWarning,\n"
     ]
    },
    {
     "name": "stdout",
     "output_type": "stream",
     "text": [
      "batch 8, cox coeff=-2.64, p=0.50, logit coeff=-2.95, p=0.53; logit campus_pos coeff=0.00, p=0.82; \n"
     ]
    },
    {
     "name": "stderr",
     "output_type": "stream",
     "text": [
      "C:\\Users\\yz685\\AppData\\Roaming\\Python\\Python37\\site-packages\\lifelines\\utils\\__init__.py:1122: ConvergenceWarning: Column academic_career_VM have very low variance when conditioned on death event present or not. This may harm convergence. This could be a form of 'complete separation'. For example, try the following code:\n",
      "\n",
      ">>> events = df['infected_on_this_day'].astype(bool)\n",
      ">>> print(df.loc[events, 'academic_career_VM'].var())\n",
      ">>> print(df.loc[~events, 'academic_career_VM'].var())\n",
      "\n",
      "A very low variance means that the column academic_career_VM completely determines whether a subject dies or not. See https://stats.stackexchange.com/questions/11109/how-to-deal-with-perfect-separation-in-logistic-regression.\n",
      "\n",
      "  warnings.warn(dedent(warning_text), ConvergenceWarning)\n",
      "C:\\Users\\yz685\\AppData\\Roaming\\Python\\Python37\\site-packages\\lifelines\\fitters\\cox_time_varying_fitter.py:491: ConvergenceWarning: Newton-Raphson convergence completed but norm(delta) is still high, 0.171. This may imply non-unique solutions to the maximum likelihood. Perhaps there is colinearity or complete separation in the dataset?\n",
      "  ConvergenceWarning,\n"
     ]
    },
    {
     "name": "stdout",
     "output_type": "stream",
     "text": [
      "batch 9, cox coeff=2.04, p=0.56, logit coeff=0.74, p=0.81; logit campus_pos coeff=-0.01, p=0.04; \n"
     ]
    },
    {
     "name": "stderr",
     "output_type": "stream",
     "text": [
      "C:\\Users\\yz685\\AppData\\Roaming\\Python\\Python37\\site-packages\\lifelines\\utils\\__init__.py:1122: ConvergenceWarning: Column academic_career_GM have very low variance when conditioned on death event present or not. This may harm convergence. This could be a form of 'complete separation'. For example, try the following code:\n",
      "\n",
      ">>> events = df['infected_on_this_day'].astype(bool)\n",
      ">>> print(df.loc[events, 'academic_career_GM'].var())\n",
      ">>> print(df.loc[~events, 'academic_career_GM'].var())\n",
      "\n",
      "A very low variance means that the column academic_career_GM completely determines whether a subject dies or not. See https://stats.stackexchange.com/questions/11109/how-to-deal-with-perfect-separation-in-logistic-regression.\n",
      "\n",
      "  warnings.warn(dedent(warning_text), ConvergenceWarning)\n",
      "C:\\Users\\yz685\\AppData\\Roaming\\Python\\Python37\\site-packages\\lifelines\\fitters\\cox_time_varying_fitter.py:491: ConvergenceWarning: Newton-Raphson convergence completed but norm(delta) is still high, 0.166. This may imply non-unique solutions to the maximum likelihood. Perhaps there is colinearity or complete separation in the dataset?\n",
      "  ConvergenceWarning,\n"
     ]
    },
    {
     "name": "stdout",
     "output_type": "stream",
     "text": [
      "batch 10, cox coeff=0.54, p=0.86, logit coeff=-2.03, p=0.30; logit campus_pos coeff=-0.01, p=0.13; \n"
     ]
    },
    {
     "name": "stderr",
     "output_type": "stream",
     "text": [
      "C:\\Users\\yz685\\AppData\\Roaming\\Python\\Python37\\site-packages\\lifelines\\utils\\__init__.py:1122: ConvergenceWarning: Column academic_career_UG_A have very low variance when conditioned on death event present or not. This may harm convergence. This could be a form of 'complete separation'. For example, try the following code:\n",
      "\n",
      ">>> events = df['infected_on_this_day'].astype(bool)\n",
      ">>> print(df.loc[events, 'academic_career_UG_A'].var())\n",
      ">>> print(df.loc[~events, 'academic_career_UG_A'].var())\n",
      "\n",
      "A very low variance means that the column academic_career_UG_A completely determines whether a subject dies or not. See https://stats.stackexchange.com/questions/11109/how-to-deal-with-perfect-separation-in-logistic-regression.\n",
      "\n",
      "  warnings.warn(dedent(warning_text), ConvergenceWarning)\n",
      "C:\\Users\\yz685\\AppData\\Roaming\\Python\\Python37\\site-packages\\lifelines\\fitters\\cox_time_varying_fitter.py:491: ConvergenceWarning: Newton-Raphson convergence completed but norm(delta) is still high, 0.208. This may imply non-unique solutions to the maximum likelihood. Perhaps there is colinearity or complete separation in the dataset?\n",
      "  ConvergenceWarning,\n"
     ]
    },
    {
     "name": "stdout",
     "output_type": "stream",
     "text": [
      "batch 11, cox coeff=0.32, p=0.91, logit coeff=-0.70, p=0.85; logit campus_pos coeff=-0.01, p=0.01; \n"
     ]
    },
    {
     "name": "stderr",
     "output_type": "stream",
     "text": [
      "C:\\Users\\yz685\\AppData\\Roaming\\Python\\Python37\\site-packages\\lifelines\\utils\\__init__.py:1122: ConvergenceWarning: Column academic_career_VM have very low variance when conditioned on death event present or not. This may harm convergence. This could be a form of 'complete separation'. For example, try the following code:\n",
      "\n",
      ">>> events = df['infected_on_this_day'].astype(bool)\n",
      ">>> print(df.loc[events, 'academic_career_VM'].var())\n",
      ">>> print(df.loc[~events, 'academic_career_VM'].var())\n",
      "\n",
      "A very low variance means that the column academic_career_VM completely determines whether a subject dies or not. See https://stats.stackexchange.com/questions/11109/how-to-deal-with-perfect-separation-in-logistic-regression.\n",
      "\n",
      "  warnings.warn(dedent(warning_text), ConvergenceWarning)\n",
      "C:\\Users\\yz685\\AppData\\Roaming\\Python\\Python37\\site-packages\\lifelines\\fitters\\cox_time_varying_fitter.py:491: ConvergenceWarning: Newton-Raphson convergence completed but norm(delta) is still high, 0.164. This may imply non-unique solutions to the maximum likelihood. Perhaps there is colinearity or complete separation in the dataset?\n",
      "  ConvergenceWarning,\n"
     ]
    },
    {
     "name": "stdout",
     "output_type": "stream",
     "text": [
      "batch 12, cox coeff=1.29, p=0.71, logit coeff=0.24, p=0.93; logit campus_pos coeff=-0.00, p=0.52; \n"
     ]
    },
    {
     "name": "stderr",
     "output_type": "stream",
     "text": [
      "C:\\Users\\yz685\\AppData\\Roaming\\Python\\Python37\\site-packages\\lifelines\\utils\\__init__.py:1122: ConvergenceWarning: Column academic_career_UG_A have very low variance when conditioned on death event present or not. This may harm convergence. This could be a form of 'complete separation'. For example, try the following code:\n",
      "\n",
      ">>> events = df['infected_on_this_day'].astype(bool)\n",
      ">>> print(df.loc[events, 'academic_career_UG_A'].var())\n",
      ">>> print(df.loc[~events, 'academic_career_UG_A'].var())\n",
      "\n",
      "A very low variance means that the column academic_career_UG_A completely determines whether a subject dies or not. See https://stats.stackexchange.com/questions/11109/how-to-deal-with-perfect-separation-in-logistic-regression.\n",
      "\n",
      "  warnings.warn(dedent(warning_text), ConvergenceWarning)\n",
      "C:\\Users\\yz685\\AppData\\Roaming\\Python\\Python37\\site-packages\\lifelines\\fitters\\cox_time_varying_fitter.py:491: ConvergenceWarning: Newton-Raphson convergence completed but norm(delta) is still high, 0.208. This may imply non-unique solutions to the maximum likelihood. Perhaps there is colinearity or complete separation in the dataset?\n",
      "  ConvergenceWarning,\n"
     ]
    },
    {
     "name": "stdout",
     "output_type": "stream",
     "text": [
      "batch 13, cox coeff=-0.33, p=0.92, logit coeff=-0.83, p=0.80; logit campus_pos coeff=0.00, p=0.44; \n"
     ]
    },
    {
     "name": "stderr",
     "output_type": "stream",
     "text": [
      "C:\\Users\\yz685\\AppData\\Roaming\\Python\\Python37\\site-packages\\lifelines\\utils\\__init__.py:1122: ConvergenceWarning: Column academic_career_UG_A have very low variance when conditioned on death event present or not. This may harm convergence. This could be a form of 'complete separation'. For example, try the following code:\n",
      "\n",
      ">>> events = df['infected_on_this_day'].astype(bool)\n",
      ">>> print(df.loc[events, 'academic_career_UG_A'].var())\n",
      ">>> print(df.loc[~events, 'academic_career_UG_A'].var())\n",
      "\n",
      "A very low variance means that the column academic_career_UG_A completely determines whether a subject dies or not. See https://stats.stackexchange.com/questions/11109/how-to-deal-with-perfect-separation-in-logistic-regression.\n",
      "\n",
      "  warnings.warn(dedent(warning_text), ConvergenceWarning)\n",
      "C:\\Users\\yz685\\AppData\\Roaming\\Python\\Python37\\site-packages\\lifelines\\fitters\\cox_time_varying_fitter.py:491: ConvergenceWarning: Newton-Raphson convergence completed but norm(delta) is still high, 0.264. This may imply non-unique solutions to the maximum likelihood. Perhaps there is colinearity or complete separation in the dataset?\n",
      "  ConvergenceWarning,\n"
     ]
    },
    {
     "name": "stdout",
     "output_type": "stream",
     "text": [
      "batch 14, cox coeff=1.30, p=0.72, logit coeff=-1.49, p=0.64; logit campus_pos coeff=-0.00, p=0.37; \n"
     ]
    },
    {
     "name": "stderr",
     "output_type": "stream",
     "text": [
      "C:\\Users\\yz685\\AppData\\Roaming\\Python\\Python37\\site-packages\\lifelines\\utils\\__init__.py:1122: ConvergenceWarning: Column academic_career_GR have very low variance when conditioned on death event present or not. This may harm convergence. This could be a form of 'complete separation'. For example, try the following code:\n",
      "\n",
      ">>> events = df['infected_on_this_day'].astype(bool)\n",
      ">>> print(df.loc[events, 'academic_career_GR'].var())\n",
      ">>> print(df.loc[~events, 'academic_career_GR'].var())\n",
      "\n",
      "A very low variance means that the column academic_career_GR completely determines whether a subject dies or not. See https://stats.stackexchange.com/questions/11109/how-to-deal-with-perfect-separation-in-logistic-regression.\n",
      "\n",
      "  warnings.warn(dedent(warning_text), ConvergenceWarning)\n",
      "C:\\Users\\yz685\\AppData\\Roaming\\Python\\Python37\\site-packages\\lifelines\\fitters\\cox_time_varying_fitter.py:491: ConvergenceWarning: Newton-Raphson convergence completed but norm(delta) is still high, 0.308. This may imply non-unique solutions to the maximum likelihood. Perhaps there is colinearity or complete separation in the dataset?\n",
      "  ConvergenceWarning,\n"
     ]
    },
    {
     "name": "stdout",
     "output_type": "stream",
     "text": [
      "batch 15, cox coeff=3.84, p=0.23, logit coeff=2.44, p=0.42; logit campus_pos coeff=-0.00, p=0.72; \n"
     ]
    },
    {
     "name": "stderr",
     "output_type": "stream",
     "text": [
      "C:\\Users\\yz685\\AppData\\Roaming\\Python\\Python37\\site-packages\\lifelines\\utils\\__init__.py:1122: ConvergenceWarning: Column academic_career_UG_A have very low variance when conditioned on death event present or not. This may harm convergence. This could be a form of 'complete separation'. For example, try the following code:\n",
      "\n",
      ">>> events = df['infected_on_this_day'].astype(bool)\n",
      ">>> print(df.loc[events, 'academic_career_UG_A'].var())\n",
      ">>> print(df.loc[~events, 'academic_career_UG_A'].var())\n",
      "\n",
      "A very low variance means that the column academic_career_UG_A completely determines whether a subject dies or not. See https://stats.stackexchange.com/questions/11109/how-to-deal-with-perfect-separation-in-logistic-regression.\n",
      "\n",
      "  warnings.warn(dedent(warning_text), ConvergenceWarning)\n",
      "C:\\Users\\yz685\\AppData\\Roaming\\Python\\Python37\\site-packages\\lifelines\\fitters\\cox_time_varying_fitter.py:491: ConvergenceWarning: Newton-Raphson convergence completed but norm(delta) is still high, 0.269. This may imply non-unique solutions to the maximum likelihood. Perhaps there is colinearity or complete separation in the dataset?\n",
      "  ConvergenceWarning,\n"
     ]
    },
    {
     "name": "stdout",
     "output_type": "stream",
     "text": [
      "batch 16, cox coeff=-3.77, p=0.39, logit coeff=-5.17, p=0.23; logit campus_pos coeff=-0.00, p=0.45; \n"
     ]
    },
    {
     "name": "stderr",
     "output_type": "stream",
     "text": [
      "C:\\Users\\yz685\\AppData\\Roaming\\Python\\Python37\\site-packages\\lifelines\\utils\\__init__.py:1122: ConvergenceWarning: Column academic_career_GM have very low variance when conditioned on death event present or not. This may harm convergence. This could be a form of 'complete separation'. For example, try the following code:\n",
      "\n",
      ">>> events = df['infected_on_this_day'].astype(bool)\n",
      ">>> print(df.loc[events, 'academic_career_GM'].var())\n",
      ">>> print(df.loc[~events, 'academic_career_GM'].var())\n",
      "\n",
      "A very low variance means that the column academic_career_GM completely determines whether a subject dies or not. See https://stats.stackexchange.com/questions/11109/how-to-deal-with-perfect-separation-in-logistic-regression.\n",
      "\n",
      "  warnings.warn(dedent(warning_text), ConvergenceWarning)\n",
      "C:\\Users\\yz685\\AppData\\Roaming\\Python\\Python37\\site-packages\\lifelines\\fitters\\cox_time_varying_fitter.py:491: ConvergenceWarning: Newton-Raphson convergence completed but norm(delta) is still high, 0.268. This may imply non-unique solutions to the maximum likelihood. Perhaps there is colinearity or complete separation in the dataset?\n",
      "  ConvergenceWarning,\n"
     ]
    },
    {
     "name": "stdout",
     "output_type": "stream",
     "text": [
      "batch 17, cox coeff=-6.11, p=0.15, logit coeff=-6.36, p=0.18; logit campus_pos coeff=-0.01, p=0.14; \n"
     ]
    },
    {
     "name": "stderr",
     "output_type": "stream",
     "text": [
      "C:\\Users\\yz685\\AppData\\Roaming\\Python\\Python37\\site-packages\\lifelines\\utils\\__init__.py:1122: ConvergenceWarning: Column academic_career_LA have very low variance when conditioned on death event present or not. This may harm convergence. This could be a form of 'complete separation'. For example, try the following code:\n",
      "\n",
      ">>> events = df['infected_on_this_day'].astype(bool)\n",
      ">>> print(df.loc[events, 'academic_career_LA'].var())\n",
      ">>> print(df.loc[~events, 'academic_career_LA'].var())\n",
      "\n",
      "A very low variance means that the column academic_career_LA completely determines whether a subject dies or not. See https://stats.stackexchange.com/questions/11109/how-to-deal-with-perfect-separation-in-logistic-regression.\n",
      "\n",
      "  warnings.warn(dedent(warning_text), ConvergenceWarning)\n",
      "C:\\Users\\yz685\\AppData\\Roaming\\Python\\Python37\\site-packages\\lifelines\\fitters\\cox_time_varying_fitter.py:491: ConvergenceWarning: Newton-Raphson convergence completed but norm(delta) is still high, 0.331. This may imply non-unique solutions to the maximum likelihood. Perhaps there is colinearity or complete separation in the dataset?\n",
      "  ConvergenceWarning,\n"
     ]
    },
    {
     "name": "stdout",
     "output_type": "stream",
     "text": [
      "batch 18, cox coeff=2.01, p=0.52, logit coeff=0.59, p=0.84; logit campus_pos coeff=-0.00, p=0.19; \n"
     ]
    },
    {
     "name": "stderr",
     "output_type": "stream",
     "text": [
      "C:\\Users\\yz685\\AppData\\Roaming\\Python\\Python37\\site-packages\\lifelines\\utils\\__init__.py:1122: ConvergenceWarning: Column academic_career_GM have very low variance when conditioned on death event present or not. This may harm convergence. This could be a form of 'complete separation'. For example, try the following code:\n",
      "\n",
      ">>> events = df['infected_on_this_day'].astype(bool)\n",
      ">>> print(df.loc[events, 'academic_career_GM'].var())\n",
      ">>> print(df.loc[~events, 'academic_career_GM'].var())\n",
      "\n",
      "A very low variance means that the column academic_career_GM completely determines whether a subject dies or not. See https://stats.stackexchange.com/questions/11109/how-to-deal-with-perfect-separation-in-logistic-regression.\n",
      "\n",
      "  warnings.warn(dedent(warning_text), ConvergenceWarning)\n",
      "C:\\Users\\yz685\\AppData\\Roaming\\Python\\Python37\\site-packages\\lifelines\\fitters\\cox_time_varying_fitter.py:491: ConvergenceWarning: Newton-Raphson convergence completed but norm(delta) is still high, 0.173. This may imply non-unique solutions to the maximum likelihood. Perhaps there is colinearity or complete separation in the dataset?\n",
      "  ConvergenceWarning,\n"
     ]
    },
    {
     "name": "stdout",
     "output_type": "stream",
     "text": [
      "batch 19, cox coeff=0.76, p=0.80, logit coeff=0.79, p=0.79; logit campus_pos coeff=-0.00, p=0.54; \n"
     ]
    },
    {
     "name": "stderr",
     "output_type": "stream",
     "text": [
      "C:\\Users\\yz685\\AppData\\Roaming\\Python\\Python37\\site-packages\\lifelines\\utils\\__init__.py:1122: ConvergenceWarning: Column academic_career_UG_A have very low variance when conditioned on death event present or not. This may harm convergence. This could be a form of 'complete separation'. For example, try the following code:\n",
      "\n",
      ">>> events = df['infected_on_this_day'].astype(bool)\n",
      ">>> print(df.loc[events, 'academic_career_UG_A'].var())\n",
      ">>> print(df.loc[~events, 'academic_career_UG_A'].var())\n",
      "\n",
      "A very low variance means that the column academic_career_UG_A completely determines whether a subject dies or not. See https://stats.stackexchange.com/questions/11109/how-to-deal-with-perfect-separation-in-logistic-regression.\n",
      "\n",
      "  warnings.warn(dedent(warning_text), ConvergenceWarning)\n",
      "C:\\Users\\yz685\\AppData\\Roaming\\Python\\Python37\\site-packages\\lifelines\\fitters\\cox_time_varying_fitter.py:491: ConvergenceWarning: Newton-Raphson convergence completed but norm(delta) is still high, 0.208. This may imply non-unique solutions to the maximum likelihood. Perhaps there is colinearity or complete separation in the dataset?\n",
      "  ConvergenceWarning,\n"
     ]
    },
    {
     "name": "stdout",
     "output_type": "stream",
     "text": [
      "batch 20, cox coeff=-6.47, p=0.09, logit coeff=-7.21, p=0.02; logit campus_pos coeff=-0.01, p=0.13; \n"
     ]
    },
    {
     "name": "stderr",
     "output_type": "stream",
     "text": [
      "C:\\Users\\yz685\\AppData\\Roaming\\Python\\Python37\\site-packages\\lifelines\\utils\\__init__.py:1122: ConvergenceWarning: Column academic_career_GM have very low variance when conditioned on death event present or not. This may harm convergence. This could be a form of 'complete separation'. For example, try the following code:\n",
      "\n",
      ">>> events = df['infected_on_this_day'].astype(bool)\n",
      ">>> print(df.loc[events, 'academic_career_GM'].var())\n",
      ">>> print(df.loc[~events, 'academic_career_GM'].var())\n",
      "\n",
      "A very low variance means that the column academic_career_GM completely determines whether a subject dies or not. See https://stats.stackexchange.com/questions/11109/how-to-deal-with-perfect-separation-in-logistic-regression.\n",
      "\n",
      "  warnings.warn(dedent(warning_text), ConvergenceWarning)\n",
      "C:\\Users\\yz685\\AppData\\Roaming\\Python\\Python37\\site-packages\\lifelines\\fitters\\cox_time_varying_fitter.py:491: ConvergenceWarning: Newton-Raphson convergence completed but norm(delta) is still high, 0.243. This may imply non-unique solutions to the maximum likelihood. Perhaps there is colinearity or complete separation in the dataset?\n",
      "  ConvergenceWarning,\n"
     ]
    },
    {
     "name": "stdout",
     "output_type": "stream",
     "text": [
      "batch 21, cox coeff=-1.22, p=0.68, logit coeff=-1.14, p=0.63; logit campus_pos coeff=-0.01, p=0.08; \n"
     ]
    },
    {
     "name": "stderr",
     "output_type": "stream",
     "text": [
      "C:\\Users\\yz685\\AppData\\Roaming\\Python\\Python37\\site-packages\\lifelines\\utils\\__init__.py:1122: ConvergenceWarning: Column academic_career_VM have very low variance when conditioned on death event present or not. This may harm convergence. This could be a form of 'complete separation'. For example, try the following code:\n",
      "\n",
      ">>> events = df['infected_on_this_day'].astype(bool)\n",
      ">>> print(df.loc[events, 'academic_career_VM'].var())\n",
      ">>> print(df.loc[~events, 'academic_career_VM'].var())\n",
      "\n",
      "A very low variance means that the column academic_career_VM completely determines whether a subject dies or not. See https://stats.stackexchange.com/questions/11109/how-to-deal-with-perfect-separation-in-logistic-regression.\n",
      "\n",
      "  warnings.warn(dedent(warning_text), ConvergenceWarning)\n",
      "C:\\Users\\yz685\\AppData\\Roaming\\Python\\Python37\\site-packages\\lifelines\\fitters\\cox_time_varying_fitter.py:491: ConvergenceWarning: Newton-Raphson convergence completed but norm(delta) is still high, 0.171. This may imply non-unique solutions to the maximum likelihood. Perhaps there is colinearity or complete separation in the dataset?\n",
      "  ConvergenceWarning,\n"
     ]
    },
    {
     "name": "stdout",
     "output_type": "stream",
     "text": [
      "batch 22, cox coeff=2.89, p=0.39, logit coeff=2.57, p=0.41; logit campus_pos coeff=-0.02, p=0.00; \n"
     ]
    },
    {
     "name": "stderr",
     "output_type": "stream",
     "text": [
      "C:\\Users\\yz685\\AppData\\Roaming\\Python\\Python37\\site-packages\\lifelines\\utils\\__init__.py:1122: ConvergenceWarning: Column academic_career_VM have very low variance when conditioned on death event present or not. This may harm convergence. This could be a form of 'complete separation'. For example, try the following code:\n",
      "\n",
      ">>> events = df['infected_on_this_day'].astype(bool)\n",
      ">>> print(df.loc[events, 'academic_career_VM'].var())\n",
      ">>> print(df.loc[~events, 'academic_career_VM'].var())\n",
      "\n",
      "A very low variance means that the column academic_career_VM completely determines whether a subject dies or not. See https://stats.stackexchange.com/questions/11109/how-to-deal-with-perfect-separation-in-logistic-regression.\n",
      "\n",
      "  warnings.warn(dedent(warning_text), ConvergenceWarning)\n",
      "C:\\Users\\yz685\\AppData\\Roaming\\Python\\Python37\\site-packages\\lifelines\\fitters\\cox_time_varying_fitter.py:491: ConvergenceWarning: Newton-Raphson convergence completed but norm(delta) is still high, 0.164. This may imply non-unique solutions to the maximum likelihood. Perhaps there is colinearity or complete separation in the dataset?\n",
      "  ConvergenceWarning,\n"
     ]
    },
    {
     "name": "stdout",
     "output_type": "stream",
     "text": [
      "batch 23, cox coeff=-1.94, p=0.56, logit coeff=-3.12, p=0.40; logit campus_pos coeff=-0.00, p=0.40; \n"
     ]
    },
    {
     "name": "stderr",
     "output_type": "stream",
     "text": [
      "C:\\Users\\yz685\\AppData\\Roaming\\Python\\Python37\\site-packages\\lifelines\\utils\\__init__.py:1122: ConvergenceWarning: Column academic_career_GR have very low variance when conditioned on death event present or not. This may harm convergence. This could be a form of 'complete separation'. For example, try the following code:\n",
      "\n",
      ">>> events = df['infected_on_this_day'].astype(bool)\n",
      ">>> print(df.loc[events, 'academic_career_GR'].var())\n",
      ">>> print(df.loc[~events, 'academic_career_GR'].var())\n",
      "\n",
      "A very low variance means that the column academic_career_GR completely determines whether a subject dies or not. See https://stats.stackexchange.com/questions/11109/how-to-deal-with-perfect-separation-in-logistic-regression.\n",
      "\n",
      "  warnings.warn(dedent(warning_text), ConvergenceWarning)\n",
      "C:\\Users\\yz685\\AppData\\Roaming\\Python\\Python37\\site-packages\\lifelines\\fitters\\cox_time_varying_fitter.py:491: ConvergenceWarning: Newton-Raphson convergence completed but norm(delta) is still high, 0.369. This may imply non-unique solutions to the maximum likelihood. Perhaps there is colinearity or complete separation in the dataset?\n",
      "  ConvergenceWarning,\n"
     ]
    },
    {
     "name": "stdout",
     "output_type": "stream",
     "text": [
      "batch 24, cox coeff=-2.23, p=0.50, logit coeff=-2.31, p=0.48; logit campus_pos coeff=-0.00, p=0.69; \n",
      "batch 25, cox coeff=-0.05, p=0.99, logit coeff=-1.15, p=0.67; logit campus_pos coeff=-0.00, p=0.52; \n"
     ]
    },
    {
     "name": "stderr",
     "output_type": "stream",
     "text": [
      "C:\\Users\\yz685\\AppData\\Roaming\\Python\\Python37\\site-packages\\lifelines\\utils\\__init__.py:1122: ConvergenceWarning: Column academic_career_GM have very low variance when conditioned on death event present or not. This may harm convergence. This could be a form of 'complete separation'. For example, try the following code:\n",
      "\n",
      ">>> events = df['infected_on_this_day'].astype(bool)\n",
      ">>> print(df.loc[events, 'academic_career_GM'].var())\n",
      ">>> print(df.loc[~events, 'academic_career_GM'].var())\n",
      "\n",
      "A very low variance means that the column academic_career_GM completely determines whether a subject dies or not. See https://stats.stackexchange.com/questions/11109/how-to-deal-with-perfect-separation-in-logistic-regression.\n",
      "\n",
      "  warnings.warn(dedent(warning_text), ConvergenceWarning)\n",
      "C:\\Users\\yz685\\AppData\\Roaming\\Python\\Python37\\site-packages\\lifelines\\fitters\\cox_time_varying_fitter.py:491: ConvergenceWarning: Newton-Raphson convergence completed but norm(delta) is still high, 0.351. This may imply non-unique solutions to the maximum likelihood. Perhaps there is colinearity or complete separation in the dataset?\n",
      "  ConvergenceWarning,\n"
     ]
    },
    {
     "name": "stdout",
     "output_type": "stream",
     "text": [
      "batch 26, cox coeff=4.32, p=0.14, logit coeff=4.61, p=0.16; logit campus_pos coeff=-0.00, p=0.66; \n",
      "batch 27, cox coeff=1.71, p=0.58, logit coeff=-0.28, p=0.91; logit campus_pos coeff=-0.01, p=0.02; \n"
     ]
    },
    {
     "name": "stderr",
     "output_type": "stream",
     "text": [
      "C:\\Users\\yz685\\AppData\\Roaming\\Python\\Python37\\site-packages\\lifelines\\utils\\__init__.py:1122: ConvergenceWarning: Column academic_career_UG_A have very low variance when conditioned on death event present or not. This may harm convergence. This could be a form of 'complete separation'. For example, try the following code:\n",
      "\n",
      ">>> events = df['infected_on_this_day'].astype(bool)\n",
      ">>> print(df.loc[events, 'academic_career_UG_A'].var())\n",
      ">>> print(df.loc[~events, 'academic_career_UG_A'].var())\n",
      "\n",
      "A very low variance means that the column academic_career_UG_A completely determines whether a subject dies or not. See https://stats.stackexchange.com/questions/11109/how-to-deal-with-perfect-separation-in-logistic-regression.\n",
      "\n",
      "  warnings.warn(dedent(warning_text), ConvergenceWarning)\n",
      "C:\\Users\\yz685\\AppData\\Roaming\\Python\\Python37\\site-packages\\lifelines\\fitters\\cox_time_varying_fitter.py:491: ConvergenceWarning: Newton-Raphson convergence completed but norm(delta) is still high, 0.208. This may imply non-unique solutions to the maximum likelihood. Perhaps there is colinearity or complete separation in the dataset?\n",
      "  ConvergenceWarning,\n"
     ]
    },
    {
     "name": "stdout",
     "output_type": "stream",
     "text": [
      "batch 28, cox coeff=6.15, p=0.01, logit coeff=4.50, p=0.05; logit campus_pos coeff=-0.01, p=0.01; \n",
      "batch 29, cox coeff=0.02, p=0.99, logit coeff=-0.93, p=0.72; logit campus_pos coeff=0.00, p=0.96; \n"
     ]
    },
    {
     "name": "stderr",
     "output_type": "stream",
     "text": [
      "C:\\Users\\yz685\\AppData\\Roaming\\Python\\Python37\\site-packages\\lifelines\\utils\\__init__.py:1122: ConvergenceWarning: Column academic_career_GM have very low variance when conditioned on death event present or not. This may harm convergence. This could be a form of 'complete separation'. For example, try the following code:\n",
      "\n",
      ">>> events = df['infected_on_this_day'].astype(bool)\n",
      ">>> print(df.loc[events, 'academic_career_GM'].var())\n",
      ">>> print(df.loc[~events, 'academic_career_GM'].var())\n",
      "\n",
      "A very low variance means that the column academic_career_GM completely determines whether a subject dies or not. See https://stats.stackexchange.com/questions/11109/how-to-deal-with-perfect-separation-in-logistic-regression.\n",
      "\n",
      "  warnings.warn(dedent(warning_text), ConvergenceWarning)\n",
      "C:\\Users\\yz685\\AppData\\Roaming\\Python\\Python37\\site-packages\\lifelines\\fitters\\cox_time_varying_fitter.py:491: ConvergenceWarning: Newton-Raphson convergence completed but norm(delta) is still high, 0.173. This may imply non-unique solutions to the maximum likelihood. Perhaps there is colinearity or complete separation in the dataset?\n",
      "  ConvergenceWarning,\n"
     ]
    },
    {
     "name": "stdout",
     "output_type": "stream",
     "text": [
      "batch 30, cox coeff=1.61, p=0.56, logit coeff=-0.45, p=0.86; logit campus_pos coeff=0.00, p=0.84; \n"
     ]
    },
    {
     "name": "stderr",
     "output_type": "stream",
     "text": [
      "C:\\Users\\yz685\\AppData\\Roaming\\Python\\Python37\\site-packages\\lifelines\\utils\\__init__.py:1122: ConvergenceWarning: Column academic_career_GR have very low variance when conditioned on death event present or not. This may harm convergence. This could be a form of 'complete separation'. For example, try the following code:\n",
      "\n",
      ">>> events = df['infected_on_this_day'].astype(bool)\n",
      ">>> print(df.loc[events, 'academic_career_GR'].var())\n",
      ">>> print(df.loc[~events, 'academic_career_GR'].var())\n",
      "\n",
      "A very low variance means that the column academic_career_GR completely determines whether a subject dies or not. See https://stats.stackexchange.com/questions/11109/how-to-deal-with-perfect-separation-in-logistic-regression.\n",
      "\n",
      "  warnings.warn(dedent(warning_text), ConvergenceWarning)\n",
      "C:\\Users\\yz685\\AppData\\Roaming\\Python\\Python37\\site-packages\\lifelines\\fitters\\cox_time_varying_fitter.py:491: ConvergenceWarning: Newton-Raphson convergence completed but norm(delta) is still high, 0.308. This may imply non-unique solutions to the maximum likelihood. Perhaps there is colinearity or complete separation in the dataset?\n",
      "  ConvergenceWarning,\n"
     ]
    },
    {
     "name": "stdout",
     "output_type": "stream",
     "text": [
      "batch 31, cox coeff=-4.42, p=0.23, logit coeff=-4.62, p=0.24; logit campus_pos coeff=0.00, p=0.46; \n"
     ]
    },
    {
     "name": "stderr",
     "output_type": "stream",
     "text": [
      "C:\\Users\\yz685\\AppData\\Roaming\\Python\\Python37\\site-packages\\lifelines\\utils\\__init__.py:1122: ConvergenceWarning: Column academic_career_GM have very low variance when conditioned on death event present or not. This may harm convergence. This could be a form of 'complete separation'. For example, try the following code:\n",
      "\n",
      ">>> events = df['infected_on_this_day'].astype(bool)\n",
      ">>> print(df.loc[events, 'academic_career_GM'].var())\n",
      ">>> print(df.loc[~events, 'academic_career_GM'].var())\n",
      "\n",
      "A very low variance means that the column academic_career_GM completely determines whether a subject dies or not. See https://stats.stackexchange.com/questions/11109/how-to-deal-with-perfect-separation-in-logistic-regression.\n",
      "\n",
      "  warnings.warn(dedent(warning_text), ConvergenceWarning)\n",
      "C:\\Users\\yz685\\AppData\\Roaming\\Python\\Python37\\site-packages\\lifelines\\fitters\\cox_time_varying_fitter.py:491: ConvergenceWarning: Newton-Raphson convergence completed but norm(delta) is still high, 0.372. This may imply non-unique solutions to the maximum likelihood. Perhaps there is colinearity or complete separation in the dataset?\n",
      "  ConvergenceWarning,\n"
     ]
    },
    {
     "name": "stdout",
     "output_type": "stream",
     "text": [
      "batch 32, cox coeff=4.14, p=0.15, logit coeff=3.28, p=0.25; logit campus_pos coeff=-0.01, p=0.00; \n"
     ]
    },
    {
     "name": "stderr",
     "output_type": "stream",
     "text": [
      "C:\\Users\\yz685\\AppData\\Roaming\\Python\\Python37\\site-packages\\lifelines\\utils\\__init__.py:1122: ConvergenceWarning: Column academic_career_LA have very low variance when conditioned on death event present or not. This may harm convergence. This could be a form of 'complete separation'. For example, try the following code:\n",
      "\n",
      ">>> events = df['infected_on_this_day'].astype(bool)\n",
      ">>> print(df.loc[events, 'academic_career_LA'].var())\n",
      ">>> print(df.loc[~events, 'academic_career_LA'].var())\n",
      "\n",
      "A very low variance means that the column academic_career_LA completely determines whether a subject dies or not. See https://stats.stackexchange.com/questions/11109/how-to-deal-with-perfect-separation-in-logistic-regression.\n",
      "\n",
      "  warnings.warn(dedent(warning_text), ConvergenceWarning)\n",
      "C:\\Users\\yz685\\AppData\\Roaming\\Python\\Python37\\site-packages\\lifelines\\fitters\\cox_time_varying_fitter.py:491: ConvergenceWarning: Newton-Raphson convergence completed but norm(delta) is still high, 0.261. This may imply non-unique solutions to the maximum likelihood. Perhaps there is colinearity or complete separation in the dataset?\n",
      "  ConvergenceWarning,\n"
     ]
    },
    {
     "name": "stdout",
     "output_type": "stream",
     "text": [
      "batch 33, cox coeff=2.14, p=0.41, logit coeff=1.78, p=0.47; logit campus_pos coeff=-0.02, p=0.00; \n",
      "batch 34, cox coeff=-3.47, p=0.33, logit coeff=-4.22, p=0.27; logit campus_pos coeff=-0.01, p=0.05; \n"
     ]
    },
    {
     "name": "stderr",
     "output_type": "stream",
     "text": [
      "C:\\Users\\yz685\\AppData\\Roaming\\Python\\Python37\\site-packages\\lifelines\\utils\\__init__.py:1122: ConvergenceWarning: Column academic_career_VM have very low variance when conditioned on death event present or not. This may harm convergence. This could be a form of 'complete separation'. For example, try the following code:\n",
      "\n",
      ">>> events = df['infected_on_this_day'].astype(bool)\n",
      ">>> print(df.loc[events, 'academic_career_VM'].var())\n",
      ">>> print(df.loc[~events, 'academic_career_VM'].var())\n",
      "\n",
      "A very low variance means that the column academic_career_VM completely determines whether a subject dies or not. See https://stats.stackexchange.com/questions/11109/how-to-deal-with-perfect-separation-in-logistic-regression.\n",
      "\n",
      "  warnings.warn(dedent(warning_text), ConvergenceWarning)\n",
      "C:\\Users\\yz685\\AppData\\Roaming\\Python\\Python37\\site-packages\\lifelines\\fitters\\cox_time_varying_fitter.py:491: ConvergenceWarning: Newton-Raphson convergence completed but norm(delta) is still high, 0.171. This may imply non-unique solutions to the maximum likelihood. Perhaps there is colinearity or complete separation in the dataset?\n",
      "  ConvergenceWarning,\n"
     ]
    },
    {
     "name": "stdout",
     "output_type": "stream",
     "text": [
      "batch 35, cox coeff=-1.42, p=0.62, logit coeff=-1.22, p=0.68; logit campus_pos coeff=-0.00, p=0.38; \n"
     ]
    },
    {
     "name": "stderr",
     "output_type": "stream",
     "text": [
      "C:\\Users\\yz685\\AppData\\Roaming\\Python\\Python37\\site-packages\\lifelines\\utils\\__init__.py:1122: ConvergenceWarning: Column academic_career_VM have very low variance when conditioned on death event present or not. This may harm convergence. This could be a form of 'complete separation'. For example, try the following code:\n",
      "\n",
      ">>> events = df['infected_on_this_day'].astype(bool)\n",
      ">>> print(df.loc[events, 'academic_career_VM'].var())\n",
      ">>> print(df.loc[~events, 'academic_career_VM'].var())\n",
      "\n",
      "A very low variance means that the column academic_career_VM completely determines whether a subject dies or not. See https://stats.stackexchange.com/questions/11109/how-to-deal-with-perfect-separation-in-logistic-regression.\n",
      "\n",
      "  warnings.warn(dedent(warning_text), ConvergenceWarning)\n",
      "C:\\Users\\yz685\\AppData\\Roaming\\Python\\Python37\\site-packages\\lifelines\\fitters\\cox_time_varying_fitter.py:491: ConvergenceWarning: Newton-Raphson convergence completed but norm(delta) is still high, 0.164. This may imply non-unique solutions to the maximum likelihood. Perhaps there is colinearity or complete separation in the dataset?\n",
      "  ConvergenceWarning,\n"
     ]
    },
    {
     "name": "stdout",
     "output_type": "stream",
     "text": [
      "batch 36, cox coeff=-1.61, p=0.67, logit coeff=-2.66, p=0.43; logit campus_pos coeff=-0.00, p=0.97; \n"
     ]
    },
    {
     "name": "stderr",
     "output_type": "stream",
     "text": [
      "C:\\Users\\yz685\\AppData\\Roaming\\Python\\Python37\\site-packages\\lifelines\\utils\\__init__.py:1122: ConvergenceWarning: Column academic_career_GM have very low variance when conditioned on death event present or not. This may harm convergence. This could be a form of 'complete separation'. For example, try the following code:\n",
      "\n",
      ">>> events = df['infected_on_this_day'].astype(bool)\n",
      ">>> print(df.loc[events, 'academic_career_GM'].var())\n",
      ">>> print(df.loc[~events, 'academic_career_GM'].var())\n",
      "\n",
      "A very low variance means that the column academic_career_GM completely determines whether a subject dies or not. See https://stats.stackexchange.com/questions/11109/how-to-deal-with-perfect-separation-in-logistic-regression.\n",
      "\n",
      "  warnings.warn(dedent(warning_text), ConvergenceWarning)\n",
      "C:\\Users\\yz685\\AppData\\Roaming\\Python\\Python37\\site-packages\\lifelines\\fitters\\cox_time_varying_fitter.py:491: ConvergenceWarning: Newton-Raphson convergence completed but norm(delta) is still high, 0.309. This may imply non-unique solutions to the maximum likelihood. Perhaps there is colinearity or complete separation in the dataset?\n",
      "  ConvergenceWarning,\n"
     ]
    },
    {
     "name": "stdout",
     "output_type": "stream",
     "text": [
      "batch 37, cox coeff=-3.17, p=0.41, logit coeff=-4.09, p=0.26; logit campus_pos coeff=-0.00, p=0.28; \n"
     ]
    },
    {
     "name": "stderr",
     "output_type": "stream",
     "text": [
      "C:\\Users\\yz685\\AppData\\Roaming\\Python\\Python37\\site-packages\\lifelines\\utils\\__init__.py:1122: ConvergenceWarning: Column academic_career_GM have very low variance when conditioned on death event present or not. This may harm convergence. This could be a form of 'complete separation'. For example, try the following code:\n",
      "\n",
      ">>> events = df['infected_on_this_day'].astype(bool)\n",
      ">>> print(df.loc[events, 'academic_career_GM'].var())\n",
      ">>> print(df.loc[~events, 'academic_career_GM'].var())\n",
      "\n",
      "A very low variance means that the column academic_career_GM completely determines whether a subject dies or not. See https://stats.stackexchange.com/questions/11109/how-to-deal-with-perfect-separation-in-logistic-regression.\n",
      "\n",
      "  warnings.warn(dedent(warning_text), ConvergenceWarning)\n",
      "C:\\Users\\yz685\\AppData\\Roaming\\Python\\Python37\\site-packages\\lifelines\\fitters\\cox_time_varying_fitter.py:491: ConvergenceWarning: Newton-Raphson convergence completed but norm(delta) is still high, 0.270. This may imply non-unique solutions to the maximum likelihood. Perhaps there is colinearity or complete separation in the dataset?\n",
      "  ConvergenceWarning,\n"
     ]
    },
    {
     "name": "stdout",
     "output_type": "stream",
     "text": [
      "batch 38, cox coeff=4.06, p=0.22, logit coeff=3.14, p=0.38; logit campus_pos coeff=-0.01, p=0.07; \n"
     ]
    },
    {
     "name": "stderr",
     "output_type": "stream",
     "text": [
      "C:\\Users\\yz685\\AppData\\Roaming\\Python\\Python37\\site-packages\\lifelines\\utils\\__init__.py:1122: ConvergenceWarning: Column academic_career_UG_A have very low variance when conditioned on death event present or not. This may harm convergence. This could be a form of 'complete separation'. For example, try the following code:\n",
      "\n",
      ">>> events = df['infected_on_this_day'].astype(bool)\n",
      ">>> print(df.loc[events, 'academic_career_UG_A'].var())\n",
      ">>> print(df.loc[~events, 'academic_career_UG_A'].var())\n",
      "\n",
      "A very low variance means that the column academic_career_UG_A completely determines whether a subject dies or not. See https://stats.stackexchange.com/questions/11109/how-to-deal-with-perfect-separation-in-logistic-regression.\n",
      "\n",
      "  warnings.warn(dedent(warning_text), ConvergenceWarning)\n",
      "C:\\Users\\yz685\\AppData\\Roaming\\Python\\Python37\\site-packages\\lifelines\\fitters\\cox_time_varying_fitter.py:491: ConvergenceWarning: Newton-Raphson convergence completed but norm(delta) is still high, 0.208. This may imply non-unique solutions to the maximum likelihood. Perhaps there is colinearity or complete separation in the dataset?\n",
      "  ConvergenceWarning,\n"
     ]
    },
    {
     "name": "stdout",
     "output_type": "stream",
     "text": [
      "batch 39, cox coeff=0.30, p=0.93, logit coeff=-2.18, p=0.42; logit campus_pos coeff=-0.00, p=0.40; \n"
     ]
    },
    {
     "name": "stderr",
     "output_type": "stream",
     "text": [
      "C:\\Users\\yz685\\AppData\\Roaming\\Python\\Python37\\site-packages\\lifelines\\utils\\__init__.py:1122: ConvergenceWarning: Column academic_career_GM have very low variance when conditioned on death event present or not. This may harm convergence. This could be a form of 'complete separation'. For example, try the following code:\n",
      "\n",
      ">>> events = df['infected_on_this_day'].astype(bool)\n",
      ">>> print(df.loc[events, 'academic_career_GM'].var())\n",
      ">>> print(df.loc[~events, 'academic_career_GM'].var())\n",
      "\n",
      "A very low variance means that the column academic_career_GM completely determines whether a subject dies or not. See https://stats.stackexchange.com/questions/11109/how-to-deal-with-perfect-separation-in-logistic-regression.\n",
      "\n",
      "  warnings.warn(dedent(warning_text), ConvergenceWarning)\n",
      "C:\\Users\\yz685\\AppData\\Roaming\\Python\\Python37\\site-packages\\lifelines\\fitters\\cox_time_varying_fitter.py:491: ConvergenceWarning: Newton-Raphson convergence completed but norm(delta) is still high, 0.270. This may imply non-unique solutions to the maximum likelihood. Perhaps there is colinearity or complete separation in the dataset?\n",
      "  ConvergenceWarning,\n"
     ]
    },
    {
     "name": "stdout",
     "output_type": "stream",
     "text": [
      "batch 40, cox coeff=-2.67, p=0.41, logit coeff=-2.85, p=0.42; logit campus_pos coeff=0.01, p=0.02; \n"
     ]
    },
    {
     "name": "stderr",
     "output_type": "stream",
     "text": [
      "C:\\Users\\yz685\\AppData\\Roaming\\Python\\Python37\\site-packages\\lifelines\\utils\\__init__.py:1122: ConvergenceWarning: Column academic_career_VM have very low variance when conditioned on death event present or not. This may harm convergence. This could be a form of 'complete separation'. For example, try the following code:\n",
      "\n",
      ">>> events = df['infected_on_this_day'].astype(bool)\n",
      ">>> print(df.loc[events, 'academic_career_VM'].var())\n",
      ">>> print(df.loc[~events, 'academic_career_VM'].var())\n",
      "\n",
      "A very low variance means that the column academic_career_VM completely determines whether a subject dies or not. See https://stats.stackexchange.com/questions/11109/how-to-deal-with-perfect-separation-in-logistic-regression.\n",
      "\n",
      "  warnings.warn(dedent(warning_text), ConvergenceWarning)\n",
      "C:\\Users\\yz685\\AppData\\Roaming\\Python\\Python37\\site-packages\\lifelines\\fitters\\cox_time_varying_fitter.py:491: ConvergenceWarning: Newton-Raphson convergence completed but norm(delta) is still high, 0.164. This may imply non-unique solutions to the maximum likelihood. Perhaps there is colinearity or complete separation in the dataset?\n",
      "  ConvergenceWarning,\n"
     ]
    },
    {
     "name": "stdout",
     "output_type": "stream",
     "text": [
      "batch 41, cox coeff=-1.59, p=0.68, logit coeff=-2.40, p=0.54; logit campus_pos coeff=-0.01, p=0.28; \n"
     ]
    },
    {
     "name": "stderr",
     "output_type": "stream",
     "text": [
      "C:\\Users\\yz685\\AppData\\Roaming\\Python\\Python37\\site-packages\\lifelines\\utils\\__init__.py:1122: ConvergenceWarning: Column academic_career_GM have very low variance when conditioned on death event present or not. This may harm convergence. This could be a form of 'complete separation'. For example, try the following code:\n",
      "\n",
      ">>> events = df['infected_on_this_day'].astype(bool)\n",
      ">>> print(df.loc[events, 'academic_career_GM'].var())\n",
      ">>> print(df.loc[~events, 'academic_career_GM'].var())\n",
      "\n",
      "A very low variance means that the column academic_career_GM completely determines whether a subject dies or not. See https://stats.stackexchange.com/questions/11109/how-to-deal-with-perfect-separation-in-logistic-regression.\n",
      "\n",
      "  warnings.warn(dedent(warning_text), ConvergenceWarning)\n",
      "C:\\Users\\yz685\\AppData\\Roaming\\Python\\Python37\\site-packages\\lifelines\\fitters\\cox_time_varying_fitter.py:491: ConvergenceWarning: Newton-Raphson convergence completed but norm(delta) is still high, 0.352. This may imply non-unique solutions to the maximum likelihood. Perhaps there is colinearity or complete separation in the dataset?\n",
      "  ConvergenceWarning,\n"
     ]
    },
    {
     "name": "stdout",
     "output_type": "stream",
     "text": [
      "batch 42, cox coeff=-5.04, p=0.19, logit coeff=-5.19, p=0.15; logit campus_pos coeff=-0.01, p=0.07; \n",
      "batch 43, cox coeff=1.48, p=0.63, logit coeff=1.54, p=0.63; logit campus_pos coeff=-0.00, p=0.84; \n"
     ]
    },
    {
     "name": "stderr",
     "output_type": "stream",
     "text": [
      "C:\\Users\\yz685\\AppData\\Roaming\\Python\\Python37\\site-packages\\lifelines\\utils\\__init__.py:1122: ConvergenceWarning: Column academic_career_LA have very low variance when conditioned on death event present or not. This may harm convergence. This could be a form of 'complete separation'. For example, try the following code:\n",
      "\n",
      ">>> events = df['infected_on_this_day'].astype(bool)\n",
      ">>> print(df.loc[events, 'academic_career_LA'].var())\n",
      ">>> print(df.loc[~events, 'academic_career_LA'].var())\n",
      "\n",
      "A very low variance means that the column academic_career_LA completely determines whether a subject dies or not. See https://stats.stackexchange.com/questions/11109/how-to-deal-with-perfect-separation-in-logistic-regression.\n",
      "\n",
      "  warnings.warn(dedent(warning_text), ConvergenceWarning)\n",
      "C:\\Users\\yz685\\AppData\\Roaming\\Python\\Python37\\site-packages\\lifelines\\fitters\\cox_time_varying_fitter.py:491: ConvergenceWarning: Newton-Raphson convergence completed but norm(delta) is still high, 0.261. This may imply non-unique solutions to the maximum likelihood. Perhaps there is colinearity or complete separation in the dataset?\n",
      "  ConvergenceWarning,\n"
     ]
    },
    {
     "name": "stdout",
     "output_type": "stream",
     "text": [
      "batch 44, cox coeff=-1.98, p=0.59, logit coeff=-4.00, p=0.32; logit campus_pos coeff=-0.00, p=0.49; \n",
      "batch 45, cox coeff=5.20, p=0.05, logit coeff=5.10, p=0.01; logit campus_pos coeff=-0.00, p=0.24; \n"
     ]
    },
    {
     "name": "stderr",
     "output_type": "stream",
     "text": [
      "C:\\Users\\yz685\\AppData\\Roaming\\Python\\Python37\\site-packages\\lifelines\\utils\\__init__.py:1122: ConvergenceWarning: Column academic_career_GM have very low variance when conditioned on death event present or not. This may harm convergence. This could be a form of 'complete separation'. For example, try the following code:\n",
      "\n",
      ">>> events = df['infected_on_this_day'].astype(bool)\n",
      ">>> print(df.loc[events, 'academic_career_GM'].var())\n",
      ">>> print(df.loc[~events, 'academic_career_GM'].var())\n",
      "\n",
      "A very low variance means that the column academic_career_GM completely determines whether a subject dies or not. See https://stats.stackexchange.com/questions/11109/how-to-deal-with-perfect-separation-in-logistic-regression.\n",
      "\n",
      "  warnings.warn(dedent(warning_text), ConvergenceWarning)\n",
      "C:\\Users\\yz685\\AppData\\Roaming\\Python\\Python37\\site-packages\\lifelines\\fitters\\cox_time_varying_fitter.py:491: ConvergenceWarning: Newton-Raphson convergence completed but norm(delta) is still high, 0.243. This may imply non-unique solutions to the maximum likelihood. Perhaps there is colinearity or complete separation in the dataset?\n",
      "  ConvergenceWarning,\n"
     ]
    },
    {
     "name": "stdout",
     "output_type": "stream",
     "text": [
      "batch 46, cox coeff=2.39, p=0.37, logit coeff=1.30, p=0.65; logit campus_pos coeff=-0.01, p=0.13; \n"
     ]
    },
    {
     "name": "stderr",
     "output_type": "stream",
     "text": [
      "C:\\Users\\yz685\\AppData\\Roaming\\Python\\Python37\\site-packages\\lifelines\\utils\\__init__.py:1122: ConvergenceWarning: Column academic_career_UG_A have very low variance when conditioned on death event present or not. This may harm convergence. This could be a form of 'complete separation'. For example, try the following code:\n",
      "\n",
      ">>> events = df['infected_on_this_day'].astype(bool)\n",
      ">>> print(df.loc[events, 'academic_career_UG_A'].var())\n",
      ">>> print(df.loc[~events, 'academic_career_UG_A'].var())\n",
      "\n",
      "A very low variance means that the column academic_career_UG_A completely determines whether a subject dies or not. See https://stats.stackexchange.com/questions/11109/how-to-deal-with-perfect-separation-in-logistic-regression.\n",
      "\n",
      "  warnings.warn(dedent(warning_text), ConvergenceWarning)\n",
      "C:\\Users\\yz685\\AppData\\Roaming\\Python\\Python37\\site-packages\\lifelines\\fitters\\cox_time_varying_fitter.py:491: ConvergenceWarning: Newton-Raphson convergence completed but norm(delta) is still high, 0.264. This may imply non-unique solutions to the maximum likelihood. Perhaps there is colinearity or complete separation in the dataset?\n",
      "  ConvergenceWarning,\n"
     ]
    },
    {
     "name": "stdout",
     "output_type": "stream",
     "text": [
      "batch 47, cox coeff=-3.18, p=0.37, logit coeff=-4.06, p=0.29; logit campus_pos coeff=-0.00, p=0.74; \n"
     ]
    },
    {
     "name": "stderr",
     "output_type": "stream",
     "text": [
      "C:\\Users\\yz685\\AppData\\Roaming\\Python\\Python37\\site-packages\\lifelines\\utils\\__init__.py:1122: ConvergenceWarning: Column academic_career_GM have very low variance when conditioned on death event present or not. This may harm convergence. This could be a form of 'complete separation'. For example, try the following code:\n",
      "\n",
      ">>> events = df['infected_on_this_day'].astype(bool)\n",
      ">>> print(df.loc[events, 'academic_career_GM'].var())\n",
      ">>> print(df.loc[~events, 'academic_career_GM'].var())\n",
      "\n",
      "A very low variance means that the column academic_career_GM completely determines whether a subject dies or not. See https://stats.stackexchange.com/questions/11109/how-to-deal-with-perfect-separation-in-logistic-regression.\n",
      "\n",
      "  warnings.warn(dedent(warning_text), ConvergenceWarning)\n",
      "C:\\Users\\yz685\\AppData\\Roaming\\Python\\Python37\\site-packages\\lifelines\\fitters\\cox_time_varying_fitter.py:491: ConvergenceWarning: Newton-Raphson convergence completed but norm(delta) is still high, 0.243. This may imply non-unique solutions to the maximum likelihood. Perhaps there is colinearity or complete separation in the dataset?\n",
      "  ConvergenceWarning,\n"
     ]
    },
    {
     "name": "stdout",
     "output_type": "stream",
     "text": [
      "batch 48, cox coeff=1.30, p=0.68, logit coeff=0.49, p=0.89; logit campus_pos coeff=-0.01, p=0.06; \n"
     ]
    },
    {
     "name": "stderr",
     "output_type": "stream",
     "text": [
      "C:\\Users\\yz685\\AppData\\Roaming\\Python\\Python37\\site-packages\\lifelines\\utils\\__init__.py:1122: ConvergenceWarning: Column academic_career_GM have very low variance when conditioned on death event present or not. This may harm convergence. This could be a form of 'complete separation'. For example, try the following code:\n",
      "\n",
      ">>> events = df['infected_on_this_day'].astype(bool)\n",
      ">>> print(df.loc[events, 'academic_career_GM'].var())\n",
      ">>> print(df.loc[~events, 'academic_career_GM'].var())\n",
      "\n",
      "A very low variance means that the column academic_career_GM completely determines whether a subject dies or not. See https://stats.stackexchange.com/questions/11109/how-to-deal-with-perfect-separation-in-logistic-regression.\n",
      "\n",
      "  warnings.warn(dedent(warning_text), ConvergenceWarning)\n",
      "C:\\Users\\yz685\\AppData\\Roaming\\Python\\Python37\\site-packages\\lifelines\\fitters\\cox_time_varying_fitter.py:491: ConvergenceWarning: Newton-Raphson convergence completed but norm(delta) is still high, 0.270. This may imply non-unique solutions to the maximum likelihood. Perhaps there is colinearity or complete separation in the dataset?\n",
      "  ConvergenceWarning,\n"
     ]
    },
    {
     "name": "stdout",
     "output_type": "stream",
     "text": [
      "batch 49, cox coeff=2.56, p=0.38, logit coeff=1.50, p=0.59; logit campus_pos coeff=-0.00, p=0.44; \n",
      "shape value 1.0\n",
      "batch 0, cox coeff=1.85, p=0.13, logit coeff=1.99, p=0.07; logit campus_pos coeff=-0.00, p=0.42; \n"
     ]
    },
    {
     "name": "stderr",
     "output_type": "stream",
     "text": [
      "C:\\Users\\yz685\\AppData\\Roaming\\Python\\Python37\\site-packages\\lifelines\\utils\\__init__.py:1122: ConvergenceWarning: Column academic_career_VM have very low variance when conditioned on death event present or not. This may harm convergence. This could be a form of 'complete separation'. For example, try the following code:\n",
      "\n",
      ">>> events = df['infected_on_this_day'].astype(bool)\n",
      ">>> print(df.loc[events, 'academic_career_VM'].var())\n",
      ">>> print(df.loc[~events, 'academic_career_VM'].var())\n",
      "\n",
      "A very low variance means that the column academic_career_VM completely determines whether a subject dies or not. See https://stats.stackexchange.com/questions/11109/how-to-deal-with-perfect-separation-in-logistic-regression.\n",
      "\n",
      "  warnings.warn(dedent(warning_text), ConvergenceWarning)\n",
      "C:\\Users\\yz685\\AppData\\Roaming\\Python\\Python37\\site-packages\\lifelines\\fitters\\cox_time_varying_fitter.py:491: ConvergenceWarning: Newton-Raphson convergence completed but norm(delta) is still high, 0.168. This may imply non-unique solutions to the maximum likelihood. Perhaps there is colinearity or complete separation in the dataset?\n",
      "  ConvergenceWarning,\n"
     ]
    },
    {
     "name": "stdout",
     "output_type": "stream",
     "text": [
      "batch 1, cox coeff=1.49, p=0.25, logit coeff=1.56, p=0.16; logit campus_pos coeff=0.00, p=0.79; \n",
      "batch 2, cox coeff=0.79, p=0.53, logit coeff=0.73, p=0.51; logit campus_pos coeff=-0.00, p=0.82; \n",
      "batch 3, cox coeff=-3.53, p=0.01, logit coeff=-2.98, p=0.02; logit campus_pos coeff=-0.00, p=0.28; \n",
      "batch 4, cox coeff=0.80, p=0.55, logit coeff=0.41, p=0.76; logit campus_pos coeff=0.00, p=0.13; \n",
      "batch 5, cox coeff=-1.03, p=0.46, logit coeff=-1.44, p=0.31; logit campus_pos coeff=0.00, p=0.22; \n",
      "batch 6, cox coeff=0.94, p=0.44, logit coeff=1.13, p=0.35; logit campus_pos coeff=0.00, p=0.73; \n",
      "batch 7, cox coeff=-0.71, p=0.58, logit coeff=-0.14, p=0.92; logit campus_pos coeff=-0.00, p=0.71; \n",
      "batch 8, cox coeff=0.48, p=0.72, logit coeff=0.25, p=0.84; logit campus_pos coeff=-0.00, p=0.54; \n",
      "batch 9, cox coeff=-0.13, p=0.92, logit coeff=-0.26, p=0.83; logit campus_pos coeff=0.00, p=0.67; \n",
      "batch 10, cox coeff=0.85, p=0.49, logit coeff=0.85, p=0.49; logit campus_pos coeff=-0.00, p=1.00; \n",
      "batch 11, cox coeff=-0.02, p=0.99, logit coeff=0.02, p=0.99; logit campus_pos coeff=-0.00, p=0.72; \n",
      "batch 12, cox coeff=-0.75, p=0.57, logit coeff=-0.63, p=0.60; logit campus_pos coeff=-0.00, p=0.35; \n",
      "batch 13, cox coeff=0.69, p=0.59, logit coeff=1.05, p=0.41; logit campus_pos coeff=0.00, p=0.15; \n",
      "batch 14, cox coeff=0.06, p=0.97, logit coeff=-0.12, p=0.93; logit campus_pos coeff=0.00, p=0.55; \n",
      "batch 15, cox coeff=0.49, p=0.70, logit coeff=-0.00, p=1.00; logit campus_pos coeff=0.00, p=0.41; \n",
      "batch 16, cox coeff=0.41, p=0.76, logit coeff=0.42, p=0.73; logit campus_pos coeff=0.00, p=0.07; \n",
      "batch 17, cox coeff=0.29, p=0.84, logit coeff=0.26, p=0.85; logit campus_pos coeff=-0.00, p=0.26; \n",
      "batch 18, cox coeff=1.63, p=0.18, logit coeff=1.67, p=0.17; logit campus_pos coeff=0.00, p=0.62; \n",
      "batch 19, cox coeff=0.63, p=0.60, logit coeff=0.83, p=0.50; logit campus_pos coeff=-0.00, p=0.75; \n",
      "batch 20, cox coeff=-2.81, p=0.06, logit coeff=-2.30, p=0.11; logit campus_pos coeff=-0.00, p=0.80; \n",
      "batch 21, cox coeff=-0.10, p=0.94, logit coeff=0.35, p=0.79; logit campus_pos coeff=-0.00, p=0.33; \n",
      "batch 22, cox coeff=1.53, p=0.19, logit coeff=1.88, p=0.10; logit campus_pos coeff=-0.00, p=0.07; \n",
      "batch 23, cox coeff=-0.48, p=0.72, logit coeff=-0.44, p=0.75; logit campus_pos coeff=-0.00, p=0.20; \n",
      "batch 24, cox coeff=-0.99, p=0.44, logit coeff=-0.89, p=0.50; logit campus_pos coeff=0.00, p=0.71; \n"
     ]
    },
    {
     "name": "stderr",
     "output_type": "stream",
     "text": [
      "C:\\Users\\yz685\\AppData\\Roaming\\Python\\Python37\\site-packages\\lifelines\\utils\\__init__.py:1122: ConvergenceWarning: Column academic_career_VM have very low variance when conditioned on death event present or not. This may harm convergence. This could be a form of 'complete separation'. For example, try the following code:\n",
      "\n",
      ">>> events = df['infected_on_this_day'].astype(bool)\n",
      ">>> print(df.loc[events, 'academic_career_VM'].var())\n",
      ">>> print(df.loc[~events, 'academic_career_VM'].var())\n",
      "\n",
      "A very low variance means that the column academic_career_VM completely determines whether a subject dies or not. See https://stats.stackexchange.com/questions/11109/how-to-deal-with-perfect-separation-in-logistic-regression.\n",
      "\n",
      "  warnings.warn(dedent(warning_text), ConvergenceWarning)\n",
      "C:\\Users\\yz685\\AppData\\Roaming\\Python\\Python37\\site-packages\\lifelines\\fitters\\cox_time_varying_fitter.py:491: ConvergenceWarning: Newton-Raphson convergence completed but norm(delta) is still high, 0.168. This may imply non-unique solutions to the maximum likelihood. Perhaps there is colinearity or complete separation in the dataset?\n",
      "  ConvergenceWarning,\n"
     ]
    },
    {
     "name": "stdout",
     "output_type": "stream",
     "text": [
      "batch 25, cox coeff=-0.73, p=0.58, logit coeff=-0.96, p=0.44; logit campus_pos coeff=0.00, p=0.36; \n",
      "batch 26, cox coeff=0.93, p=0.45, logit coeff=1.03, p=0.35; logit campus_pos coeff=-0.00, p=0.62; \n",
      "batch 27, cox coeff=1.02, p=0.42, logit coeff=0.62, p=0.61; logit campus_pos coeff=0.00, p=0.48; \n",
      "batch 28, cox coeff=2.39, p=0.07, logit coeff=1.97, p=0.14; logit campus_pos coeff=0.00, p=0.76; \n",
      "batch 29, cox coeff=0.77, p=0.53, logit coeff=1.08, p=0.40; logit campus_pos coeff=0.00, p=0.02; \n",
      "batch 30, cox coeff=2.04, p=0.12, logit coeff=1.61, p=0.18; logit campus_pos coeff=0.00, p=0.93; \n",
      "batch 31, cox coeff=-0.93, p=0.49, logit coeff=-0.81, p=0.56; logit campus_pos coeff=0.00, p=0.98; \n",
      "batch 32, cox coeff=1.09, p=0.40, logit coeff=0.81, p=0.52; logit campus_pos coeff=-0.00, p=0.22; \n",
      "batch 33, cox coeff=0.70, p=0.58, logit coeff=0.73, p=0.59; logit campus_pos coeff=0.00, p=0.74; \n",
      "batch 34, cox coeff=0.45, p=0.73, logit coeff=0.23, p=0.85; logit campus_pos coeff=-0.00, p=0.81; \n",
      "batch 35, cox coeff=-1.22, p=0.38, logit coeff=-1.24, p=0.35; logit campus_pos coeff=-0.00, p=0.05; \n",
      "batch 36, cox coeff=1.08, p=0.40, logit coeff=1.29, p=0.34; logit campus_pos coeff=-0.00, p=0.60; \n",
      "batch 37, cox coeff=-0.17, p=0.90, logit coeff=-0.25, p=0.85; logit campus_pos coeff=0.00, p=0.47; \n",
      "batch 38, cox coeff=-0.22, p=0.87, logit coeff=0.01, p=1.00; logit campus_pos coeff=-0.00, p=0.80; \n",
      "batch 39, cox coeff=-0.06, p=0.96, logit coeff=0.04, p=0.97; logit campus_pos coeff=0.00, p=0.15; \n",
      "batch 40, cox coeff=0.56, p=0.68, logit coeff=0.03, p=0.98; logit campus_pos coeff=0.00, p=0.07; \n",
      "batch 41, cox coeff=1.31, p=0.28, logit coeff=1.87, p=0.10; logit campus_pos coeff=-0.00, p=0.68; \n",
      "batch 42, cox coeff=-0.59, p=0.65, logit coeff=-0.27, p=0.83; logit campus_pos coeff=0.00, p=0.33; \n",
      "batch 43, cox coeff=0.18, p=0.89, logit coeff=0.45, p=0.71; logit campus_pos coeff=0.00, p=0.33; \n",
      "batch 44, cox coeff=-1.25, p=0.34, logit coeff=-0.98, p=0.47; logit campus_pos coeff=-0.00, p=0.55; \n",
      "batch 45, cox coeff=1.23, p=0.34, logit coeff=0.06, p=0.96; logit campus_pos coeff=-0.00, p=0.77; \n",
      "batch 46, cox coeff=2.40, p=0.03, logit coeff=2.68, p=0.01; logit campus_pos coeff=0.00, p=0.52; \n",
      "batch 47, cox coeff=0.71, p=0.57, logit coeff=0.87, p=0.49; logit campus_pos coeff=0.00, p=0.71; \n",
      "batch 48, cox coeff=0.52, p=0.66, logit coeff=0.81, p=0.52; logit campus_pos coeff=0.00, p=0.08; \n",
      "batch 49, cox coeff=0.94, p=0.43, logit coeff=0.95, p=0.42; logit campus_pos coeff=-0.00, p=0.31; \n",
      "shape value 1.5\n",
      "batch 0, cox coeff=0.34, p=0.57, logit coeff=0.87, p=0.13; logit campus_pos coeff=0.00, p=0.00; \n",
      "batch 1, cox coeff=0.31, p=0.59, logit coeff=0.83, p=0.15; logit campus_pos coeff=0.00, p=0.00; \n",
      "batch 2, cox coeff=0.69, p=0.25, logit coeff=1.21, p=0.04; logit campus_pos coeff=0.00, p=0.01; \n",
      "batch 3, cox coeff=0.33, p=0.58, logit coeff=0.97, p=0.11; logit campus_pos coeff=0.00, p=0.04; \n",
      "batch 4, cox coeff=-0.47, p=0.45, logit coeff=0.03, p=0.95; logit campus_pos coeff=0.00, p=0.00; \n",
      "batch 5, cox coeff=0.55, p=0.35, logit coeff=1.33, p=0.02; logit campus_pos coeff=0.00, p=0.00; \n",
      "batch 6, cox coeff=0.41, p=0.48, logit coeff=1.09, p=0.05; logit campus_pos coeff=0.00, p=0.08; \n",
      "batch 7, cox coeff=0.08, p=0.90, logit coeff=0.38, p=0.52; logit campus_pos coeff=0.00, p=0.02; \n",
      "batch 8, cox coeff=-0.63, p=0.31, logit coeff=0.03, p=0.96; logit campus_pos coeff=0.00, p=0.03; \n",
      "batch 9, cox coeff=0.59, p=0.33, logit coeff=1.06, p=0.07; logit campus_pos coeff=0.00, p=0.00; \n",
      "batch 10, cox coeff=0.82, p=0.17, logit coeff=1.16, p=0.04; logit campus_pos coeff=0.00, p=0.17; \n",
      "batch 11, cox coeff=0.83, p=0.16, logit coeff=1.46, p=0.01; logit campus_pos coeff=0.00, p=0.43; \n",
      "batch 12, cox coeff=-0.24, p=0.69, logit coeff=0.51, p=0.40; logit campus_pos coeff=0.00, p=0.07; \n",
      "batch 13, cox coeff=-0.14, p=0.82, logit coeff=0.51, p=0.41; logit campus_pos coeff=0.00, p=0.01; \n",
      "batch 14, cox coeff=1.20, p=0.04, logit coeff=1.79, p=0.00; logit campus_pos coeff=0.00, p=0.01; \n",
      "batch 15, cox coeff=0.13, p=0.82, logit coeff=0.52, p=0.37; logit campus_pos coeff=0.00, p=0.02; \n",
      "batch 16, cox coeff=1.21, p=0.04, logit coeff=1.73, p=0.00; logit campus_pos coeff=0.00, p=0.01; \n",
      "batch 17, cox coeff=-0.75, p=0.23, logit coeff=-0.17, p=0.78; logit campus_pos coeff=0.00, p=0.07; \n",
      "batch 18, cox coeff=0.15, p=0.80, logit coeff=0.49, p=0.39; logit campus_pos coeff=0.00, p=0.00; \n",
      "batch 19, cox coeff=-0.24, p=0.68, logit coeff=0.55, p=0.34; logit campus_pos coeff=0.00, p=0.08; \n",
      "batch 20, cox coeff=-0.68, p=0.27, logit coeff=-0.05, p=0.94; logit campus_pos coeff=0.00, p=0.02; \n",
      "batch 21, cox coeff=0.21, p=0.72, logit coeff=0.83, p=0.20; logit campus_pos coeff=0.00, p=0.08; \n",
      "batch 22, cox coeff=0.50, p=0.39, logit coeff=1.23, p=0.03; logit campus_pos coeff=0.00, p=0.27; \n",
      "batch 23, cox coeff=-0.92, p=0.14, logit coeff=-0.44, p=0.48; logit campus_pos coeff=0.00, p=0.00; \n",
      "batch 24, cox coeff=-0.02, p=0.97, logit coeff=0.67, p=0.27; logit campus_pos coeff=0.00, p=0.00; \n",
      "batch 25, cox coeff=-0.40, p=0.50, logit coeff=0.13, p=0.83; logit campus_pos coeff=0.00, p=0.03; \n",
      "batch 26, cox coeff=-0.69, p=0.26, logit coeff=-0.28, p=0.63; logit campus_pos coeff=0.00, p=0.20; \n",
      "batch 27, cox coeff=0.43, p=0.45, logit coeff=0.97, p=0.08; logit campus_pos coeff=0.00, p=0.00; \n",
      "batch 28, cox coeff=0.21, p=0.73, logit coeff=0.66, p=0.25; logit campus_pos coeff=0.00, p=0.18; \n",
      "batch 29, cox coeff=0.05, p=0.94, logit coeff=0.71, p=0.23; logit campus_pos coeff=0.00, p=0.00; \n",
      "batch 30, cox coeff=1.08, p=0.07, logit coeff=1.59, p=0.01; logit campus_pos coeff=0.00, p=0.00; \n",
      "batch 31, cox coeff=-0.01, p=0.99, logit coeff=0.38, p=0.52; logit campus_pos coeff=0.00, p=0.00; \n",
      "batch 32, cox coeff=1.26, p=0.03, logit coeff=1.85, p=0.00; logit campus_pos coeff=0.00, p=0.04; \n",
      "batch 33, cox coeff=0.03, p=0.96, logit coeff=0.59, p=0.32; logit campus_pos coeff=0.00, p=0.48; \n",
      "batch 34, cox coeff=0.02, p=0.97, logit coeff=0.45, p=0.46; logit campus_pos coeff=0.00, p=0.00; \n",
      "batch 35, cox coeff=0.19, p=0.74, logit coeff=0.61, p=0.28; logit campus_pos coeff=0.00, p=0.69; \n",
      "batch 36, cox coeff=-0.14, p=0.82, logit coeff=0.50, p=0.42; logit campus_pos coeff=0.00, p=0.05; \n",
      "batch 37, cox coeff=0.84, p=0.15, logit coeff=1.56, p=0.01; logit campus_pos coeff=0.00, p=0.18; \n",
      "batch 38, cox coeff=-0.11, p=0.86, logit coeff=0.25, p=0.69; logit campus_pos coeff=0.00, p=0.02; \n",
      "batch 39, cox coeff=-0.20, p=0.74, logit coeff=0.51, p=0.40; logit campus_pos coeff=0.00, p=0.00; \n",
      "batch 40, cox coeff=0.12, p=0.85, logit coeff=0.79, p=0.17; logit campus_pos coeff=0.00, p=0.00; \n",
      "batch 41, cox coeff=0.82, p=0.17, logit coeff=1.47, p=0.02; logit campus_pos coeff=0.00, p=0.01; \n",
      "batch 42, cox coeff=0.62, p=0.30, logit coeff=1.30, p=0.02; logit campus_pos coeff=0.00, p=0.01; \n",
      "batch 43, cox coeff=0.09, p=0.87, logit coeff=0.59, p=0.33; logit campus_pos coeff=0.00, p=0.52; \n",
      "batch 44, cox coeff=0.03, p=0.97, logit coeff=0.50, p=0.43; logit campus_pos coeff=0.00, p=0.17; \n",
      "batch 45, cox coeff=-0.58, p=0.35, logit coeff=0.02, p=0.98; logit campus_pos coeff=0.00, p=0.00; \n",
      "batch 46, cox coeff=-0.25, p=0.66, logit coeff=0.59, p=0.31; logit campus_pos coeff=0.00, p=0.01; \n",
      "batch 47, cox coeff=-0.20, p=0.74, logit coeff=0.62, p=0.31; logit campus_pos coeff=0.00, p=0.06; \n",
      "batch 48, cox coeff=0.11, p=0.85, logit coeff=0.64, p=0.29; logit campus_pos coeff=0.00, p=0.10; \n",
      "batch 49, cox coeff=-0.45, p=0.47, logit coeff=0.18, p=0.77; logit campus_pos coeff=0.00, p=0.04; \n",
      "shape value 2\n",
      "batch 0, cox coeff=-0.16, p=0.59, logit coeff=0.82, p=0.01; logit campus_pos coeff=0.00, p=0.00; \n",
      "batch 1, cox coeff=0.16, p=0.60, logit coeff=1.03, p=0.00; logit campus_pos coeff=0.00, p=0.00; \n",
      "batch 2, cox coeff=0.28, p=0.35, logit coeff=1.18, p=0.00; logit campus_pos coeff=0.00, p=0.00; \n",
      "batch 3, cox coeff=0.43, p=0.16, logit coeff=1.44, p=0.00; logit campus_pos coeff=0.00, p=0.00; \n",
      "batch 4, cox coeff=0.13, p=0.67, logit coeff=0.97, p=0.00; logit campus_pos coeff=0.00, p=0.00; \n",
      "batch 5, cox coeff=0.74, p=0.01, logit coeff=1.69, p=0.00; logit campus_pos coeff=0.00, p=0.00; \n",
      "batch 6, cox coeff=0.05, p=0.86, logit coeff=1.02, p=0.00; logit campus_pos coeff=0.00, p=0.00; \n",
      "batch 7, cox coeff=-0.13, p=0.68, logit coeff=0.85, p=0.01; logit campus_pos coeff=0.00, p=0.00; \n",
      "batch 8, cox coeff=0.31, p=0.31, logit coeff=1.21, p=0.00; logit campus_pos coeff=0.00, p=0.00; \n",
      "batch 9, cox coeff=0.11, p=0.73, logit coeff=1.06, p=0.00; logit campus_pos coeff=0.00, p=0.00; \n",
      "batch 10, cox coeff=0.11, p=0.71, logit coeff=1.08, p=0.00; logit campus_pos coeff=0.00, p=0.00; \n",
      "batch 11, cox coeff=0.59, p=0.05, logit coeff=1.57, p=0.00; logit campus_pos coeff=0.00, p=0.00; \n",
      "batch 12, cox coeff=0.58, p=0.05, logit coeff=1.56, p=0.00; logit campus_pos coeff=0.00, p=0.01; \n",
      "batch 13, cox coeff=-0.34, p=0.28, logit coeff=0.50, p=0.11; logit campus_pos coeff=0.00, p=0.00; \n",
      "batch 14, cox coeff=0.40, p=0.19, logit coeff=1.23, p=0.00; logit campus_pos coeff=0.00, p=0.00; \n",
      "batch 15, cox coeff=-0.05, p=0.87, logit coeff=0.89, p=0.00; logit campus_pos coeff=0.00, p=0.00; \n",
      "batch 16, cox coeff=0.21, p=0.50, logit coeff=1.13, p=0.00; logit campus_pos coeff=0.00, p=0.00; \n",
      "batch 17, cox coeff=0.00, p=1.00, logit coeff=0.79, p=0.01; logit campus_pos coeff=0.00, p=0.00; \n",
      "batch 18, cox coeff=0.14, p=0.65, logit coeff=1.10, p=0.00; logit campus_pos coeff=0.00, p=0.00; \n",
      "batch 19, cox coeff=0.74, p=0.01, logit coeff=1.55, p=0.00; logit campus_pos coeff=0.00, p=0.00; \n",
      "batch 20, cox coeff=0.31, p=0.31, logit coeff=1.28, p=0.00; logit campus_pos coeff=0.00, p=0.00; \n",
      "batch 21, cox coeff=0.71, p=0.02, logit coeff=1.70, p=0.00; logit campus_pos coeff=0.00, p=0.00; \n",
      "batch 22, cox coeff=0.04, p=0.88, logit coeff=1.06, p=0.00; logit campus_pos coeff=0.00, p=0.00; \n",
      "batch 23, cox coeff=0.46, p=0.13, logit coeff=1.24, p=0.00; logit campus_pos coeff=0.00, p=0.00; \n",
      "batch 24, cox coeff=0.50, p=0.10, logit coeff=1.55, p=0.00; logit campus_pos coeff=0.00, p=0.00; \n",
      "batch 25, cox coeff=0.23, p=0.44, logit coeff=1.18, p=0.00; logit campus_pos coeff=0.00, p=0.00; \n",
      "batch 26, cox coeff=0.68, p=0.02, logit coeff=1.61, p=0.00; logit campus_pos coeff=0.00, p=0.01; \n",
      "batch 27, cox coeff=-0.05, p=0.87, logit coeff=0.86, p=0.01; logit campus_pos coeff=0.00, p=0.00; \n",
      "batch 28, cox coeff=0.51, p=0.09, logit coeff=1.31, p=0.00; logit campus_pos coeff=0.00, p=0.20; \n",
      "batch 29, cox coeff=0.34, p=0.26, logit coeff=1.30, p=0.00; logit campus_pos coeff=0.00, p=0.00; \n",
      "batch 30, cox coeff=0.06, p=0.85, logit coeff=0.90, p=0.00; logit campus_pos coeff=0.00, p=0.00; \n",
      "batch 31, cox coeff=0.13, p=0.67, logit coeff=1.23, p=0.00; logit campus_pos coeff=0.00, p=0.00; \n",
      "batch 32, cox coeff=0.35, p=0.24, logit coeff=1.20, p=0.00; logit campus_pos coeff=0.00, p=0.00; \n",
      "batch 33, cox coeff=0.15, p=0.62, logit coeff=1.22, p=0.00; logit campus_pos coeff=0.00, p=0.00; \n",
      "batch 34, cox coeff=0.60, p=0.05, logit coeff=1.52, p=0.00; logit campus_pos coeff=0.00, p=0.00; \n",
      "batch 35, cox coeff=0.05, p=0.86, logit coeff=1.00, p=0.00; logit campus_pos coeff=0.00, p=0.00; \n",
      "batch 36, cox coeff=0.52, p=0.09, logit coeff=1.42, p=0.00; logit campus_pos coeff=0.00, p=0.00; \n",
      "batch 37, cox coeff=0.46, p=0.12, logit coeff=1.46, p=0.00; logit campus_pos coeff=0.00, p=0.00; \n",
      "batch 38, cox coeff=0.66, p=0.03, logit coeff=1.56, p=0.00; logit campus_pos coeff=0.00, p=0.00; \n",
      "batch 39, cox coeff=0.69, p=0.02, logit coeff=1.61, p=0.00; logit campus_pos coeff=0.00, p=0.00; \n",
      "batch 40, cox coeff=1.09, p=0.00, logit coeff=2.05, p=0.00; logit campus_pos coeff=0.00, p=0.01; \n",
      "batch 41, cox coeff=0.58, p=0.06, logit coeff=1.44, p=0.00; logit campus_pos coeff=0.00, p=0.00; \n",
      "batch 42, cox coeff=-0.07, p=0.82, logit coeff=0.90, p=0.00; logit campus_pos coeff=0.00, p=0.00; \n",
      "batch 43, cox coeff=0.49, p=0.11, logit coeff=1.34, p=0.00; logit campus_pos coeff=0.00, p=0.00; \n",
      "batch 44, cox coeff=0.03, p=0.93, logit coeff=0.98, p=0.00; logit campus_pos coeff=0.00, p=0.00; \n",
      "batch 45, cox coeff=0.29, p=0.32, logit coeff=1.25, p=0.00; logit campus_pos coeff=0.00, p=0.00; \n",
      "batch 46, cox coeff=0.54, p=0.07, logit coeff=1.51, p=0.00; logit campus_pos coeff=0.00, p=0.00; \n",
      "batch 47, cox coeff=-0.24, p=0.43, logit coeff=0.63, p=0.04; logit campus_pos coeff=0.00, p=0.00; \n",
      "batch 48, cox coeff=0.07, p=0.82, logit coeff=0.90, p=0.01; logit campus_pos coeff=0.00, p=0.00; \n",
      "batch 49, cox coeff=-0.04, p=0.89, logit coeff=0.86, p=0.01; logit campus_pos coeff=0.00, p=0.00; \n"
     ]
    }
   ],
   "source": [
    "# sampling class positivity from a distribution with a different mean every day\n",
    "\n",
    "logit_res = defaultdict(list)\n",
    "cox_res = defaultdict(list)\n",
    "classpos_time_corr = defaultdict(list)\n",
    "\n",
    "for shape_val in [0.5, 1.0, 1.5, 2]:\n",
    "    print(\"shape value\", shape_val)\n",
    "    for batch in range(50):\n",
    "        sim_data = pd.read_csv(\n",
    "            # f\"../data/simulation/SampledFeature=cp_OutcomeGenenerator=cox_shape={shape_val}_batch={batch}.csv\",\n",
    "            f\"../data/simulation/SampledFeature=cp_OutcomeGenenerator=cox_scale=0.001_shape={shape_val}_batch={batch}.csv\",\n",
    "            # f\"../data/simulation/SampledFeature=cp_sampling=aggregate_OutcomeGenenerator=cox_scale=0.001_shape={shape_val}_batch={batch}.csv\",\n",
    "            index_col=0\n",
    "        )\n",
    "\n",
    "        ctv = sim.fit_cox(sim_data)\n",
    "        ctv_lower, ctv_upper = ctv.confidence_intervals_.values[0]\n",
    "        cox_res[shape_val].append(\n",
    "            {\"coef\": ctv.params_[\"class_positivity\"], \n",
    "            \"p-value\": ctv._compute_p_values()[0],\n",
    "            \"coverage\": TRUE_COEF >= ctv_lower and TRUE_COEF <= ctv_upper}\n",
    "        )\n",
    "\n",
    "        sim_data[\"week_idx\"] = sim_data[\"day_idx\"] // 7\n",
    "        logit = sim.fit_logistic(sim_data)\n",
    "        logit_lower, logit_upper = logit.conf_int().loc[\"class_positivity\"].values\n",
    "        logit_res[shape_val].append(\n",
    "            {\"coef\": logit._results.params[-2],\n",
    "            \"p-value\": logit.pvalues[\"class_positivity\"],\n",
    "            \"coverage\": TRUE_COEF >= logit_lower and TRUE_COEF <= logit_upper}\n",
    "        )\n",
    "\n",
    "        corr = sim_data.corr()\n",
    "        classpos_time_corr[shape_val].append(corr['class_positivity']['day_idx'])\n",
    "\n",
    "        print(\n",
    "            f\"batch {batch}, cox coeff={ctv.params_['class_positivity']:.2f}, p={ctv._compute_p_values()[0]:.2f}, logit coeff={logit._results.params[-2]:.2f}, p={logit.pvalues['class_positivity']:.2f}; \"\n",
    "            f\"logit campus_pos coeff={logit._results.params[-1]:.2f}, p={logit.pvalues['campus_positivity']:.2f}; \")\n",
    "\n",
    "        setting = \"SampledFeature=cp_sampling=byday_OutcomeGenenerator=cox_scale=0.001\"\n",
    "        with open (\"logit_res_\" + setting + \".pkl\", \"wb\") as f:\n",
    "            pickle.dump(logit_res, f)\n",
    "        with open (\"cox_res_\" + setting + \".pkl\", \"wb\") as f:\n",
    "            pickle.dump(cox_res, f)\n",
    "        with open(\"classpos_time_corr\" + setting + \".pkl\", \"wb\") as f:\n",
    "            pickle.dump(classpos_time_corr, f)\n",
    "            \n"
   ]
  },
  {
   "cell_type": "code",
   "execution_count": 160,
   "metadata": {},
   "outputs": [],
   "source": [
    "settings = {\n",
    "    \"aggregate\": \"SampledFeature=cp_sampling=aggregate_OutcomeGenenerator=cox_scale=0.001\",\n",
    "    \"byday\": \"SampledFeature=cp_sampling=byday_OutcomeGenenerator=cox_scale=0.001\"\n",
    "}\n",
    "\n",
    "loaded_logit_res = {}\n",
    "loaded_cox_res = {}\n",
    "loaded_classpos_time_corr = {}\n",
    "\n",
    "for s in [\"aggregate\", \"byday\"]:\n",
    "\n",
    "    with open (\"logit_res_\" + settings[s] + \".pkl\", \"rb\") as f:\n",
    "        loaded_logit_res[s] = pickle.load(f)\n",
    "    with open (\"cox_res_\" + settings[s] + \".pkl\", \"rb\") as f:\n",
    "        loaded_cox_res[s] = pickle.load(f)\n",
    "    with open (\"classpos_time_corr\" + settings[s] + \".pkl\", \"rb\") as f:\n",
    "        loaded_classpos_time_corr[s] = pickle.load(f)"
   ]
  },
  {
   "cell_type": "code",
   "execution_count": 161,
   "metadata": {},
   "outputs": [],
   "source": [
    "logit_stats = defaultdict(list)\n",
    "cox_stats = defaultdict(list)\n",
    "\n",
    "for sampling in [\"aggregate\", \"byday\"]:\n",
    "    for shape in [0.5, 1.0, 1.5, 2.0]:\n",
    "        df_ = pd.DataFrame(loaded_logit_res[sampling][shape])\n",
    "        df_[\"bias\"] = df_[\"coef\"] - 0.27\n",
    "        df_[\"bias_sq\"] = df_[\"bias\"]**2\n",
    "        df_agg = df_.aggregate([\"mean\",\"std\",\"sem\"])\n",
    "\n",
    "        logit_stats[sampling].append({\n",
    "            \"shape\": shape,\n",
    "            \"coef_mean\": df_agg[\"coef\"][\"mean\"],\n",
    "            \"coef_sem\": df_agg[\"coef\"][\"sem\"], \n",
    "            \"CI_coverage\": df_agg[\"coverage\"][\"mean\"], \n",
    "            \"bias\": df_agg[\"bias\"][\"mean\"], \n",
    "            \"bias_sq\": df_agg[\"bias_sq\"][\"mean\"]\n",
    "        })\n",
    "\n",
    "        df_ = pd.DataFrame(loaded_cox_res[sampling][shape])\n",
    "        df_[\"bias\"] = df_[\"coef\"] - 0.27\n",
    "        df_[\"bias_sq\"] = df_[\"bias\"]**2\n",
    "        df_agg = df_.aggregate([\"mean\",\"std\",\"sem\"])\n",
    "\n",
    "        cox_stats[sampling].append({\n",
    "            \"shape\": shape,\n",
    "            \"coef_mean\": df_agg[\"coef\"][\"mean\"],\n",
    "            \"coef_sem\": df_agg[\"coef\"][\"sem\"], \n",
    "            \"CI_coverage\": df_agg[\"coverage\"][\"mean\"], \n",
    "            \"bias\": df_agg[\"bias\"][\"mean\"], \n",
    "            \"bias_sq\": df_agg[\"bias_sq\"][\"mean\"]\n",
    "        })\n",
    "\n",
    "\n",
    "         "
   ]
  },
  {
   "cell_type": "code",
   "execution_count": 173,
   "metadata": {},
   "outputs": [
    {
     "data": {
      "text/html": [
       "<div>\n",
       "<style scoped>\n",
       "    .dataframe tbody tr th:only-of-type {\n",
       "        vertical-align: middle;\n",
       "    }\n",
       "\n",
       "    .dataframe tbody tr th {\n",
       "        vertical-align: top;\n",
       "    }\n",
       "\n",
       "    .dataframe thead th {\n",
       "        text-align: right;\n",
       "    }\n",
       "</style>\n",
       "<table border=\"1\" class=\"dataframe\">\n",
       "  <thead>\n",
       "    <tr style=\"text-align: right;\">\n",
       "      <th></th>\n",
       "      <th>shape</th>\n",
       "      <th>coef_mean</th>\n",
       "      <th>coef_sem</th>\n",
       "      <th>CI_coverage</th>\n",
       "      <th>bias</th>\n",
       "      <th>bias_sq</th>\n",
       "      <th>model</th>\n",
       "    </tr>\n",
       "  </thead>\n",
       "  <tbody>\n",
       "    <tr>\n",
       "      <th>0</th>\n",
       "      <td>0.5</td>\n",
       "      <td>0.109837</td>\n",
       "      <td>0.372707</td>\n",
       "      <td>0.98</td>\n",
       "      <td>-0.160163</td>\n",
       "      <td>6.832272</td>\n",
       "      <td>cox</td>\n",
       "    </tr>\n",
       "    <tr>\n",
       "      <th>1</th>\n",
       "      <td>1.0</td>\n",
       "      <td>0.436017</td>\n",
       "      <td>0.194462</td>\n",
       "      <td>0.94</td>\n",
       "      <td>0.166017</td>\n",
       "      <td>1.880514</td>\n",
       "      <td>cox</td>\n",
       "    </tr>\n",
       "    <tr>\n",
       "      <th>2</th>\n",
       "      <td>1.5</td>\n",
       "      <td>0.290355</td>\n",
       "      <td>0.098291</td>\n",
       "      <td>0.98</td>\n",
       "      <td>0.020355</td>\n",
       "      <td>0.473810</td>\n",
       "      <td>cox</td>\n",
       "    </tr>\n",
       "    <tr>\n",
       "      <th>3</th>\n",
       "      <td>2.0</td>\n",
       "      <td>0.330368</td>\n",
       "      <td>0.048882</td>\n",
       "      <td>0.96</td>\n",
       "      <td>0.060368</td>\n",
       "      <td>0.120729</td>\n",
       "      <td>cox</td>\n",
       "    </tr>\n",
       "    <tr>\n",
       "      <th>0</th>\n",
       "      <td>0.5</td>\n",
       "      <td>0.109977</td>\n",
       "      <td>0.372863</td>\n",
       "      <td>0.98</td>\n",
       "      <td>-0.160023</td>\n",
       "      <td>6.837905</td>\n",
       "      <td>logistic</td>\n",
       "    </tr>\n",
       "    <tr>\n",
       "      <th>1</th>\n",
       "      <td>1.0</td>\n",
       "      <td>0.436388</td>\n",
       "      <td>0.194607</td>\n",
       "      <td>0.94</td>\n",
       "      <td>0.166388</td>\n",
       "      <td>1.883400</td>\n",
       "      <td>logistic</td>\n",
       "    </tr>\n",
       "    <tr>\n",
       "      <th>2</th>\n",
       "      <td>1.5</td>\n",
       "      <td>0.290679</td>\n",
       "      <td>0.098409</td>\n",
       "      <td>0.98</td>\n",
       "      <td>0.020679</td>\n",
       "      <td>0.474957</td>\n",
       "      <td>logistic</td>\n",
       "    </tr>\n",
       "    <tr>\n",
       "      <th>3</th>\n",
       "      <td>2.0</td>\n",
       "      <td>0.330122</td>\n",
       "      <td>0.048747</td>\n",
       "      <td>0.96</td>\n",
       "      <td>0.060122</td>\n",
       "      <td>0.120052</td>\n",
       "      <td>logistic</td>\n",
       "    </tr>\n",
       "  </tbody>\n",
       "</table>\n",
       "</div>"
      ],
      "text/plain": [
       "   shape  coef_mean  coef_sem  CI_coverage      bias   bias_sq     model\n",
       "0    0.5   0.109837  0.372707         0.98 -0.160163  6.832272       cox\n",
       "1    1.0   0.436017  0.194462         0.94  0.166017  1.880514       cox\n",
       "2    1.5   0.290355  0.098291         0.98  0.020355  0.473810       cox\n",
       "3    2.0   0.330368  0.048882         0.96  0.060368  0.120729       cox\n",
       "0    0.5   0.109977  0.372863         0.98 -0.160023  6.837905  logistic\n",
       "1    1.0   0.436388  0.194607         0.94  0.166388  1.883400  logistic\n",
       "2    1.5   0.290679  0.098409         0.98  0.020679  0.474957  logistic\n",
       "3    2.0   0.330122  0.048747         0.96  0.060122  0.120052  logistic"
      ]
     },
     "execution_count": 173,
     "metadata": {},
     "output_type": "execute_result"
    }
   ],
   "source": [
    "df_l = pd.DataFrame(logit_stats[\"aggregate\"])\n",
    "df_l[\"model\"] = \"logistic\"\n",
    "\n",
    "df_c = pd.DataFrame(cox_stats[\"aggregate\"])\n",
    "df_c[\"model\"] = \"cox\"\n",
    "\n",
    "df_cl = pd.concat([df_c, df_l])\n",
    "df_cl"
   ]
  },
  {
   "cell_type": "code",
   "execution_count": 174,
   "metadata": {},
   "outputs": [
    {
     "data": {
      "text/html": [
       "<div>\n",
       "<style scoped>\n",
       "    .dataframe tbody tr th:only-of-type {\n",
       "        vertical-align: middle;\n",
       "    }\n",
       "\n",
       "    .dataframe tbody tr th {\n",
       "        vertical-align: top;\n",
       "    }\n",
       "\n",
       "    .dataframe thead th {\n",
       "        text-align: right;\n",
       "    }\n",
       "</style>\n",
       "<table border=\"1\" class=\"dataframe\">\n",
       "  <thead>\n",
       "    <tr style=\"text-align: right;\">\n",
       "      <th></th>\n",
       "      <th>shape</th>\n",
       "      <th>coef_mean</th>\n",
       "      <th>coef_sem</th>\n",
       "      <th>CI_coverage</th>\n",
       "      <th>bias</th>\n",
       "      <th>bias_sq</th>\n",
       "      <th>model</th>\n",
       "    </tr>\n",
       "  </thead>\n",
       "  <tbody>\n",
       "    <tr>\n",
       "      <th>0</th>\n",
       "      <td>0.5</td>\n",
       "      <td>0.067122</td>\n",
       "      <td>0.458096</td>\n",
       "      <td>0.96</td>\n",
       "      <td>-0.202878</td>\n",
       "      <td>10.323886</td>\n",
       "      <td>cox</td>\n",
       "    </tr>\n",
       "    <tr>\n",
       "      <th>1</th>\n",
       "      <td>1.0</td>\n",
       "      <td>0.310221</td>\n",
       "      <td>0.163327</td>\n",
       "      <td>0.96</td>\n",
       "      <td>0.040221</td>\n",
       "      <td>1.308732</td>\n",
       "      <td>cox</td>\n",
       "    </tr>\n",
       "    <tr>\n",
       "      <th>2</th>\n",
       "      <td>1.5</td>\n",
       "      <td>0.142331</td>\n",
       "      <td>0.075528</td>\n",
       "      <td>1.00</td>\n",
       "      <td>-0.127669</td>\n",
       "      <td>0.295818</td>\n",
       "      <td>cox</td>\n",
       "    </tr>\n",
       "    <tr>\n",
       "      <th>3</th>\n",
       "      <td>2.0</td>\n",
       "      <td>0.288846</td>\n",
       "      <td>0.042812</td>\n",
       "      <td>0.98</td>\n",
       "      <td>0.018846</td>\n",
       "      <td>0.090164</td>\n",
       "      <td>cox</td>\n",
       "    </tr>\n",
       "    <tr>\n",
       "      <th>0</th>\n",
       "      <td>0.5</td>\n",
       "      <td>-0.793894</td>\n",
       "      <td>0.442724</td>\n",
       "      <td>0.94</td>\n",
       "      <td>-1.063894</td>\n",
       "      <td>10.736092</td>\n",
       "      <td>logistic</td>\n",
       "    </tr>\n",
       "    <tr>\n",
       "      <th>1</th>\n",
       "      <td>1.0</td>\n",
       "      <td>0.336570</td>\n",
       "      <td>0.155345</td>\n",
       "      <td>0.96</td>\n",
       "      <td>0.066570</td>\n",
       "      <td>1.186899</td>\n",
       "      <td>logistic</td>\n",
       "    </tr>\n",
       "    <tr>\n",
       "      <th>2</th>\n",
       "      <td>1.5</td>\n",
       "      <td>0.715266</td>\n",
       "      <td>0.077261</td>\n",
       "      <td>0.86</td>\n",
       "      <td>0.445266</td>\n",
       "      <td>0.490753</td>\n",
       "      <td>logistic</td>\n",
       "    </tr>\n",
       "    <tr>\n",
       "      <th>3</th>\n",
       "      <td>2.0</td>\n",
       "      <td>1.214583</td>\n",
       "      <td>0.044219</td>\n",
       "      <td>0.16</td>\n",
       "      <td>0.944583</td>\n",
       "      <td>0.988045</td>\n",
       "      <td>logistic</td>\n",
       "    </tr>\n",
       "  </tbody>\n",
       "</table>\n",
       "</div>"
      ],
      "text/plain": [
       "   shape  coef_mean  coef_sem  CI_coverage      bias    bias_sq     model\n",
       "0    0.5   0.067122  0.458096         0.96 -0.202878  10.323886       cox\n",
       "1    1.0   0.310221  0.163327         0.96  0.040221   1.308732       cox\n",
       "2    1.5   0.142331  0.075528         1.00 -0.127669   0.295818       cox\n",
       "3    2.0   0.288846  0.042812         0.98  0.018846   0.090164       cox\n",
       "0    0.5  -0.793894  0.442724         0.94 -1.063894  10.736092  logistic\n",
       "1    1.0   0.336570  0.155345         0.96  0.066570   1.186899  logistic\n",
       "2    1.5   0.715266  0.077261         0.86  0.445266   0.490753  logistic\n",
       "3    2.0   1.214583  0.044219         0.16  0.944583   0.988045  logistic"
      ]
     },
     "execution_count": 174,
     "metadata": {},
     "output_type": "execute_result"
    }
   ],
   "source": [
    "df_l = pd.DataFrame(logit_stats[\"byday\"])\n",
    "df_l[\"model\"] = \"logistic\"\n",
    "\n",
    "df_c = pd.DataFrame(cox_stats[\"byday\"])\n",
    "df_c[\"model\"] = \"cox\"\n",
    "\n",
    "df_cl = pd.concat([df_c, df_l])\n",
    "df_cl"
   ]
  },
  {
   "cell_type": "code",
   "execution_count": 163,
   "metadata": {},
   "outputs": [
    {
     "data": {
      "text/html": [
       "<div>\n",
       "<style scoped>\n",
       "    .dataframe tbody tr th:only-of-type {\n",
       "        vertical-align: middle;\n",
       "    }\n",
       "\n",
       "    .dataframe tbody tr th {\n",
       "        vertical-align: top;\n",
       "    }\n",
       "\n",
       "    .dataframe thead th {\n",
       "        text-align: right;\n",
       "    }\n",
       "</style>\n",
       "<table border=\"1\" class=\"dataframe\">\n",
       "  <thead>\n",
       "    <tr style=\"text-align: right;\">\n",
       "      <th></th>\n",
       "      <th>shape</th>\n",
       "      <th>coef_mean</th>\n",
       "      <th>coef_sem</th>\n",
       "      <th>CI_coverage</th>\n",
       "      <th>bias</th>\n",
       "      <th>bias_sq</th>\n",
       "    </tr>\n",
       "  </thead>\n",
       "  <tbody>\n",
       "    <tr>\n",
       "      <th>0</th>\n",
       "      <td>0.5</td>\n",
       "      <td>-0.793894</td>\n",
       "      <td>0.442724</td>\n",
       "      <td>0.94</td>\n",
       "      <td>-1.063894</td>\n",
       "      <td>10.736092</td>\n",
       "    </tr>\n",
       "    <tr>\n",
       "      <th>1</th>\n",
       "      <td>1.0</td>\n",
       "      <td>0.336570</td>\n",
       "      <td>0.155345</td>\n",
       "      <td>0.96</td>\n",
       "      <td>0.066570</td>\n",
       "      <td>1.186899</td>\n",
       "    </tr>\n",
       "    <tr>\n",
       "      <th>2</th>\n",
       "      <td>1.5</td>\n",
       "      <td>0.715266</td>\n",
       "      <td>0.077261</td>\n",
       "      <td>0.86</td>\n",
       "      <td>0.445266</td>\n",
       "      <td>0.490753</td>\n",
       "    </tr>\n",
       "    <tr>\n",
       "      <th>3</th>\n",
       "      <td>2.0</td>\n",
       "      <td>1.214583</td>\n",
       "      <td>0.044219</td>\n",
       "      <td>0.16</td>\n",
       "      <td>0.944583</td>\n",
       "      <td>0.988045</td>\n",
       "    </tr>\n",
       "  </tbody>\n",
       "</table>\n",
       "</div>"
      ],
      "text/plain": [
       "   shape  coef_mean  coef_sem  CI_coverage      bias    bias_sq\n",
       "0    0.5  -0.793894  0.442724         0.94 -1.063894  10.736092\n",
       "1    1.0   0.336570  0.155345         0.96  0.066570   1.186899\n",
       "2    1.5   0.715266  0.077261         0.86  0.445266   0.490753\n",
       "3    2.0   1.214583  0.044219         0.16  0.944583   0.988045"
      ]
     },
     "execution_count": 163,
     "metadata": {},
     "output_type": "execute_result"
    }
   ],
   "source": [
    "pd.DataFrame(logit_stats[\"byday\"])"
   ]
  },
  {
   "cell_type": "code",
   "execution_count": 164,
   "metadata": {},
   "outputs": [
    {
     "data": {
      "text/html": [
       "<div>\n",
       "<style scoped>\n",
       "    .dataframe tbody tr th:only-of-type {\n",
       "        vertical-align: middle;\n",
       "    }\n",
       "\n",
       "    .dataframe tbody tr th {\n",
       "        vertical-align: top;\n",
       "    }\n",
       "\n",
       "    .dataframe thead th {\n",
       "        text-align: right;\n",
       "    }\n",
       "</style>\n",
       "<table border=\"1\" class=\"dataframe\">\n",
       "  <thead>\n",
       "    <tr style=\"text-align: right;\">\n",
       "      <th></th>\n",
       "      <th>shape</th>\n",
       "      <th>coef_mean</th>\n",
       "      <th>coef_sem</th>\n",
       "      <th>CI_coverage</th>\n",
       "      <th>bias</th>\n",
       "      <th>bias_sq</th>\n",
       "    </tr>\n",
       "  </thead>\n",
       "  <tbody>\n",
       "    <tr>\n",
       "      <th>0</th>\n",
       "      <td>0.5</td>\n",
       "      <td>0.109837</td>\n",
       "      <td>0.372707</td>\n",
       "      <td>0.98</td>\n",
       "      <td>-0.160163</td>\n",
       "      <td>6.832272</td>\n",
       "    </tr>\n",
       "    <tr>\n",
       "      <th>1</th>\n",
       "      <td>1.0</td>\n",
       "      <td>0.436017</td>\n",
       "      <td>0.194462</td>\n",
       "      <td>0.94</td>\n",
       "      <td>0.166017</td>\n",
       "      <td>1.880514</td>\n",
       "    </tr>\n",
       "    <tr>\n",
       "      <th>2</th>\n",
       "      <td>1.5</td>\n",
       "      <td>0.290355</td>\n",
       "      <td>0.098291</td>\n",
       "      <td>0.98</td>\n",
       "      <td>0.020355</td>\n",
       "      <td>0.473810</td>\n",
       "    </tr>\n",
       "    <tr>\n",
       "      <th>3</th>\n",
       "      <td>2.0</td>\n",
       "      <td>0.330368</td>\n",
       "      <td>0.048882</td>\n",
       "      <td>0.96</td>\n",
       "      <td>0.060368</td>\n",
       "      <td>0.120729</td>\n",
       "    </tr>\n",
       "  </tbody>\n",
       "</table>\n",
       "</div>"
      ],
      "text/plain": [
       "   shape  coef_mean  coef_sem  CI_coverage      bias   bias_sq\n",
       "0    0.5   0.109837  0.372707         0.98 -0.160163  6.832272\n",
       "1    1.0   0.436017  0.194462         0.94  0.166017  1.880514\n",
       "2    1.5   0.290355  0.098291         0.98  0.020355  0.473810\n",
       "3    2.0   0.330368  0.048882         0.96  0.060368  0.120729"
      ]
     },
     "execution_count": 164,
     "metadata": {},
     "output_type": "execute_result"
    }
   ],
   "source": [
    "pd.DataFrame(cox_stats[\"aggregate\"])"
   ]
  },
  {
   "cell_type": "code",
   "execution_count": 165,
   "metadata": {},
   "outputs": [
    {
     "data": {
      "text/html": [
       "<div>\n",
       "<style scoped>\n",
       "    .dataframe tbody tr th:only-of-type {\n",
       "        vertical-align: middle;\n",
       "    }\n",
       "\n",
       "    .dataframe tbody tr th {\n",
       "        vertical-align: top;\n",
       "    }\n",
       "\n",
       "    .dataframe thead th {\n",
       "        text-align: right;\n",
       "    }\n",
       "</style>\n",
       "<table border=\"1\" class=\"dataframe\">\n",
       "  <thead>\n",
       "    <tr style=\"text-align: right;\">\n",
       "      <th></th>\n",
       "      <th>shape</th>\n",
       "      <th>coef_mean</th>\n",
       "      <th>coef_sem</th>\n",
       "      <th>CI_coverage</th>\n",
       "      <th>bias</th>\n",
       "      <th>bias_sq</th>\n",
       "    </tr>\n",
       "  </thead>\n",
       "  <tbody>\n",
       "    <tr>\n",
       "      <th>0</th>\n",
       "      <td>0.5</td>\n",
       "      <td>0.067122</td>\n",
       "      <td>0.458096</td>\n",
       "      <td>0.96</td>\n",
       "      <td>-0.202878</td>\n",
       "      <td>10.323886</td>\n",
       "    </tr>\n",
       "    <tr>\n",
       "      <th>1</th>\n",
       "      <td>1.0</td>\n",
       "      <td>0.310221</td>\n",
       "      <td>0.163327</td>\n",
       "      <td>0.96</td>\n",
       "      <td>0.040221</td>\n",
       "      <td>1.308732</td>\n",
       "    </tr>\n",
       "    <tr>\n",
       "      <th>2</th>\n",
       "      <td>1.5</td>\n",
       "      <td>0.142331</td>\n",
       "      <td>0.075528</td>\n",
       "      <td>1.00</td>\n",
       "      <td>-0.127669</td>\n",
       "      <td>0.295818</td>\n",
       "    </tr>\n",
       "    <tr>\n",
       "      <th>3</th>\n",
       "      <td>2.0</td>\n",
       "      <td>0.288846</td>\n",
       "      <td>0.042812</td>\n",
       "      <td>0.98</td>\n",
       "      <td>0.018846</td>\n",
       "      <td>0.090164</td>\n",
       "    </tr>\n",
       "  </tbody>\n",
       "</table>\n",
       "</div>"
      ],
      "text/plain": [
       "   shape  coef_mean  coef_sem  CI_coverage      bias    bias_sq\n",
       "0    0.5   0.067122  0.458096         0.96 -0.202878  10.323886\n",
       "1    1.0   0.310221  0.163327         0.96  0.040221   1.308732\n",
       "2    1.5   0.142331  0.075528         1.00 -0.127669   0.295818\n",
       "3    2.0   0.288846  0.042812         0.98  0.018846   0.090164"
      ]
     },
     "execution_count": 165,
     "metadata": {},
     "output_type": "execute_result"
    }
   ],
   "source": [
    "pd.DataFrame(cox_stats[\"byday\"])"
   ]
  },
  {
   "cell_type": "code",
   "execution_count": 166,
   "metadata": {},
   "outputs": [],
   "source": [
    "import matplotlib.pyplot as plt"
   ]
  },
  {
   "cell_type": "code",
   "execution_count": 176,
   "metadata": {},
   "outputs": [
    {
     "data": {
      "image/png": "[encoded data removed]",
      "text/plain": [
       "<Figure size 1000x350 with 2 Axes>"
      ]
     },
     "metadata": {},
     "output_type": "display_data"
    }
   ],
   "source": [
    "plt.rcParams[\"font.family\"] = 'serif'\n",
    "fig, axs = plt.subplots(1,2,figsize=(10,3.5),constrained_layout=True)\n",
    "\n",
    "title_mappings = {\n",
    "    \"aggregate\": \"Time-invariant\",\n",
    "    \"byday\": \"Time-dependent\"\n",
    "}\n",
    "\n",
    "\n",
    "for i, sampling in enumerate([\"byday\", \"aggregate\"]):\n",
    "\n",
    "    df_ = pd.DataFrame(cox_stats[sampling])\n",
    "    axs[i].errorbar(\n",
    "        df_[\"shape\"], df_[\"coef_mean\"], yerr=1.96*df_[\"coef_sem\"],fmt=\"o\", capsize=3, label=\"cox\"\n",
    "    )\n",
    "\n",
    "    df_ = pd.DataFrame(logit_stats[sampling])\n",
    "    axs[i].errorbar(\n",
    "        df_[\"shape\"] + 0.05, df_[\"coef_mean\"], yerr=1.96*df_[\"coef_sem\"],fmt=\"^\", capsize=3, label=\"logistic\"\n",
    "    )\n",
    "\n",
    "    axs[i].hlines(0.27, 0.4, 2.1, colors=\"grey\", linestyles=\"dashed\")\n",
    "\n",
    "    axs[i].set_xticks([0.5, 1.0, 1.5, 2.0])\n",
    "    axs[i].set_title(title_mappings[sampling] + \" $\\it{ClassExposure}$\", fontsize=15)\n",
    "    axs[i].legend(loc=\"lower right\")\n",
    "    axs[i].set_xlabel(\"Shape ${\\\\nu}$\", fontsize=13)\n",
    "    axs[i].set_ylabel(\"Estimated coefficient\", fontsize=13)\n",
    "    axs[i].set_ylim(-2.0, 1.5)\n",
    "\n",
    "plt.savefig(\"../plots/simulation.pdf\")"
   ]
  },
  {
   "cell_type": "code",
   "execution_count": null,
   "metadata": {},
   "outputs": [
    {
     "data": {
      "text/plain": [
       "defaultdict(list,\n",
       "            {0.5: [{'coef': -2.336672396678648,\n",
       "               'p-value': 0.33539335801105863,\n",
       "               'coverage': True}],\n",
       "             1.0: [{'coef': -0.1432608568509429,\n",
       "               'p-value': 0.9004385394485179,\n",
       "               'coverage': True}],\n",
       "             1.5: [{'coef': 0.2078305020593834,\n",
       "               'p-value': 0.7478800210776722,\n",
       "               'coverage': True}],\n",
       "             2: [{'coef': 0.35564616816661865,\n",
       "               'p-value': 0.2997295991772331,\n",
       "               'coverage': True}]})"
      ]
     },
     "metadata": {},
     "output_type": "display_data"
    }
   ],
   "source": [
    "logit_res"
   ]
  },
  {
   "cell_type": "code",
   "execution_count": 70,
   "metadata": {},
   "outputs": [],
   "source": [
    "df_ = pd.DataFrame(loaded_logit_res[\"aggregate\"][0.5])\n",
    "df_[\"bias\"] = df_[\"coef\"] - 0.27\n",
    "df_[\"bias_sq\"] = df_[\"bias\"]**2\n"
   ]
  },
  {
   "cell_type": "code",
   "execution_count": 73,
   "metadata": {},
   "outputs": [
    {
     "data": {
      "text/html": [
       "<div>\n",
       "<style scoped>\n",
       "    .dataframe tbody tr th:only-of-type {\n",
       "        vertical-align: middle;\n",
       "    }\n",
       "\n",
       "    .dataframe tbody tr th {\n",
       "        vertical-align: top;\n",
       "    }\n",
       "\n",
       "    .dataframe thead th {\n",
       "        text-align: right;\n",
       "    }\n",
       "</style>\n",
       "<table border=\"1\" class=\"dataframe\">\n",
       "  <thead>\n",
       "    <tr style=\"text-align: right;\">\n",
       "      <th></th>\n",
       "      <th>coef</th>\n",
       "      <th>p-value</th>\n",
       "      <th>coverage</th>\n",
       "      <th>bias</th>\n",
       "      <th>bias_sq</th>\n",
       "    </tr>\n",
       "  </thead>\n",
       "  <tbody>\n",
       "    <tr>\n",
       "      <th>mean</th>\n",
       "      <td>-0.572790</td>\n",
       "      <td>0.512953</td>\n",
       "      <td>1.0</td>\n",
       "      <td>-0.842790</td>\n",
       "      <td>7.114084</td>\n",
       "    </tr>\n",
       "    <tr>\n",
       "      <th>std</th>\n",
       "      <td>2.582753</td>\n",
       "      <td>0.333330</td>\n",
       "      <td>0.0</td>\n",
       "      <td>2.582753</td>\n",
       "      <td>8.247334</td>\n",
       "    </tr>\n",
       "    <tr>\n",
       "      <th>sem</th>\n",
       "      <td>0.516551</td>\n",
       "      <td>0.066666</td>\n",
       "      <td>0.0</td>\n",
       "      <td>0.516551</td>\n",
       "      <td>1.649467</td>\n",
       "    </tr>\n",
       "  </tbody>\n",
       "</table>\n",
       "</div>"
      ],
      "text/plain": [
       "          coef   p-value  coverage      bias   bias_sq\n",
       "mean -0.572790  0.512953       1.0 -0.842790  7.114084\n",
       "std   2.582753  0.333330       0.0  2.582753  8.247334\n",
       "sem   0.516551  0.066666       0.0  0.516551  1.649467"
      ]
     },
     "execution_count": 73,
     "metadata": {},
     "output_type": "execute_result"
    }
   ],
   "source": [
    "df_agg = df_.aggregate([\"mean\",\"std\",\"sem\"])\n",
    "df_agg"
   ]
  },
  {
   "cell_type": "code",
   "execution_count": 149,
   "metadata": {},
   "outputs": [],
   "source": [
    "def hazard(shape, scale=0.001):\n",
    "    x = np.arange(1,15)\n",
    "    y = scale * shape * x**(shape-1)\n",
    "    return y"
   ]
  },
  {
   "cell_type": "code",
   "execution_count": 189,
   "metadata": {},
   "outputs": [
    {
     "data": {
      "image/png": "[encoded data removed]",
      "text/plain": [
       "<Figure size 800x500 with 1 Axes>"
      ]
     },
     "metadata": {},
     "output_type": "display_data"
    }
   ],
   "source": [
    "plt.figure(figsize=(8,5))\n",
    "\n",
    "for shape in [0.5, 1.0, 1.5, 2.0]:\n",
    "    plt.plot(hazard(shape), label=\"shape=\"+str(shape))\n",
    "\n",
    "# plt.yscale(\"log\")\n",
    "plt.xlabel(\"Day $t$\", fontsize=12)\n",
    "plt.ylabel(\"Baseline hazard $h_0(t)$\", fontsize=12)\n",
    "plt.legend(fontsize=12)\n",
    "plt.title(\"Simulated baseline hazard\", fontsize=15)\n",
    "\n",
    "plt.savefig(\"../plots/simulated_baseline_hazard.pdf\")"
   ]
  },
  {
   "cell_type": "code",
   "execution_count": null,
   "metadata": {},
   "outputs": [],
   "source": []
  }
 ],
 "metadata": {
  "kernelspec": {
   "display_name": "Python 3",
   "language": "python",
   "name": "python3"
  },
  "language_info": {
   "codemirror_mode": {
    "name": "ipython",
    "version": 3
   },
   "file_extension": ".py",
   "mimetype": "text/x-python",
   "name": "python",
   "nbconvert_exporter": "python",
   "pygments_lexer": "ipython3",
   "version": "3.7.3"
  }
 },
 "nbformat": 4,
 "nbformat_minor": 2
}
